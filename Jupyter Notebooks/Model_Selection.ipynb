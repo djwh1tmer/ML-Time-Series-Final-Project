{
 "cells": [
  {
   "cell_type": "markdown",
   "id": "e0d5d5cb-0d52-416c-95c7-7e777cfbd16a",
   "metadata": {},
   "source": [
    "# Model Selection and Implementation - Wheat Pricing Data\n",
    "## Time Series and Machine Learning Final Project Code\n",
    "## Will Bartlett and David Whitmer"
   ]
  },
  {
   "cell_type": "code",
   "execution_count": 145,
   "id": "049175c2-7c58-422d-8844-f82b3260a3e6",
   "metadata": {},
   "outputs": [],
   "source": [
    "#import libraries\n",
    "import pandas as pd\n",
    "import numpy as np\n",
    "import warnings\n",
    "warnings.filterwarnings('ignore')\n",
    "from statsmodels.tools.sm_exceptions import ConvergenceWarning\n",
    "warnings.filterwarnings('ignore', category=ConvergenceWarning)\n",
    "from statsmodels.tsa.arima.model import ARIMA\n",
    "from statsmodels.tsa.statespace.sarimax import SARIMAX\n",
    "from statsmodels.tsa.ar_model import AutoReg\n",
    "from statsmodels.tsa.ar_model import ar_select_order\n",
    "import itertools\n",
    "from statsmodels.graphics.tsaplots import plot_acf\n",
    "import statsmodels.api as sm\n",
    "from scipy import stats\n",
    "import matplotlib.pyplot as plt\n",
    "from statsmodels.tsa.api import VAR\n",
    "from sklearn.tree import DecisionTreeRegressor\n",
    "from sklearn.ensemble import RandomForestRegressor, GradientBoostingRegressor, HistGradientBoostingRegressor\n",
    "from sklearn.model_selection import train_test_split\n",
    "from sklearn.metrics import mean_squared_error, mean_absolute_error, r2_score\n",
    "from arch import arch_model\n",
    "import seaborn as sns\n",
    "from sklearn.model_selection import GridSearchCV\n",
    "from sklearn.inspection import permutation_importance"
   ]
  },
  {
   "cell_type": "code",
   "execution_count": 65,
   "id": "95a0b96b-0886-4b09-ae10-df76d47e84fe",
   "metadata": {},
   "outputs": [],
   "source": [
    "#Import Dataset\n",
    "df = pd.read_csv('../Final Data/Final_Data.csv')\n",
    "#drop temperature data; low correlation to target\n",
    "df = df.drop(columns = 'avg_temp')"
   ]
  },
  {
   "cell_type": "markdown",
   "id": "18594961-f0ea-4d32-8360-c9c8b742bc53",
   "metadata": {},
   "source": [
    "## 1 Time Series Model Tests\n",
    "### 1.1 AR Model"
   ]
  },
  {
   "cell_type": "code",
   "execution_count": 9,
   "id": "0a24f4fa-fe0b-437c-9778-28a783745eee",
   "metadata": {},
   "outputs": [
    {
     "name": "stdout",
     "output_type": "stream",
     "text": [
      "Optimal lag order selected for Monthly return : [1, 2, 3, 4, 5, 6, 7, 8]\n"
     ]
    }
   ],
   "source": [
    "#Find optimal lag to test\n",
    "best_model = ar_select_order(df['wheat_price'], maxlag=25, ic='aic', old_names=False)\n",
    "print(f\"Optimal lag order selected for Monthly return : {best_model.ar_lags}\")"
   ]
  },
  {
   "cell_type": "code",
   "execution_count": 11,
   "id": "a7e047c6-9561-4f23-9fae-1ec69923f487",
   "metadata": {},
   "outputs": [
    {
     "name": "stdout",
     "output_type": "stream",
     "text": [
      "AR(1) Results: \n",
      "                             AutoReg Model Results                             \n",
      "==============================================================================\n",
      "Dep. Variable:            wheat_price   No. Observations:                  421\n",
      "Model:                     AutoReg(1)   Log Likelihood                -390.448\n",
      "Method:               Conditional MLE   S.D. of innovations              0.613\n",
      "Date:                Wed, 30 Apr 2025   AIC                            786.896\n",
      "Time:                        22:34:31   BIC                            799.017\n",
      "Sample:                             1   HQIC                           791.687\n",
      "                                  421                                         \n",
      "==================================================================================\n",
      "                     coef    std err          z      P>|z|      [0.025      0.975]\n",
      "----------------------------------------------------------------------------------\n",
      "const              0.2741      0.083      3.308      0.001       0.112       0.436\n",
      "wheat_price.L1     0.9438      0.016     58.648      0.000       0.912       0.975\n",
      "                                    Roots                                    \n",
      "=============================================================================\n",
      "                  Real          Imaginary           Modulus         Frequency\n",
      "-----------------------------------------------------------------------------\n",
      "AR.1            1.0595           +0.0000j            1.0595            0.0000\n",
      "-----------------------------------------------------------------------------\n"
     ]
    }
   ],
   "source": [
    "#AR(1) Model\n",
    "ar_1 = AutoReg(df['wheat_price'], lags = 1).fit()\n",
    "ar_1_aic = ar_1.aic\n",
    "print('AR(1) Results: \\n',ar_1.summary())"
   ]
  },
  {
   "cell_type": "code",
   "execution_count": 13,
   "id": "a329d5e1-ce43-4bf3-9f5b-852443e02db1",
   "metadata": {},
   "outputs": [
    {
     "name": "stdout",
     "output_type": "stream",
     "text": [
      "\n",
      "AR(2) Results: \n",
      "                             AutoReg Model Results                             \n",
      "==============================================================================\n",
      "Dep. Variable:            wheat_price   No. Observations:                  421\n",
      "Model:                     AutoReg(2)   Log Likelihood                -374.137\n",
      "Method:               Conditional MLE   S.D. of innovations              0.591\n",
      "Date:                Wed, 30 Apr 2025   AIC                            756.273\n",
      "Time:                        22:34:32   BIC                            772.425\n",
      "Sample:                             2   HQIC                           762.658\n",
      "                                  421                                         \n",
      "==================================================================================\n",
      "                     coef    std err          z      P>|z|      [0.025      0.975]\n",
      "----------------------------------------------------------------------------------\n",
      "const              0.2043      0.081      2.526      0.012       0.046       0.363\n",
      "wheat_price.L1     0.6891      0.047     14.650      0.000       0.597       0.781\n",
      "wheat_price.L2     0.2696      0.047      5.733      0.000       0.177       0.362\n",
      "                                    Roots                                    \n",
      "=============================================================================\n",
      "                  Real          Imaginary           Modulus         Frequency\n",
      "-----------------------------------------------------------------------------\n",
      "AR.1            1.0334           +0.0000j            1.0334            0.0000\n",
      "AR.2           -3.5896           +0.0000j            3.5896            0.5000\n",
      "-----------------------------------------------------------------------------\n"
     ]
    }
   ],
   "source": [
    "#AR(2) Model\n",
    "ar_2 = AutoReg(df['wheat_price'], lags = 2).fit()\n",
    "ar_2_aic = ar_2.aic\n",
    "print('\\nAR(2) Results: \\n',ar_2.summary())"
   ]
  },
  {
   "cell_type": "markdown",
   "id": "3e3df37f-e974-43b4-84ab-5e72a9415356",
   "metadata": {},
   "source": [
    "### 1.2 ARIMA Model"
   ]
  },
  {
   "cell_type": "code",
   "execution_count": 9,
   "id": "1b14282c-b648-4748-be86-6ea242f06be3",
   "metadata": {},
   "outputs": [
    {
     "name": "stdout",
     "output_type": "stream",
     "text": [
      "Best ARIMA order based on AIC: (0, 1, 1)\n"
     ]
    }
   ],
   "source": [
    "#Find best params for ARIMA model\n",
    "p = range(0, 3)  # AR order\n",
    "d = range(0, 2)  # Differencing\n",
    "q = range(0, 3)  # MA order\n",
    "pdq = list(itertools.product(p, d, q))\n",
    "\n",
    "#use aic for best model, set up saves\n",
    "best_aic = float('inf')\n",
    "best_pdq = None\n",
    "\n",
    "for param in pdq:\n",
    "    try:\n",
    "        model = ARIMA(df['wheat_price'], order=param)\n",
    "        results = model.fit()\n",
    "        if results.aic < best_aic:\n",
    "            best_aic = results.aic\n",
    "            best_pdq = param\n",
    "    except:\n",
    "        continue\n",
    "\n",
    "best_arima_aic = best_aic\n",
    "\n",
    "print(f\"Best ARIMA order based on AIC: {best_pdq}\")"
   ]
  },
  {
   "cell_type": "code",
   "execution_count": 10,
   "id": "d4b1a78b-7296-4472-9959-4e2dac7ed219",
   "metadata": {},
   "outputs": [
    {
     "name": "stdout",
     "output_type": "stream",
     "text": [
      "ARIMA(0,1,1) Results: \n",
      "                                SARIMAX Results                                \n",
      "==============================================================================\n",
      "Dep. Variable:            wheat_price   No. Observations:                  421\n",
      "Model:                 ARIMA(0, 1, 1)   Log Likelihood                -374.330\n",
      "Date:                Wed, 30 Apr 2025   AIC                            752.660\n",
      "Time:                        22:16:41   BIC                            760.741\n",
      "Sample:                             0   HQIC                           755.854\n",
      "                                - 421                                         \n",
      "Covariance Type:                  opg                                         \n",
      "==============================================================================\n",
      "                 coef    std err          z      P>|z|      [0.025      0.975]\n",
      "------------------------------------------------------------------------------\n",
      "ma.L1         -0.3533      0.027    -13.308      0.000      -0.405      -0.301\n",
      "sigma2         0.3480      0.008     44.367      0.000       0.333       0.363\n",
      "===================================================================================\n",
      "Ljung-Box (L1) (Q):                   0.15   Jarque-Bera (JB):              6086.51\n",
      "Prob(Q):                              0.70   Prob(JB):                         0.00\n",
      "Heteroskedasticity (H):               3.45   Skew:                            -2.42\n",
      "Prob(H) (two-sided):                  0.00   Kurtosis:                        21.01\n",
      "===================================================================================\n",
      "\n",
      "Warnings:\n",
      "[1] Covariance matrix calculated using the outer product of gradients (complex-step).\n"
     ]
    }
   ],
   "source": [
    "#Test best model ARIMA(0,1,1)\n",
    "arima_011 = ARIMA(df['wheat_price'], order=best_pdq).fit()\n",
    "print('ARIMA(0,1,1) Results: \\n',arima_011.summary())"
   ]
  },
  {
   "cell_type": "markdown",
   "id": "d15e2b3f-dd6c-43e0-a55a-e70ccaf05ebe",
   "metadata": {},
   "source": [
    "### 1.3 ARIMAX Model"
   ]
  },
  {
   "cell_type": "code",
   "execution_count": 12,
   "id": "9e58a2c1-a010-4ba8-8fe4-2bcf438f987b",
   "metadata": {},
   "outputs": [],
   "source": [
    "#Save exogenous data separately\n",
    "exog_data = df.copy().drop(columns = ['wheat_price','date'])\n",
    "\n",
    "#standardize exogenous features\n",
    "exog_data = (exog_data - exog_data.mean()) / exog_data.std()"
   ]
  },
  {
   "cell_type": "code",
   "execution_count": 13,
   "id": "8c806402-3c8c-48b0-abd2-db0832ae70fe",
   "metadata": {},
   "outputs": [
    {
     "name": "stdout",
     "output_type": "stream",
     "text": [
      "Best ARIMAX model order based on AIC: (2, 1, 1); AIC = 727.964382296861\n"
     ]
    }
   ],
   "source": [
    "#Find best params for ARIMAX model\n",
    "p = range(0, 3)  #AR order\n",
    "d = range(0, 2)  #differencing options\n",
    "q = range(0, 3)  #MA order\n",
    "pdq = list(itertools.product(p, d, q))\n",
    "\n",
    "#find best model params by aic\n",
    "best_arimax_aic = float('inf')\n",
    "best_arimax_params = None\n",
    "for param in pdq:\n",
    "    try:\n",
    "        model = SARIMAX(df['wheat_price'], \n",
    "                        exog=exog_data,\n",
    "                        order=param, \n",
    "                        seasonal_order=(0, 0, 0, 0))  #don't add seasonality\n",
    "        results = model.fit(disp=False)\n",
    "        if results.aic < best_arimax_aic:\n",
    "            best_arimax_aic = results.aic\n",
    "            best_arimax_params = param\n",
    "    except:\n",
    "        continue\n",
    "\n",
    "print(f\"Best ARIMAX model order based on AIC: {best_arimax_params}; AIC = {best_arimax_aic}\")"
   ]
  },
  {
   "cell_type": "code",
   "execution_count": 14,
   "id": "1917c57e-d7c5-48db-b55d-00252eb8d6c2",
   "metadata": {},
   "outputs": [
    {
     "name": "stdout",
     "output_type": "stream",
     "text": [
      "ARIMAX(2,1,1) Results: \n",
      "                                SARIMAX Results                                \n",
      "==============================================================================\n",
      "Dep. Variable:            wheat_price   No. Observations:                  421\n",
      "Model:               SARIMAX(2, 1, 1)   Log Likelihood                -351.982\n",
      "Date:                Wed, 30 Apr 2025   AIC                            727.964\n",
      "Time:                        22:16:48   BIC                            776.447\n",
      "Sample:                             0   HQIC                           747.127\n",
      "                                - 421                                         \n",
      "Covariance Type:                  opg                                         \n",
      "=====================================================================================\n",
      "                        coef    std err          z      P>|z|      [0.025      0.975]\n",
      "-------------------------------------------------------------------------------------\n",
      "fertilizer_idx        0.5031      0.247      2.035      0.042       0.019       0.988\n",
      "drought_idx          -0.1061      0.082     -1.289      0.198      -0.268       0.055\n",
      "cpi                  -0.2548      0.650     -0.392      0.695      -1.530       1.020\n",
      "commodity_imp_idx     0.8493      0.496      1.713      0.087      -0.122       1.821\n",
      "commodity_exp_idx     0.0717      0.461      0.156      0.876      -0.832       0.975\n",
      "flour_price           0.0653      0.159      0.410      0.682      -0.247       0.377\n",
      "corn_price            0.7802      0.194      4.026      0.000       0.400       1.160\n",
      "crude_oil_price      -0.3124      0.262     -1.193      0.233      -0.826       0.201\n",
      "ar.L1                 0.5177      0.037     13.924      0.000       0.445       0.591\n",
      "ar.L2                 0.1906      0.045      4.275      0.000       0.103       0.278\n",
      "ma.L1                -0.9802      0.023    -41.830      0.000      -1.026      -0.934\n",
      "sigma2                0.3115      0.011     28.130      0.000       0.290       0.333\n",
      "===================================================================================\n",
      "Ljung-Box (L1) (Q):                   0.00   Jarque-Bera (JB):              7148.50\n",
      "Prob(Q):                              0.97   Prob(JB):                         0.00\n",
      "Heteroskedasticity (H):               3.36   Skew:                            -2.14\n",
      "Prob(H) (two-sided):                  0.00   Kurtosis:                        22.75\n",
      "===================================================================================\n",
      "\n",
      "Warnings:\n",
      "[1] Covariance matrix calculated using the outer product of gradients (complex-step).\n"
     ]
    }
   ],
   "source": [
    "#Test ARIMAX(2,1,1)\n",
    "arimax_211 = SARIMAX(df['wheat_price'], \n",
    "                     exog=exog_data,\n",
    "                     order=best_arimax_params, \n",
    "                     seasonal_order=(0, 0, 0, 0)).fit(disp=False)\n",
    "print('ARIMAX(2,1,1) Results: \\n',arimax_211.summary())"
   ]
  },
  {
   "cell_type": "markdown",
   "id": "1e17b7c2-9326-4f1a-b488-aa78f7b3bae3",
   "metadata": {},
   "source": [
    "### 1.4 SARIMAX Model"
   ]
  },
  {
   "cell_type": "markdown",
   "id": "becf7878-3eb1-407f-be80-b4f27c5fb457",
   "metadata": {},
   "source": [
    "#### 1.4.1 ACF Plot For Seasonality Test"
   ]
  },
  {
   "cell_type": "code",
   "execution_count": 17,
   "id": "f1b96cb1-5bd3-4632-a515-ce17eeb6cb33",
   "metadata": {},
   "outputs": [
    {
     "data": {
      "text/plain": [
       "<Figure size 1200x1000 with 0 Axes>"
      ]
     },
     "metadata": {},
     "output_type": "display_data"
    },
    {
     "data": {
      "image/png": "[encoded data removed]",
      "text/plain": [
       "<Figure size 640x480 with 1 Axes>"
      ]
     },
     "metadata": {},
     "output_type": "display_data"
    }
   ],
   "source": [
    "#Plot ACF\n",
    "plt.figure(figsize=(12, 10))\n",
    "plot_acf(df['wheat_price'], lags=36 ) \n",
    "plt.title('Autocorrelation Function (ACF)')\n",
    "plt.tight_layout()\n",
    "plt.savefig('../Visualizations/ACF.png')\n",
    "plt.show()"
   ]
  },
  {
   "cell_type": "markdown",
   "id": "0cc7ec0b-61a0-4772-a98f-1365bc010bcd",
   "metadata": {},
   "source": [
    "#### 1.4.2 SARIMAX Model Implementation"
   ]
  },
  {
   "cell_type": "code",
   "execution_count": 19,
   "id": "d3991625-1cb1-4e1d-9a77-5a0830498af1",
   "metadata": {},
   "outputs": [
    {
     "ename": "KeyboardInterrupt",
     "evalue": "",
     "output_type": "error",
     "traceback": [
      "\u001b[0;31m---------------------------------------------------------------------------\u001b[0m",
      "\u001b[0;31mKeyboardInterrupt\u001b[0m                         Traceback (most recent call last)",
      "Cell \u001b[0;32mIn[19], line 29\u001b[0m\n\u001b[1;32m     23\u001b[0m \u001b[38;5;28;01mtry\u001b[39;00m:\n\u001b[1;32m     24\u001b[0m     model \u001b[38;5;241m=\u001b[39m SARIMAX(df[\u001b[38;5;124m'\u001b[39m\u001b[38;5;124mwheat_price\u001b[39m\u001b[38;5;124m'\u001b[39m], \n\u001b[1;32m     25\u001b[0m                    exog\u001b[38;5;241m=\u001b[39mexog_data,\n\u001b[1;32m     26\u001b[0m                    order\u001b[38;5;241m=\u001b[39mparam, \u001b[38;5;66;03m#use best arimax params\u001b[39;00m\n\u001b[1;32m     27\u001b[0m                    seasonal_order\u001b[38;5;241m=\u001b[39mseasonal_param)\n\u001b[0;32m---> 29\u001b[0m     results \u001b[38;5;241m=\u001b[39m model\u001b[38;5;241m.\u001b[39mfit(disp\u001b[38;5;241m=\u001b[39m\u001b[38;5;28;01mFalse\u001b[39;00m, maxiter\u001b[38;5;241m=\u001b[39m\u001b[38;5;241m100\u001b[39m)\n\u001b[1;32m     30\u001b[0m     current_aic \u001b[38;5;241m=\u001b[39m results\u001b[38;5;241m.\u001b[39maic\n\u001b[1;32m     32\u001b[0m     \u001b[38;5;28;01mif\u001b[39;00m current_aic \u001b[38;5;241m<\u001b[39m best_sarimax_aic:\n",
      "File \u001b[0;32m/opt/anaconda3/lib/python3.12/site-packages/statsmodels/tsa/statespace/mlemodel.py:703\u001b[0m, in \u001b[0;36mMLEModel.fit\u001b[0;34m(self, start_params, transformed, includes_fixed, cov_type, cov_kwds, method, maxiter, full_output, disp, callback, return_params, optim_score, optim_complex_step, optim_hessian, flags, low_memory, **kwargs)\u001b[0m\n\u001b[1;32m    701\u001b[0m         flags[\u001b[38;5;124m'\u001b[39m\u001b[38;5;124mhessian_method\u001b[39m\u001b[38;5;124m'\u001b[39m] \u001b[38;5;241m=\u001b[39m optim_hessian\n\u001b[1;32m    702\u001b[0m     fargs \u001b[38;5;241m=\u001b[39m (flags,)\n\u001b[0;32m--> 703\u001b[0m     mlefit \u001b[38;5;241m=\u001b[39m \u001b[38;5;28msuper\u001b[39m()\u001b[38;5;241m.\u001b[39mfit(start_params, method\u001b[38;5;241m=\u001b[39mmethod,\n\u001b[1;32m    704\u001b[0m                          fargs\u001b[38;5;241m=\u001b[39mfargs,\n\u001b[1;32m    705\u001b[0m                          maxiter\u001b[38;5;241m=\u001b[39mmaxiter,\n\u001b[1;32m    706\u001b[0m                          full_output\u001b[38;5;241m=\u001b[39mfull_output,\n\u001b[1;32m    707\u001b[0m                          disp\u001b[38;5;241m=\u001b[39mdisp, callback\u001b[38;5;241m=\u001b[39mcallback,\n\u001b[1;32m    708\u001b[0m                          skip_hessian\u001b[38;5;241m=\u001b[39m\u001b[38;5;28;01mTrue\u001b[39;00m, \u001b[38;5;241m*\u001b[39m\u001b[38;5;241m*\u001b[39mkwargs)\n\u001b[1;32m    710\u001b[0m \u001b[38;5;66;03m# Just return the fitted parameters if requested\u001b[39;00m\n\u001b[1;32m    711\u001b[0m \u001b[38;5;28;01mif\u001b[39;00m return_params:\n",
      "File \u001b[0;32m/opt/anaconda3/lib/python3.12/site-packages/statsmodels/base/model.py:566\u001b[0m, in \u001b[0;36mLikelihoodModel.fit\u001b[0;34m(self, start_params, method, maxiter, full_output, disp, fargs, callback, retall, skip_hessian, **kwargs)\u001b[0m\n\u001b[1;32m    563\u001b[0m     \u001b[38;5;28;01mdel\u001b[39;00m kwargs[\u001b[38;5;124m\"\u001b[39m\u001b[38;5;124muse_t\u001b[39m\u001b[38;5;124m\"\u001b[39m]\n\u001b[1;32m    565\u001b[0m optimizer \u001b[38;5;241m=\u001b[39m Optimizer()\n\u001b[0;32m--> 566\u001b[0m xopt, retvals, optim_settings \u001b[38;5;241m=\u001b[39m optimizer\u001b[38;5;241m.\u001b[39m_fit(f, score, start_params,\n\u001b[1;32m    567\u001b[0m                                                fargs, kwargs,\n\u001b[1;32m    568\u001b[0m                                                hessian\u001b[38;5;241m=\u001b[39mhess,\n\u001b[1;32m    569\u001b[0m                                                method\u001b[38;5;241m=\u001b[39mmethod,\n\u001b[1;32m    570\u001b[0m                                                disp\u001b[38;5;241m=\u001b[39mdisp,\n\u001b[1;32m    571\u001b[0m                                                maxiter\u001b[38;5;241m=\u001b[39mmaxiter,\n\u001b[1;32m    572\u001b[0m                                                callback\u001b[38;5;241m=\u001b[39mcallback,\n\u001b[1;32m    573\u001b[0m                                                retall\u001b[38;5;241m=\u001b[39mretall,\n\u001b[1;32m    574\u001b[0m                                                full_output\u001b[38;5;241m=\u001b[39mfull_output)\n\u001b[1;32m    575\u001b[0m \u001b[38;5;66;03m# Restore cov_type, cov_kwds and use_t\u001b[39;00m\n\u001b[1;32m    576\u001b[0m optim_settings\u001b[38;5;241m.\u001b[39mupdate(kwds)\n",
      "File \u001b[0;32m/opt/anaconda3/lib/python3.12/site-packages/statsmodels/base/optimizer.py:243\u001b[0m, in \u001b[0;36mOptimizer._fit\u001b[0;34m(self, objective, gradient, start_params, fargs, kwargs, hessian, method, maxiter, full_output, disp, callback, retall)\u001b[0m\n\u001b[1;32m    240\u001b[0m     fit_funcs\u001b[38;5;241m.\u001b[39mupdate(extra_fit_funcs)\n\u001b[1;32m    242\u001b[0m func \u001b[38;5;241m=\u001b[39m fit_funcs[method]\n\u001b[0;32m--> 243\u001b[0m xopt, retvals \u001b[38;5;241m=\u001b[39m func(objective, gradient, start_params, fargs, kwargs,\n\u001b[1;32m    244\u001b[0m                      disp\u001b[38;5;241m=\u001b[39mdisp, maxiter\u001b[38;5;241m=\u001b[39mmaxiter, callback\u001b[38;5;241m=\u001b[39mcallback,\n\u001b[1;32m    245\u001b[0m                      retall\u001b[38;5;241m=\u001b[39mretall, full_output\u001b[38;5;241m=\u001b[39mfull_output,\n\u001b[1;32m    246\u001b[0m                      hess\u001b[38;5;241m=\u001b[39mhessian)\n\u001b[1;32m    248\u001b[0m optim_settings \u001b[38;5;241m=\u001b[39m {\u001b[38;5;124m'\u001b[39m\u001b[38;5;124moptimizer\u001b[39m\u001b[38;5;124m'\u001b[39m: method, \u001b[38;5;124m'\u001b[39m\u001b[38;5;124mstart_params\u001b[39m\u001b[38;5;124m'\u001b[39m: start_params,\n\u001b[1;32m    249\u001b[0m                   \u001b[38;5;124m'\u001b[39m\u001b[38;5;124mmaxiter\u001b[39m\u001b[38;5;124m'\u001b[39m: maxiter, \u001b[38;5;124m'\u001b[39m\u001b[38;5;124mfull_output\u001b[39m\u001b[38;5;124m'\u001b[39m: full_output,\n\u001b[1;32m    250\u001b[0m                   \u001b[38;5;124m'\u001b[39m\u001b[38;5;124mdisp\u001b[39m\u001b[38;5;124m'\u001b[39m: disp, \u001b[38;5;124m'\u001b[39m\u001b[38;5;124mfargs\u001b[39m\u001b[38;5;124m'\u001b[39m: fargs, \u001b[38;5;124m'\u001b[39m\u001b[38;5;124mcallback\u001b[39m\u001b[38;5;124m'\u001b[39m: callback,\n\u001b[1;32m    251\u001b[0m                   \u001b[38;5;124m'\u001b[39m\u001b[38;5;124mretall\u001b[39m\u001b[38;5;124m'\u001b[39m: retall, \u001b[38;5;124m\"\u001b[39m\u001b[38;5;124mextra_fit_funcs\u001b[39m\u001b[38;5;124m\"\u001b[39m: extra_fit_funcs}\n\u001b[1;32m    252\u001b[0m optim_settings\u001b[38;5;241m.\u001b[39mupdate(kwargs)\n",
      "File \u001b[0;32m/opt/anaconda3/lib/python3.12/site-packages/statsmodels/base/optimizer.py:660\u001b[0m, in \u001b[0;36m_fit_lbfgs\u001b[0;34m(f, score, start_params, fargs, kwargs, disp, maxiter, callback, retall, full_output, hess)\u001b[0m\n\u001b[1;32m    657\u001b[0m \u001b[38;5;28;01melif\u001b[39;00m approx_grad:\n\u001b[1;32m    658\u001b[0m     func \u001b[38;5;241m=\u001b[39m f\n\u001b[0;32m--> 660\u001b[0m retvals \u001b[38;5;241m=\u001b[39m optimize\u001b[38;5;241m.\u001b[39mfmin_l_bfgs_b(func, start_params, maxiter\u001b[38;5;241m=\u001b[39mmaxiter,\n\u001b[1;32m    661\u001b[0m                                  callback\u001b[38;5;241m=\u001b[39mcallback, args\u001b[38;5;241m=\u001b[39mfargs,\n\u001b[1;32m    662\u001b[0m                                  bounds\u001b[38;5;241m=\u001b[39mbounds, disp\u001b[38;5;241m=\u001b[39mdisp,\n\u001b[1;32m    663\u001b[0m                                  \u001b[38;5;241m*\u001b[39m\u001b[38;5;241m*\u001b[39mextra_kwargs)\n\u001b[1;32m    665\u001b[0m \u001b[38;5;28;01mif\u001b[39;00m full_output:\n\u001b[1;32m    666\u001b[0m     xopt, fopt, d \u001b[38;5;241m=\u001b[39m retvals\n",
      "File \u001b[0;32m/opt/anaconda3/lib/python3.12/site-packages/scipy/optimize/_lbfgsb_py.py:237\u001b[0m, in \u001b[0;36mfmin_l_bfgs_b\u001b[0;34m(func, x0, fprime, args, approx_grad, bounds, m, factr, pgtol, epsilon, iprint, maxfun, maxiter, disp, callback, maxls)\u001b[0m\n\u001b[1;32m    225\u001b[0m callback \u001b[38;5;241m=\u001b[39m _wrap_callback(callback)\n\u001b[1;32m    226\u001b[0m opts \u001b[38;5;241m=\u001b[39m {\u001b[38;5;124m'\u001b[39m\u001b[38;5;124mdisp\u001b[39m\u001b[38;5;124m'\u001b[39m: disp,\n\u001b[1;32m    227\u001b[0m         \u001b[38;5;124m'\u001b[39m\u001b[38;5;124miprint\u001b[39m\u001b[38;5;124m'\u001b[39m: iprint,\n\u001b[1;32m    228\u001b[0m         \u001b[38;5;124m'\u001b[39m\u001b[38;5;124mmaxcor\u001b[39m\u001b[38;5;124m'\u001b[39m: m,\n\u001b[0;32m   (...)\u001b[0m\n\u001b[1;32m    234\u001b[0m         \u001b[38;5;124m'\u001b[39m\u001b[38;5;124mcallback\u001b[39m\u001b[38;5;124m'\u001b[39m: callback,\n\u001b[1;32m    235\u001b[0m         \u001b[38;5;124m'\u001b[39m\u001b[38;5;124mmaxls\u001b[39m\u001b[38;5;124m'\u001b[39m: maxls}\n\u001b[0;32m--> 237\u001b[0m res \u001b[38;5;241m=\u001b[39m _minimize_lbfgsb(fun, x0, args\u001b[38;5;241m=\u001b[39margs, jac\u001b[38;5;241m=\u001b[39mjac, bounds\u001b[38;5;241m=\u001b[39mbounds,\n\u001b[1;32m    238\u001b[0m                        \u001b[38;5;241m*\u001b[39m\u001b[38;5;241m*\u001b[39mopts)\n\u001b[1;32m    239\u001b[0m d \u001b[38;5;241m=\u001b[39m {\u001b[38;5;124m'\u001b[39m\u001b[38;5;124mgrad\u001b[39m\u001b[38;5;124m'\u001b[39m: res[\u001b[38;5;124m'\u001b[39m\u001b[38;5;124mjac\u001b[39m\u001b[38;5;124m'\u001b[39m],\n\u001b[1;32m    240\u001b[0m      \u001b[38;5;124m'\u001b[39m\u001b[38;5;124mtask\u001b[39m\u001b[38;5;124m'\u001b[39m: res[\u001b[38;5;124m'\u001b[39m\u001b[38;5;124mmessage\u001b[39m\u001b[38;5;124m'\u001b[39m],\n\u001b[1;32m    241\u001b[0m      \u001b[38;5;124m'\u001b[39m\u001b[38;5;124mfuncalls\u001b[39m\u001b[38;5;124m'\u001b[39m: res[\u001b[38;5;124m'\u001b[39m\u001b[38;5;124mnfev\u001b[39m\u001b[38;5;124m'\u001b[39m],\n\u001b[1;32m    242\u001b[0m      \u001b[38;5;124m'\u001b[39m\u001b[38;5;124mnit\u001b[39m\u001b[38;5;124m'\u001b[39m: res[\u001b[38;5;124m'\u001b[39m\u001b[38;5;124mnit\u001b[39m\u001b[38;5;124m'\u001b[39m],\n\u001b[1;32m    243\u001b[0m      \u001b[38;5;124m'\u001b[39m\u001b[38;5;124mwarnflag\u001b[39m\u001b[38;5;124m'\u001b[39m: res[\u001b[38;5;124m'\u001b[39m\u001b[38;5;124mstatus\u001b[39m\u001b[38;5;124m'\u001b[39m]}\n\u001b[1;32m    244\u001b[0m f \u001b[38;5;241m=\u001b[39m res[\u001b[38;5;124m'\u001b[39m\u001b[38;5;124mfun\u001b[39m\u001b[38;5;124m'\u001b[39m]\n",
      "File \u001b[0;32m/opt/anaconda3/lib/python3.12/site-packages/scipy/optimize/_lbfgsb_py.py:407\u001b[0m, in \u001b[0;36m_minimize_lbfgsb\u001b[0;34m(fun, x0, args, jac, bounds, disp, maxcor, ftol, gtol, eps, maxfun, maxiter, iprint, callback, maxls, finite_diff_rel_step, **unknown_options)\u001b[0m\n\u001b[1;32m    401\u001b[0m task_str \u001b[38;5;241m=\u001b[39m task\u001b[38;5;241m.\u001b[39mtobytes()\n\u001b[1;32m    402\u001b[0m \u001b[38;5;28;01mif\u001b[39;00m task_str\u001b[38;5;241m.\u001b[39mstartswith(\u001b[38;5;124mb\u001b[39m\u001b[38;5;124m'\u001b[39m\u001b[38;5;124mFG\u001b[39m\u001b[38;5;124m'\u001b[39m):\n\u001b[1;32m    403\u001b[0m     \u001b[38;5;66;03m# The minimization routine wants f and g at the current x.\u001b[39;00m\n\u001b[1;32m    404\u001b[0m     \u001b[38;5;66;03m# Note that interruptions due to maxfun are postponed\u001b[39;00m\n\u001b[1;32m    405\u001b[0m     \u001b[38;5;66;03m# until the completion of the current minimization iteration.\u001b[39;00m\n\u001b[1;32m    406\u001b[0m     \u001b[38;5;66;03m# Overwrite f and g:\u001b[39;00m\n\u001b[0;32m--> 407\u001b[0m     f, g \u001b[38;5;241m=\u001b[39m func_and_grad(x)\n\u001b[1;32m    408\u001b[0m \u001b[38;5;28;01melif\u001b[39;00m task_str\u001b[38;5;241m.\u001b[39mstartswith(\u001b[38;5;124mb\u001b[39m\u001b[38;5;124m'\u001b[39m\u001b[38;5;124mNEW_X\u001b[39m\u001b[38;5;124m'\u001b[39m):\n\u001b[1;32m    409\u001b[0m     \u001b[38;5;66;03m# new iteration\u001b[39;00m\n\u001b[1;32m    410\u001b[0m     n_iterations \u001b[38;5;241m+\u001b[39m\u001b[38;5;241m=\u001b[39m \u001b[38;5;241m1\u001b[39m\n",
      "File \u001b[0;32m/opt/anaconda3/lib/python3.12/site-packages/scipy/optimize/_differentiable_functions.py:297\u001b[0m, in \u001b[0;36mScalarFunction.fun_and_grad\u001b[0;34m(self, x)\u001b[0m\n\u001b[1;32m    295\u001b[0m     \u001b[38;5;28mself\u001b[39m\u001b[38;5;241m.\u001b[39m_update_x_impl(x)\n\u001b[1;32m    296\u001b[0m \u001b[38;5;28mself\u001b[39m\u001b[38;5;241m.\u001b[39m_update_fun()\n\u001b[0;32m--> 297\u001b[0m \u001b[38;5;28mself\u001b[39m\u001b[38;5;241m.\u001b[39m_update_grad()\n\u001b[1;32m    298\u001b[0m \u001b[38;5;28;01mreturn\u001b[39;00m \u001b[38;5;28mself\u001b[39m\u001b[38;5;241m.\u001b[39mf, \u001b[38;5;28mself\u001b[39m\u001b[38;5;241m.\u001b[39mg\n",
      "File \u001b[0;32m/opt/anaconda3/lib/python3.12/site-packages/scipy/optimize/_differentiable_functions.py:267\u001b[0m, in \u001b[0;36mScalarFunction._update_grad\u001b[0;34m(self)\u001b[0m\n\u001b[1;32m    265\u001b[0m \u001b[38;5;28;01mdef\u001b[39;00m \u001b[38;5;21m_update_grad\u001b[39m(\u001b[38;5;28mself\u001b[39m):\n\u001b[1;32m    266\u001b[0m     \u001b[38;5;28;01mif\u001b[39;00m \u001b[38;5;129;01mnot\u001b[39;00m \u001b[38;5;28mself\u001b[39m\u001b[38;5;241m.\u001b[39mg_updated:\n\u001b[0;32m--> 267\u001b[0m         \u001b[38;5;28mself\u001b[39m\u001b[38;5;241m.\u001b[39m_update_grad_impl()\n\u001b[1;32m    268\u001b[0m         \u001b[38;5;28mself\u001b[39m\u001b[38;5;241m.\u001b[39mg_updated \u001b[38;5;241m=\u001b[39m \u001b[38;5;28;01mTrue\u001b[39;00m\n",
      "File \u001b[0;32m/opt/anaconda3/lib/python3.12/site-packages/scipy/optimize/_differentiable_functions.py:181\u001b[0m, in \u001b[0;36mScalarFunction.__init__.<locals>.update_grad\u001b[0;34m()\u001b[0m\n\u001b[1;32m    179\u001b[0m \u001b[38;5;28mself\u001b[39m\u001b[38;5;241m.\u001b[39m_update_fun()\n\u001b[1;32m    180\u001b[0m \u001b[38;5;28mself\u001b[39m\u001b[38;5;241m.\u001b[39mngev \u001b[38;5;241m+\u001b[39m\u001b[38;5;241m=\u001b[39m \u001b[38;5;241m1\u001b[39m\n\u001b[0;32m--> 181\u001b[0m \u001b[38;5;28mself\u001b[39m\u001b[38;5;241m.\u001b[39mg \u001b[38;5;241m=\u001b[39m approx_derivative(fun_wrapped, \u001b[38;5;28mself\u001b[39m\u001b[38;5;241m.\u001b[39mx, f0\u001b[38;5;241m=\u001b[39m\u001b[38;5;28mself\u001b[39m\u001b[38;5;241m.\u001b[39mf,\n\u001b[1;32m    182\u001b[0m                            \u001b[38;5;241m*\u001b[39m\u001b[38;5;241m*\u001b[39mfinite_diff_options)\n",
      "File \u001b[0;32m/opt/anaconda3/lib/python3.12/site-packages/scipy/optimize/_numdiff.py:519\u001b[0m, in \u001b[0;36mapprox_derivative\u001b[0;34m(fun, x0, method, rel_step, abs_step, f0, bounds, sparsity, as_linear_operator, args, kwargs)\u001b[0m\n\u001b[1;32m    516\u001b[0m     use_one_sided \u001b[38;5;241m=\u001b[39m \u001b[38;5;28;01mFalse\u001b[39;00m\n\u001b[1;32m    518\u001b[0m \u001b[38;5;28;01mif\u001b[39;00m sparsity \u001b[38;5;129;01mis\u001b[39;00m \u001b[38;5;28;01mNone\u001b[39;00m:\n\u001b[0;32m--> 519\u001b[0m     \u001b[38;5;28;01mreturn\u001b[39;00m _dense_difference(fun_wrapped, x0, f0, h,\n\u001b[1;32m    520\u001b[0m                              use_one_sided, method)\n\u001b[1;32m    521\u001b[0m \u001b[38;5;28;01melse\u001b[39;00m:\n\u001b[1;32m    522\u001b[0m     \u001b[38;5;28;01mif\u001b[39;00m \u001b[38;5;129;01mnot\u001b[39;00m issparse(sparsity) \u001b[38;5;129;01mand\u001b[39;00m \u001b[38;5;28mlen\u001b[39m(sparsity) \u001b[38;5;241m==\u001b[39m \u001b[38;5;241m2\u001b[39m:\n",
      "File \u001b[0;32m/opt/anaconda3/lib/python3.12/site-packages/scipy/optimize/_numdiff.py:590\u001b[0m, in \u001b[0;36m_dense_difference\u001b[0;34m(fun, x0, f0, h, use_one_sided, method)\u001b[0m\n\u001b[1;32m    588\u001b[0m     x \u001b[38;5;241m=\u001b[39m x0 \u001b[38;5;241m+\u001b[39m h_vecs[i]\n\u001b[1;32m    589\u001b[0m     dx \u001b[38;5;241m=\u001b[39m x[i] \u001b[38;5;241m-\u001b[39m x0[i]  \u001b[38;5;66;03m# Recompute dx as exactly representable number.\u001b[39;00m\n\u001b[0;32m--> 590\u001b[0m     df \u001b[38;5;241m=\u001b[39m fun(x) \u001b[38;5;241m-\u001b[39m f0\n\u001b[1;32m    591\u001b[0m \u001b[38;5;28;01melif\u001b[39;00m method \u001b[38;5;241m==\u001b[39m \u001b[38;5;124m'\u001b[39m\u001b[38;5;124m3-point\u001b[39m\u001b[38;5;124m'\u001b[39m \u001b[38;5;129;01mand\u001b[39;00m use_one_sided[i]:\n\u001b[1;32m    592\u001b[0m     x1 \u001b[38;5;241m=\u001b[39m x0 \u001b[38;5;241m+\u001b[39m h_vecs[i]\n",
      "File \u001b[0;32m/opt/anaconda3/lib/python3.12/site-packages/scipy/optimize/_numdiff.py:464\u001b[0m, in \u001b[0;36mapprox_derivative.<locals>.fun_wrapped\u001b[0;34m(x)\u001b[0m\n\u001b[1;32m    459\u001b[0m \u001b[38;5;28;01mif\u001b[39;00m as_linear_operator \u001b[38;5;129;01mand\u001b[39;00m \u001b[38;5;129;01mnot\u001b[39;00m (np\u001b[38;5;241m.\u001b[39mall(np\u001b[38;5;241m.\u001b[39misinf(lb))\n\u001b[1;32m    460\u001b[0m                                \u001b[38;5;129;01mand\u001b[39;00m np\u001b[38;5;241m.\u001b[39mall(np\u001b[38;5;241m.\u001b[39misinf(ub))):\n\u001b[1;32m    461\u001b[0m     \u001b[38;5;28;01mraise\u001b[39;00m \u001b[38;5;167;01mValueError\u001b[39;00m(\u001b[38;5;124m\"\u001b[39m\u001b[38;5;124mBounds not supported when \u001b[39m\u001b[38;5;124m\"\u001b[39m\n\u001b[1;32m    462\u001b[0m                      \u001b[38;5;124m\"\u001b[39m\u001b[38;5;124m`as_linear_operator` is True.\u001b[39m\u001b[38;5;124m\"\u001b[39m)\n\u001b[0;32m--> 464\u001b[0m \u001b[38;5;28;01mdef\u001b[39;00m \u001b[38;5;21mfun_wrapped\u001b[39m(x):\n\u001b[1;32m    465\u001b[0m     \u001b[38;5;66;03m# send user function same fp type as x0. (but only if cs is not being\u001b[39;00m\n\u001b[1;32m    466\u001b[0m     \u001b[38;5;66;03m# used\u001b[39;00m\n\u001b[1;32m    467\u001b[0m     \u001b[38;5;28;01mif\u001b[39;00m xp\u001b[38;5;241m.\u001b[39misdtype(x\u001b[38;5;241m.\u001b[39mdtype, \u001b[38;5;124m\"\u001b[39m\u001b[38;5;124mreal floating\u001b[39m\u001b[38;5;124m\"\u001b[39m):\n\u001b[1;32m    468\u001b[0m         x \u001b[38;5;241m=\u001b[39m xp\u001b[38;5;241m.\u001b[39mastype(x, x0\u001b[38;5;241m.\u001b[39mdtype)\n",
      "\u001b[0;31mKeyboardInterrupt\u001b[0m: "
     ]
    }
   ],
   "source": [
    "#Find best params for SARIMAX\n",
    "# Define parameter ranges for both ARIMA and seasonal components\n",
    "p = range(0, 3)  #AR order\n",
    "d = range(0, 2)  #Differencing\n",
    "q = range(0, 3)  #MA order\n",
    "P = range(0, 2)  #seasonal AR order\n",
    "D = range(0, 2)  #seasonal differencing\n",
    "Q = range(0, 2)  #seasonal MA order\n",
    "s = 12  #yearly seasonality assumed\n",
    "\n",
    "#Create all combinations of seasonal parameters\n",
    "arima_pdq = list(itertools.product(p, d, q))\n",
    "seasonal_pdq = list(itertools.product(P, D, Q, [s]))\n",
    "\n",
    "# Find best SARIMAX model with both ARIMA and seasonal components\n",
    "best_sarimax_aic = float('inf')\n",
    "best_params = None\n",
    "best_seasonal_params = None\n",
    "\n",
    "# Grid search over seasonal parameters\n",
    "for param in pdq:\n",
    "    for seasonal_param in seasonal_pdq:\n",
    "        try:\n",
    "            model = SARIMAX(df['wheat_price'], \n",
    "                           exog=exog_data,\n",
    "                           order=param, #use best arimax params\n",
    "                           seasonal_order=seasonal_param)\n",
    "            \n",
    "            results = model.fit(disp=False, maxiter=100)\n",
    "            current_aic = results.aic\n",
    "            \n",
    "            if current_aic < best_sarimax_aic:\n",
    "                best_sarimax_aic = current_aic\n",
    "                best_params = param\n",
    "                best_seasonal_params = seasonal_param\n",
    "                sarimax_results = results\n",
    "        except Exception as e:\n",
    "            continue\n",
    "\n",
    "print(f\"\\nBest SARIMAX model: SARIMAX{best_params}x{best_seasonal_params}\")"
   ]
  },
  {
   "cell_type": "code",
   "execution_count": null,
   "id": "c0a34362-9acd-46fd-91b5-fd7f416785f6",
   "metadata": {},
   "outputs": [],
   "source": [
    "#Test SARIMAX(1,1,2)x(0,0,1,12)\n",
    "print(sarimax_results.summary())"
   ]
  },
  {
   "cell_type": "markdown",
   "id": "de47db4e-cd80-4f2e-a676-ae9d4145bd2c",
   "metadata": {},
   "source": [
    "### 1.5 AutoRegressive Model Comparisons"
   ]
  },
  {
   "cell_type": "code",
   "execution_count": null,
   "id": "44642100-1600-459e-9f11-72f3c7ec9d11",
   "metadata": {},
   "outputs": [],
   "source": [
    "#Compare AIC values\n",
    "ts_aic = pd.DataFrame({\n",
    "    'Model': ['AR(1)','AR(2)','ARIMA',\"ARIMAX\",'SARIMAX'],\n",
    "    'AIC': [ar_1_aic, ar_2_aic, best_arima_aic, best_arimax_aic, best_sarimax_aic]\n",
    "})\n",
    "ts_aic"
   ]
  },
  {
   "cell_type": "markdown",
   "id": "d11f8897-0660-43a0-9351-4a98541ad963",
   "metadata": {},
   "source": [
    "### 1.6 Best AR Model vs Actual Price"
   ]
  },
  {
   "cell_type": "code",
   "execution_count": 66,
   "id": "fd6fc478-e81c-4690-b3da-c3c3680d066d",
   "metadata": {},
   "outputs": [
    {
     "ename": "NameError",
     "evalue": "name 'sarimax_results' is not defined",
     "output_type": "error",
     "traceback": [
      "\u001b[0;31m---------------------------------------------------------------------------\u001b[0m",
      "\u001b[0;31mNameError\u001b[0m                                 Traceback (most recent call last)",
      "Cell \u001b[0;32mIn[66], line 2\u001b[0m\n\u001b[1;32m      1\u001b[0m \u001b[38;5;66;03m#sarimax plot prep\u001b[39;00m\n\u001b[0;32m----> 2\u001b[0m sarimax_pred \u001b[38;5;241m=\u001b[39m sarimax_results\u001b[38;5;241m.\u001b[39mget_prediction()\u001b[38;5;241m.\u001b[39mpredicted_mean\n\u001b[1;32m      3\u001b[0m sarimax_plot \u001b[38;5;241m=\u001b[39m df\u001b[38;5;241m.\u001b[39mcopy()\n\u001b[1;32m      4\u001b[0m sarimax_plot[\u001b[38;5;124m'\u001b[39m\u001b[38;5;124msarimax_predictions\u001b[39m\u001b[38;5;124m'\u001b[39m] \u001b[38;5;241m=\u001b[39m sarimax_pred\u001b[38;5;241m.\u001b[39mdrop(\u001b[38;5;241m0\u001b[39m)\n",
      "\u001b[0;31mNameError\u001b[0m: name 'sarimax_results' is not defined"
     ]
    }
   ],
   "source": [
    "#sarimax plot prep\n",
    "sarimax_pred = sarimax_results.get_prediction().predicted_mean\n",
    "sarimax_plot = df.copy()\n",
    "sarimax_plot['sarimax_predictions'] = sarimax_pred.drop(0)\n",
    "#ensure datetime type\n",
    "df['date'] = pd.to_datetime(df['date'])"
   ]
  },
  {
   "cell_type": "code",
   "execution_count": null,
   "id": "8154480b-9a0b-40c9-9dff-6f592d139cdd",
   "metadata": {},
   "outputs": [],
   "source": [
    "#Plot SARIMAX Predictions and Forecasts\n",
    "plt.figure(figsize=(12, 6))\n",
    "\n",
    "#plot true time series\n",
    "plt.plot(df['date'],df['wheat_price'] , 'b-', \n",
    "         linewidth=1, label='Actual Wheat Prices')\n",
    "\n",
    "#plot predictions\n",
    "plt.plot(df['date'], sarimax_plot['sarimax_predictions'], 'r--', \n",
    "         linewidth=1, label='Predicted Wheat Prices')\n",
    "\n",
    "#label and save\n",
    "plt.title('SARIMAX Model Fit', fontsize=16)\n",
    "plt.xlabel('Date', fontsize=12)\n",
    "plt.ylabel('Wheat Price ($/Bushel)', fontsize=12)\n",
    "plt.legend(fontsize=12)\n",
    "plt.grid(True, alpha=0.3)\n",
    "plt.xticks(rotation=45)\n",
    "plt.tight_layout()\n",
    "plt.savefig('../Visualizations/Full_SARIMAX_Prediction.png')\n",
    "plt.show()"
   ]
  },
  {
   "cell_type": "markdown",
   "id": "85aba798-78ee-4e5c-8bdf-7a93a1820917",
   "metadata": {},
   "source": [
    "### 1.7 Volatility Models"
   ]
  },
  {
   "cell_type": "code",
   "execution_count": 15,
   "id": "01a7508e-9ce0-4fe1-bdd7-c791e2cde720",
   "metadata": {},
   "outputs": [],
   "source": [
    "#calculate price change for all priced variables\n",
    "df_change=df.copy()\n",
    "df_change['wheat_price_change'] = df_change['wheat_price'].diff()\n",
    "df_change['crude_oil_change'] = df_change['crude_oil_price'].diff()\n",
    "df_change['flour_change'] = df_change['flour_price'].diff()\n",
    "df_change['corn_change'] = df_change['corn_price'].diff()\n",
    "df_change['cpi_change'] = df_change['cpi'].diff()\n",
    "df_change = df_change.dropna()\n",
    "df_change = df_change.drop(columns = ['wheat_price','flour_price','crude_oil_price','corn_price','cpi'])"
   ]
  },
  {
   "cell_type": "markdown",
   "id": "6df0b009-4d79-43d5-9b72-258b3cc02b6d",
   "metadata": {},
   "source": [
    "#### 1.7.1 ARCH Model"
   ]
  },
  {
   "cell_type": "code",
   "execution_count": 18,
   "id": "6f798882-54aa-4f91-930e-85606457de63",
   "metadata": {},
   "outputs": [
    {
     "name": "stdout",
     "output_type": "stream",
     "text": [
      "                           AR - ARCH Model Results                            \n",
      "==============================================================================\n",
      "Dep. Variable:     wheat_price_change   R-squared:                       0.078\n",
      "Mean Model:                        AR   Adj. R-squared:                  0.075\n",
      "Vol Model:                       ARCH   Log-Likelihood:               -279.118\n",
      "Distribution:                  Normal   AIC:                           566.235\n",
      "Method:            Maximum Likelihood   BIC:                           582.387\n",
      "                                        No. Observations:                  419\n",
      "Date:                Wed, Apr 30 2025   Df Residuals:                      417\n",
      "Time:                        22:34:45   Df Model:                            2\n",
      "                                  Mean Model                                 \n",
      "=============================================================================\n",
      "                    coef    std err          t      P>|t|    95.0% Conf. Int.\n",
      "-----------------------------------------------------------------------------\n",
      "Const            -0.0401  3.262e-02     -1.228      0.219 [ -0.104,2.387e-02]\n",
      "whea...nge[1]    -0.3215      0.110     -2.913  3.581e-03   [ -0.538, -0.105]\n",
      "                             Volatility Model                             \n",
      "==========================================================================\n",
      "                 coef    std err          t      P>|t|    95.0% Conf. Int.\n",
      "--------------------------------------------------------------------------\n",
      "omega          0.1035  3.011e-02      3.437  5.883e-04 [4.447e-02,  0.162]\n",
      "alpha[1]       1.0000      0.379      2.637  8.366e-03   [  0.257,  1.743]\n",
      "==========================================================================\n",
      "\n",
      "Covariance estimator: robust\n"
     ]
    }
   ],
   "source": [
    "#fit arch(1) model\n",
    "arch_model = arch_model(df_change['wheat_price_change'], vol='ARCH', p=1, mean='AR', lags=1)\n",
    "arch_result = arch_model.fit(update_freq=0, disp='off')\n",
    "print(arch_result.summary())"
   ]
  },
  {
   "cell_type": "markdown",
   "id": "a1a7f6a4-a91c-439c-836d-c1b8ca7e3780",
   "metadata": {},
   "source": [
    "#### 1.7.2 GARCH Model"
   ]
  },
  {
   "cell_type": "code",
   "execution_count": 21,
   "id": "fc9cac07-db3a-4e4e-875a-bdfee8f3e162",
   "metadata": {},
   "outputs": [
    {
     "ename": "TypeError",
     "evalue": "'ARX' object is not callable",
     "output_type": "error",
     "traceback": [
      "\u001b[0;31m---------------------------------------------------------------------------\u001b[0m",
      "\u001b[0;31mTypeError\u001b[0m                                 Traceback (most recent call last)",
      "Cell \u001b[0;32mIn[21], line 2\u001b[0m\n\u001b[1;32m      1\u001b[0m \u001b[38;5;66;03m#test garch(1,1) model for volatility\u001b[39;00m\n\u001b[0;32m----> 2\u001b[0m df_garch_model \u001b[38;5;241m=\u001b[39m arch_model(df_change[\u001b[38;5;124m'\u001b[39m\u001b[38;5;124mwheat_price_change\u001b[39m\u001b[38;5;124m'\u001b[39m], vol\u001b[38;5;241m=\u001b[39m\u001b[38;5;124m'\u001b[39m\u001b[38;5;124mGARCH\u001b[39m\u001b[38;5;124m'\u001b[39m, p\u001b[38;5;241m=\u001b[39m\u001b[38;5;241m1\u001b[39m,q\u001b[38;5;241m=\u001b[39m\u001b[38;5;241m1\u001b[39m, mean\u001b[38;5;241m=\u001b[39m\u001b[38;5;124m'\u001b[39m\u001b[38;5;124mAR\u001b[39m\u001b[38;5;124m'\u001b[39m, lags\u001b[38;5;241m=\u001b[39m\u001b[38;5;241m1\u001b[39m)\n\u001b[1;32m      3\u001b[0m garch_result \u001b[38;5;241m=\u001b[39m df_garch_model\u001b[38;5;241m.\u001b[39mfit(update_freq\u001b[38;5;241m=\u001b[39m\u001b[38;5;241m0\u001b[39m, disp\u001b[38;5;241m=\u001b[39m\u001b[38;5;124m'\u001b[39m\u001b[38;5;124moff\u001b[39m\u001b[38;5;124m'\u001b[39m)\n\u001b[1;32m      4\u001b[0m \u001b[38;5;28mprint\u001b[39m(garch_result\u001b[38;5;241m.\u001b[39msummary())\n",
      "\u001b[0;31mTypeError\u001b[0m: 'ARX' object is not callable"
     ]
    }
   ],
   "source": [
    "#test garch(1,1) model for volatility\n",
    "df_garch_model = arch_model(df_change['wheat_price_change'], vol='GARCH', p=1,q=1, mean='AR', lags=1)\n",
    "garch_result = df_garch_model.fit(update_freq=0, disp='off')\n",
    "print(garch_result.summary())"
   ]
  },
  {
   "cell_type": "markdown",
   "id": "5e6bdd03-d14a-4366-96bb-bc6f61e85d8f",
   "metadata": {},
   "source": [
    "## 2 Machine Learning Models"
   ]
  },
  {
   "cell_type": "markdown",
   "id": "08fc0af6-71bc-4873-b819-a877b3c57ae9",
   "metadata": {},
   "source": [
    "### 2.1 Data Preprocessing"
   ]
  },
  {
   "cell_type": "code",
   "execution_count": 99,
   "id": "dd01c698-0309-4e45-9234-fb422ea70740",
   "metadata": {},
   "outputs": [],
   "source": [
    "#add lagged values for all values for decision tree\n",
    "df['date']=pd.to_datetime(df['date'])\n",
    "columns = df.columns.tolist()\n",
    "lag_periods = np.arange(1,7) #add 6 month lagged variables\n",
    "\n",
    "#Create lags for each column in the dataframe\n",
    "for col in columns:\n",
    "    if df[col].dtype not in ['float64', 'int64']:\n",
    "        continue\n",
    "        \n",
    "    #create lagged vars for col\n",
    "    for lag in lag_periods:\n",
    "        lag_name = f'{col}_lag_{lag}'\n",
    "        df[lag_name] = df[col].shift(lag)\n",
    "\n",
    "df = df.dropna()\n",
    "# Extract year and month as numeric features\n",
    "df['year'] = df['date'].dt.year\n",
    "df['month'] = df['date'].dt.month\n",
    "#drop date column\n",
    "df = df.drop(columns = 'date')"
   ]
  },
  {
   "cell_type": "code",
   "execution_count": 37,
   "id": "9e2b6388-4ddb-439b-92ae-2e07660bc862",
   "metadata": {},
   "outputs": [
    {
     "ename": "AttributeError",
     "evalue": "'Index' object has no attribute 'year'",
     "output_type": "error",
     "traceback": [
      "\u001b[0;31m---------------------------------------------------------------------------\u001b[0m",
      "\u001b[0;31mAttributeError\u001b[0m                            Traceback (most recent call last)",
      "Cell \u001b[0;32mIn[37], line 18\u001b[0m\n\u001b[1;32m     15\u001b[0m df_change \u001b[38;5;241m=\u001b[39m df_change\u001b[38;5;241m.\u001b[39mdropna()\n\u001b[1;32m     17\u001b[0m \u001b[38;5;66;03m# Extract year and month as numeric features\u001b[39;00m\n\u001b[0;32m---> 18\u001b[0m df_change[\u001b[38;5;124m'\u001b[39m\u001b[38;5;124myear\u001b[39m\u001b[38;5;124m'\u001b[39m] \u001b[38;5;241m=\u001b[39m df_change\u001b[38;5;241m.\u001b[39mindex\u001b[38;5;241m.\u001b[39myear  \u001b[38;5;66;03m# 2020, 2021, 2022, etc.\u001b[39;00m\n\u001b[1;32m     19\u001b[0m df_change[\u001b[38;5;124m'\u001b[39m\u001b[38;5;124mmonth\u001b[39m\u001b[38;5;124m'\u001b[39m] \u001b[38;5;241m=\u001b[39m df_change\u001b[38;5;241m.\u001b[39mindex\u001b[38;5;241m.\u001b[39mmonth  \u001b[38;5;66;03m# 1-12\u001b[39;00m\n\u001b[1;32m     20\u001b[0m \u001b[38;5;66;03m#drop date column\u001b[39;00m\n",
      "\u001b[0;31mAttributeError\u001b[0m: 'Index' object has no attribute 'year'"
     ]
    }
   ],
   "source": [
    "#same for change df\n",
    "columns = df_change.columns.tolist()\n",
    "lag_periods = np.arange(1,7) #add 6 month lagged variables\n",
    "\n",
    "#Create lags for each column in the dataframe\n",
    "for col in columns:\n",
    "    if df_change[col].dtype not in ['float64', 'int64']:\n",
    "        continue\n",
    "        \n",
    "    #create lagged vars for col\n",
    "    for lag in lag_periods:\n",
    "        lag_name = f'{col}_lag_{lag}'\n",
    "        df[lag_name] = df_change[col].shift(lag)\n",
    "\n",
    "df_change = df_change.dropna()\n",
    "\n",
    "# Extract year and month as numeric features\n",
    "df_change['year'] = df_change.index.year  # 2020, 2021, 2022, etc.\n",
    "df_change['month'] = df_change.index.month  # 1-12\n",
    "#drop date column\n",
    "df_change = df_change.drop(columns = 'date')"
   ]
  },
  {
   "cell_type": "code",
   "execution_count": 101,
   "id": "0873ff51-d5a7-406b-b2cc-3aabb0cac7bc",
   "metadata": {},
   "outputs": [],
   "source": [
    "#split data into 80% train and 20% test sets\n",
    "y = df['wheat_price'] # use wheat price as target \n",
    "X = df.drop(columns = 'wheat_price')\n",
    "train_size = int(len(df_change) * 0.8)\n",
    "X_train = X.iloc[:train_size]\n",
    "X_test = X.iloc[train_size:]\n",
    "y_train = y.iloc[:train_size]\n",
    "y_test = y.iloc[train_size:]"
   ]
  },
  {
   "cell_type": "markdown",
   "id": "7fd4b607-4d76-4a0c-b679-557051863abd",
   "metadata": {},
   "source": [
    "### 2.2 Basic Decision Tree Regressor"
   ]
  },
  {
   "cell_type": "code",
   "execution_count": 103,
   "id": "520a755d-e1ce-4b18-a3da-89481e1a443d",
   "metadata": {},
   "outputs": [
    {
     "name": "stdout",
     "output_type": "stream",
     "text": [
      "Best Parameters: {'max_depth': 5, 'min_samples_leaf': 1, 'min_samples_split': 10}\n"
     ]
    }
   ],
   "source": [
    "#hyperparameter tuning for best decision tree model\n",
    "params = {\n",
    "    'max_depth': [3, 5, 7, 10, None],\n",
    "    'min_samples_split': [2, 5, 10],\n",
    "    'min_samples_leaf': [1, 2, 4]\n",
    "}\n",
    "\n",
    "#run grid search cross-validation for tuning\n",
    "dt_model = DecisionTreeRegressor(random_state=42) #initialize\n",
    "dt_gridsearch = GridSearchCV(dt_model, params,cv=5) #start gridsearch\n",
    "dt_gridsearch.fit(X_train, y_train) #fit model\n",
    "best_params = dt_gridsearch.best_params_ #find best parameters\n",
    "print(f\"Best Parameters: {best_params}\")"
   ]
  },
  {
   "cell_type": "code",
   "execution_count": 105,
   "id": "7a129bf8-74c0-4b6c-81c8-d3c1426eae9f",
   "metadata": {},
   "outputs": [],
   "source": [
    "#run model using best hyperparameters\n",
    "best_dt = DecisionTreeRegressor(**best_params,random_state=42) #initialize\n",
    "best_dt.fit(X_train, y_train) #fit model\n",
    "dt_pred = best_dt.predict(X_test) #predict"
   ]
  },
  {
   "cell_type": "code",
   "execution_count": 109,
   "id": "bab8b9a7-26c7-4c12-a1e1-8fa7db33bad9",
   "metadata": {},
   "outputs": [],
   "source": [
    "#calculate performance measures\n",
    "dt_mse = mean_squared_error(y_test, dt_pred)\n",
    "dt_rmse = np.sqrt(dt_mse)\n",
    "dt_mae = mean_absolute_error(y_test, dt_pred)\n",
    "dt_r2 = r2_score(y_test, dt_pred)"
   ]
  },
  {
   "cell_type": "markdown",
   "id": "218ff71f-eaad-46b6-891d-3d8841e034c4",
   "metadata": {},
   "source": [
    "### 2.3 Ensemble Learning Models"
   ]
  },
  {
   "cell_type": "markdown",
   "id": "71c0e869-2e2b-4ec7-a28f-43dabf343e98",
   "metadata": {},
   "source": [
    "#### 2.3.1 Random Forest Regressor Model"
   ]
  },
  {
   "cell_type": "code",
   "execution_count": 125,
   "id": "6beebd9f-44ac-4c88-8722-ea0a5d4acc28",
   "metadata": {},
   "outputs": [
    {
     "name": "stdout",
     "output_type": "stream",
     "text": [
      "Best Random Forest Parameters: {'max_depth': 10, 'min_samples_leaf': 4, 'min_samples_split': 10, 'n_estimators': 50}\n"
     ]
    }
   ],
   "source": [
    "#hyperparameter tune for best rf model\n",
    "rf_params = {\n",
    "    'n_estimators': [50, 100, 200],\n",
    "    'max_depth': [None, 10, 20, 30],\n",
    "    'min_samples_split': [2, 5, 10],\n",
    "    'min_samples_leaf': [1, 2, 4]\n",
    "}\n",
    "#run grid search cross-validation for tuning\n",
    "rf_model = RandomForestRegressor(random_state=42) #initialize\n",
    "rf_gridsearch = GridSearchCV(rf_model, rf_params,cv=5) #start gridsearch\n",
    "rf_gridsearch.fit(X_train, y_train) #fit model\n",
    "best_rf_params = rf_gridsearch.best_params_ #find best parameters\n",
    "print(f\"Best Random Forest Parameters: {best_rf_params}\")"
   ]
  },
  {
   "cell_type": "code",
   "execution_count": 126,
   "id": "42aac5ee-0f79-488a-9cee-7c655d11d351",
   "metadata": {},
   "outputs": [],
   "source": [
    "#run random forest model\n",
    "best_rf = RandomForestRegressor(**best_params, random_state=42) #initialize\n",
    "best_rf.fit(X_train, y_train) #fit\n",
    "rf_pred = best_rf.predict(X_test) #predict"
   ]
  },
  {
   "cell_type": "code",
   "execution_count": 127,
   "id": "7c8b5bcc-3856-496e-9bb5-f23931793220",
   "metadata": {},
   "outputs": [],
   "source": [
    "#calculate performance measures\n",
    "rf_mse = mean_squared_error(y_test, rf_pred)\n",
    "rf_rmse = np.sqrt(rf_mse)\n",
    "rf_mae = mean_absolute_error(y_test, rf_pred)\n",
    "rf_r2 = r2_score(y_test, rf_pred)"
   ]
  },
  {
   "cell_type": "markdown",
   "id": "635ccee7-4bc8-4a5e-bfab-26115cbbef42",
   "metadata": {},
   "source": [
    "#### 2.3.2 Histogram Gradient Boosting Regressor Model"
   ]
  },
  {
   "cell_type": "code",
   "execution_count": 111,
   "id": "44204aa6-bc36-4d93-bb3d-05092228fb80",
   "metadata": {},
   "outputs": [
    {
     "name": "stdout",
     "output_type": "stream",
     "text": [
      "Best Random Forest Parameters: {'learning_rate': 0.1, 'max_depth': 7, 'max_iter': 50}\n"
     ]
    }
   ],
   "source": [
    "#hyperparameter tuning for best hist xgboosting model to handle null value\n",
    "gb_params = {\n",
    "    'max_iter': [50, 100, 200],\n",
    "    'learning_rate': [0.01, 0.05, 0.1],\n",
    "    'max_depth': [3, 5, 7]\n",
    "}\n",
    "gb_model = HistGradientBoostingRegressor(random_state=42) #initialize\n",
    "gb_gridsearch = GridSearchCV(gb_model, gb_params,cv=5)\n",
    "gb_gridsearch.fit(X_train, y_train) #fit model\n",
    "best_gb_params = gb_gridsearch.best_params_ #find best parameters\n",
    "print(f\"Best Random Forest Parameters: {best_gb_params}\")"
   ]
  },
  {
   "cell_type": "code",
   "execution_count": 113,
   "id": "0029b8fb-b34c-4ef1-a190-8e1f6973ba08",
   "metadata": {},
   "outputs": [],
   "source": [
    "#run model using best hyperparameters\n",
    "best_gb = HistGradientBoostingRegressor(**best_gb_params,random_state=42) #initialize\n",
    "best_gb.fit(X_train, y_train) #fit\n",
    "gb_pred = best_gb.predict(X_test)"
   ]
  },
  {
   "cell_type": "code",
   "execution_count": 119,
   "id": "d79bf5b9-7aa7-4f49-911c-736239124c8e",
   "metadata": {},
   "outputs": [],
   "source": [
    "#calculate performance measures\n",
    "gb_mse = mean_squared_error(y_test, gb_pred)\n",
    "gb_rmse = np.sqrt(rf_mse)\n",
    "gb_mae = mean_absolute_error(y_test, gb_pred)\n",
    "gb_r2 = r2_score(y_test, gb_pred)"
   ]
  },
  {
   "cell_type": "markdown",
   "id": "0c6552a5-69ce-4a81-a5d5-a31ec22149dd",
   "metadata": {},
   "source": [
    "### 2.4 Model Evaluation"
   ]
  },
  {
   "cell_type": "markdown",
   "id": "99e20c58-13e8-40fe-b451-89ad72573f2c",
   "metadata": {},
   "source": [
    "#### 2.4.1 Model Comparisons"
   ]
  },
  {
   "cell_type": "code",
   "execution_count": 131,
   "id": "d7dae8a2-cd18-4411-8a11-7dd872e5ead5",
   "metadata": {},
   "outputs": [
    {
     "data": {
      "text/html": [
       "<div>\n",
       "<style scoped>\n",
       "    .dataframe tbody tr th:only-of-type {\n",
       "        vertical-align: middle;\n",
       "    }\n",
       "\n",
       "    .dataframe tbody tr th {\n",
       "        vertical-align: top;\n",
       "    }\n",
       "\n",
       "    .dataframe thead th {\n",
       "        text-align: right;\n",
       "    }\n",
       "</style>\n",
       "<table border=\"1\" class=\"dataframe\">\n",
       "  <thead>\n",
       "    <tr style=\"text-align: right;\">\n",
       "      <th></th>\n",
       "      <th>Model</th>\n",
       "      <th>MSE</th>\n",
       "      <th>RMSE</th>\n",
       "      <th>R²</th>\n",
       "    </tr>\n",
       "  </thead>\n",
       "  <tbody>\n",
       "    <tr>\n",
       "      <th>0</th>\n",
       "      <td>Decision Tree</td>\n",
       "      <td>1.063008</td>\n",
       "      <td>1.031023</td>\n",
       "      <td>0.630699</td>\n",
       "    </tr>\n",
       "    <tr>\n",
       "      <th>1</th>\n",
       "      <td>Random Forest</td>\n",
       "      <td>0.927773</td>\n",
       "      <td>0.963210</td>\n",
       "      <td>0.677681</td>\n",
       "    </tr>\n",
       "    <tr>\n",
       "      <th>2</th>\n",
       "      <td>Gradient Boosting</td>\n",
       "      <td>0.918999</td>\n",
       "      <td>1.069051</td>\n",
       "      <td>0.680729</td>\n",
       "    </tr>\n",
       "  </tbody>\n",
       "</table>\n",
       "</div>"
      ],
      "text/plain": [
       "               Model       MSE      RMSE        R²\n",
       "0      Decision Tree  1.063008  1.031023  0.630699\n",
       "1      Random Forest  0.927773  0.963210  0.677681\n",
       "2  Gradient Boosting  0.918999  1.069051  0.680729"
      ]
     },
     "execution_count": 131,
     "metadata": {},
     "output_type": "execute_result"
    }
   ],
   "source": [
    "dt_comparison = {\n",
    "    'Model': ['Decision Tree', 'Random Forest', 'Gradient Boosting'],\n",
    "    'MSE': [dt_mse, rf_mse, gb_mse],\n",
    "    'RMSE': [dt_rmse, rf_rmse, gb_rmse],\n",
    "    'R²': [dt_r2, rf_r2, gb_r2]\n",
    "}\n",
    "dt_comparison = pd.DataFrame(dt_comparison)\n",
    "dt_comparison"
   ]
  },
  {
   "cell_type": "code",
   "execution_count": 173,
   "id": "9b181633-e6f3-424a-9769-e61fe83e0dce",
   "metadata": {
    "scrolled": true
   },
   "outputs": [
    {
     "data": {
      "image/png": "[encoded data removed]",
      "text/plain": [
       "<Figure size 800x1000 with 2 Axes>"
      ]
     },
     "metadata": {},
     "output_type": "display_data"
    }
   ],
   "source": [
    "#plot MSE and R squared comparisons\n",
    "plt.figure(figsize=(8, 10))\n",
    "\n",
    "#subplot 1 for MSE comparisons\n",
    "plt.subplot(2, 1, 1)\n",
    "bars1 = plt.bar(dt_comparison['Model'], dt_comparison['MSE'], color=['r','g','b'], linewidth=1)\n",
    "plt.title('Mean Squared Error (MSE) Comparison', fontsize=14)\n",
    "plt.ylabel('MSE', fontsize=12)\n",
    "plt.ylim(0.6,1.1)\n",
    "plt.grid(axis='y', linestyle='--', alpha=0.7)\n",
    "\n",
    "#subplot 2 for r squared comparisons\n",
    "plt.subplot(2, 1, 2)\n",
    "bars2 = plt.bar(dt_comparison['Model'], dt_comparison['R²'], color=['r','g','b'], linewidth=1)\n",
    "plt.title('R² Comparison', fontsize=14)\n",
    "plt.ylabel('R²', fontsize=12)\n",
    "plt.ylim(0, 0.8)\n",
    "plt.grid(axis='y', linestyle='--', alpha=0.7)\n",
    "\n",
    "#save and show\n",
    "plt.tight_layout()\n",
    "plt.savefig('../Visualizations/Model_Comparison.png')\n",
    "plt.show()"
   ]
  },
  {
   "cell_type": "markdown",
   "id": "5e4357ad-cf75-40c3-9656-417532cf01e8",
   "metadata": {},
   "source": [
    "#### 2.4.2 Feature Importance"
   ]
  },
  {
   "cell_type": "code",
   "execution_count": 153,
   "id": "dbb42dc2-103e-4a79-a42b-627e5b2e7427",
   "metadata": {},
   "outputs": [
    {
     "data": {
      "image/png": "[encoded data removed]",
      "text/plain": [
       "<Figure size 1200x800 with 1 Axes>"
      ]
     },
     "metadata": {},
     "output_type": "display_data"
    }
   ],
   "source": [
    "#plot feature importance\n",
    "result = permutation_importance(\n",
    "    best_gb,\n",
    "    X_test, y_test,\n",
    "    n_repeats=10,\n",
    "    random_state=42\n",
    ")\n",
    "feature_importance = pd.DataFrame({\n",
    "    'Feature': X_train.columns,\n",
    "    'Importance': result.importances_mean\n",
    "}).sort_values('Importance', ascending=False)\n",
    "\n",
    "top_features = feature_importance.head(15)\n",
    "\n",
    "#plot above\n",
    "plt.figure(figsize=(12, 8))\n",
    "sns.barplot(x='Importance', y='Feature', data=top_features)\n",
    "plt.title('Feature Importance for Gradient Boosting Regressor', fontsize=16)\n",
    "plt.xlabel('Importance Score', fontsize=14)\n",
    "plt.ylabel('Features', fontsize=14)\n",
    "plt.tight_layout()\n",
    "plt.savefig('../Visualizations/GB_Feature_Importance.png')\n",
    "plt.show()"
   ]
  },
  {
   "cell_type": "code",
   "execution_count": null,
   "id": "9d0a0f0b-4d2a-4442-acfd-d90971727a37",
   "metadata": {},
   "outputs": [],
   "source": []
  },
  {
   "cell_type": "code",
   "execution_count": null,
   "id": "72ed5118-651a-4363-97f0-0cfb4aac13a0",
   "metadata": {},
   "outputs": [],
   "source": []
  },
  {
   "cell_type": "code",
   "execution_count": null,
   "id": "fc9869c1-39fb-4036-84e3-9d32656bc6c3",
   "metadata": {},
   "outputs": [],
   "source": []
  },
  {
   "cell_type": "code",
   "execution_count": null,
   "id": "f64198ff-25f0-403b-8e42-ebbb9c6b6aec",
   "metadata": {},
   "outputs": [],
   "source": []
  },
  {
   "cell_type": "code",
   "execution_count": null,
   "id": "755f7b29-0a2b-4a83-82bc-adde8592ca2c",
   "metadata": {},
   "outputs": [],
   "source": []
  },
  {
   "cell_type": "code",
   "execution_count": null,
   "id": "00dfe226-e576-4d11-b011-ad3e5df40e51",
   "metadata": {},
   "outputs": [],
   "source": []
  },
  {
   "cell_type": "code",
   "execution_count": null,
   "id": "611a3278-c297-41af-81e6-87fed8c31795",
   "metadata": {},
   "outputs": [],
   "source": []
  },
  {
   "cell_type": "code",
   "execution_count": null,
   "id": "bdd857e4-fe0e-4788-8e44-984fbb041bc0",
   "metadata": {},
   "outputs": [],
   "source": []
  },
  {
   "cell_type": "code",
   "execution_count": null,
   "id": "e9a2a7ae-5e12-40c7-ad06-e6d9cbc0f555",
   "metadata": {},
   "outputs": [],
   "source": []
  }
 ],
 "metadata": {
  "kernelspec": {
   "display_name": "Python 3 (ipykernel)",
   "language": "python",
   "name": "python3"
  },
  "language_info": {
   "codemirror_mode": {
    "name": "ipython",
    "version": 3
   },
   "file_extension": ".py",
   "mimetype": "text/x-python",
   "name": "python",
   "nbconvert_exporter": "python",
   "pygments_lexer": "ipython3",
   "version": "3.12.4"
  }
 },
 "nbformat": 4,
 "nbformat_minor": 5
}

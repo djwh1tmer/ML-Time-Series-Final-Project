{
 "cells": [
  {
   "cell_type": "markdown",
   "id": "e0d5d5cb-0d52-416c-95c7-7e777cfbd16a",
   "metadata": {},
   "source": [
    "# Model Selection and Implementation - Wheat Pricing Data\n",
    "## Time Series and Machine Learning Final Project Code\n",
    "## Will Bartlett and David Whitmer"
   ]
  },
  {
   "cell_type": "code",
   "execution_count": 2,
   "id": "049175c2-7c58-422d-8844-f82b3260a3e6",
   "metadata": {},
   "outputs": [],
   "source": [
    "#import libraries\n",
    "import pandas as pd\n",
    "import numpy as np\n",
    "import warnings\n",
    "warnings.filterwarnings('ignore')\n",
    "from statsmodels.tools.sm_exceptions import ConvergenceWarning\n",
    "warnings.filterwarnings('ignore', category=ConvergenceWarning)\n",
    "from statsmodels.tsa.arima.model import ARIMA\n",
    "from statsmodels.tsa.statespace.sarimax import SARIMAX\n",
    "from statsmodels.tsa.ar_model import AutoReg\n",
    "from statsmodels.tsa.ar_model import ar_select_order\n",
    "import itertools\n",
    "from statsmodels.graphics.tsaplots import plot_acf\n",
    "import statsmodels.api as sm\n",
    "from scipy import stats\n",
    "import matplotlib.pyplot as plt\n",
    "from statsmodels.tsa.api import VAR\n",
    "from sklearn.metrics import mean_squared_error, mean_absolute_error, r2_score"
   ]
  },
  {
   "cell_type": "code",
   "execution_count": 3,
   "id": "95a0b96b-0886-4b09-ae10-df76d47e84fe",
   "metadata": {},
   "outputs": [],
   "source": [
    "#Import Dataset\n",
    "df = pd.read_csv('../Final Data/Final_Data.csv')\n",
    "#drop temperature data; low correlation to target\n",
    "df = df.drop(columns = 'avg_temp')"
   ]
  },
  {
   "cell_type": "markdown",
   "id": "18594961-f0ea-4d32-8360-c9c8b742bc53",
   "metadata": {},
   "source": [
    "## 1 Time Series Model Tests\n",
    "### 1.1 AR Model"
   ]
  },
  {
   "cell_type": "code",
   "execution_count": 5,
   "id": "0a24f4fa-fe0b-437c-9778-28a783745eee",
   "metadata": {},
   "outputs": [
    {
     "name": "stdout",
     "output_type": "stream",
     "text": [
      "Optimal lag order selected for Monthly return : [1, 2, 3, 4, 5, 6, 7, 8]\n"
     ]
    }
   ],
   "source": [
    "#Find optimal lag to test\n",
    "best_model = ar_select_order(df['wheat_price'], maxlag=25, ic='aic', old_names=False)\n",
    "print(f\"Optimal lag order selected for Monthly return : {best_model.ar_lags}\")"
   ]
  },
  {
   "cell_type": "code",
   "execution_count": 6,
   "id": "a7e047c6-9561-4f23-9fae-1ec69923f487",
   "metadata": {},
   "outputs": [
    {
     "name": "stdout",
     "output_type": "stream",
     "text": [
      "AR(1) Results: \n",
      "                             AutoReg Model Results                             \n",
      "==============================================================================\n",
      "Dep. Variable:            wheat_price   No. Observations:                  421\n",
      "Model:                     AutoReg(1)   Log Likelihood                -390.448\n",
      "Method:               Conditional MLE   S.D. of innovations              0.613\n",
      "Date:                Sat, 26 Apr 2025   AIC                            786.896\n",
      "Time:                        18:26:05   BIC                            799.017\n",
      "Sample:                             1   HQIC                           791.687\n",
      "                                  421                                         \n",
      "==================================================================================\n",
      "                     coef    std err          z      P>|z|      [0.025      0.975]\n",
      "----------------------------------------------------------------------------------\n",
      "const              0.2741      0.083      3.308      0.001       0.112       0.436\n",
      "wheat_price.L1     0.9438      0.016     58.648      0.000       0.912       0.975\n",
      "                                    Roots                                    \n",
      "=============================================================================\n",
      "                  Real          Imaginary           Modulus         Frequency\n",
      "-----------------------------------------------------------------------------\n",
      "AR.1            1.0595           +0.0000j            1.0595            0.0000\n",
      "-----------------------------------------------------------------------------\n"
     ]
    }
   ],
   "source": [
    "#AR(1) Model\n",
    "ar_1 = AutoReg(df['wheat_price'], lags = 1).fit()\n",
    "ar_1_aic = ar_1.aic\n",
    "print('AR(1) Results: \\n',ar_1.summary())"
   ]
  },
  {
   "cell_type": "code",
   "execution_count": 7,
   "id": "a329d5e1-ce43-4bf3-9f5b-852443e02db1",
   "metadata": {},
   "outputs": [
    {
     "name": "stdout",
     "output_type": "stream",
     "text": [
      "\n",
      "AR(2) Results: \n",
      "                             AutoReg Model Results                             \n",
      "==============================================================================\n",
      "Dep. Variable:            wheat_price   No. Observations:                  421\n",
      "Model:                     AutoReg(2)   Log Likelihood                -374.137\n",
      "Method:               Conditional MLE   S.D. of innovations              0.591\n",
      "Date:                Sat, 26 Apr 2025   AIC                            756.273\n",
      "Time:                        18:26:05   BIC                            772.425\n",
      "Sample:                             2   HQIC                           762.658\n",
      "                                  421                                         \n",
      "==================================================================================\n",
      "                     coef    std err          z      P>|z|      [0.025      0.975]\n",
      "----------------------------------------------------------------------------------\n",
      "const              0.2043      0.081      2.526      0.012       0.046       0.363\n",
      "wheat_price.L1     0.6891      0.047     14.650      0.000       0.597       0.781\n",
      "wheat_price.L2     0.2696      0.047      5.733      0.000       0.177       0.362\n",
      "                                    Roots                                    \n",
      "=============================================================================\n",
      "                  Real          Imaginary           Modulus         Frequency\n",
      "-----------------------------------------------------------------------------\n",
      "AR.1            1.0334           +0.0000j            1.0334            0.0000\n",
      "AR.2           -3.5896           +0.0000j            3.5896            0.5000\n",
      "-----------------------------------------------------------------------------\n"
     ]
    }
   ],
   "source": [
    "#AR(2) Model\n",
    "ar_2 = AutoReg(df['wheat_price'], lags = 2).fit()\n",
    "ar_2_aic = ar_2.aic\n",
    "print('\\nAR(2) Results: \\n',ar_2.summary())"
   ]
  },
  {
   "cell_type": "markdown",
   "id": "3e3df37f-e974-43b4-84ab-5e72a9415356",
   "metadata": {},
   "source": [
    "### 1.2 ARIMA Model"
   ]
  },
  {
   "cell_type": "code",
   "execution_count": 9,
   "id": "1b14282c-b648-4748-be86-6ea242f06be3",
   "metadata": {},
   "outputs": [
    {
     "name": "stdout",
     "output_type": "stream",
     "text": [
      "Best ARIMA order based on AIC: (0, 1, 1)\n"
     ]
    }
   ],
   "source": [
    "#Find best params for ARIMA model\n",
    "p = range(0, 3)  # AR order\n",
    "d = range(0, 2)  # Differencing\n",
    "q = range(0, 3)  # MA order\n",
    "pdq = list(itertools.product(p, d, q))\n",
    "\n",
    "#use aic for best model, set up saves\n",
    "best_aic = float('inf')\n",
    "best_pdq = None\n",
    "\n",
    "for param in pdq:\n",
    "    try:\n",
    "        model = ARIMA(df['wheat_price'], order=param)\n",
    "        results = model.fit()\n",
    "        if results.aic < best_aic:\n",
    "            best_aic = results.aic\n",
    "            best_pdq = param\n",
    "    except:\n",
    "        continue\n",
    "\n",
    "best_arima_aic = best_aic\n",
    "\n",
    "print(f\"Best ARIMA order based on AIC: {best_pdq}\")"
   ]
  },
  {
   "cell_type": "code",
   "execution_count": 10,
   "id": "d4b1a78b-7296-4472-9959-4e2dac7ed219",
   "metadata": {},
   "outputs": [
    {
     "name": "stdout",
     "output_type": "stream",
     "text": [
      "ARIMA(0,1,1) Results: \n",
      "                                SARIMAX Results                                \n",
      "==============================================================================\n",
      "Dep. Variable:            wheat_price   No. Observations:                  421\n",
      "Model:                 ARIMA(0, 1, 1)   Log Likelihood                -374.330\n",
      "Date:                Sat, 26 Apr 2025   AIC                            752.660\n",
      "Time:                        18:26:07   BIC                            760.741\n",
      "Sample:                             0   HQIC                           755.854\n",
      "                                - 421                                         \n",
      "Covariance Type:                  opg                                         \n",
      "==============================================================================\n",
      "                 coef    std err          z      P>|z|      [0.025      0.975]\n",
      "------------------------------------------------------------------------------\n",
      "ma.L1         -0.3533      0.027    -13.308      0.000      -0.405      -0.301\n",
      "sigma2         0.3480      0.008     44.367      0.000       0.333       0.363\n",
      "===================================================================================\n",
      "Ljung-Box (L1) (Q):                   0.15   Jarque-Bera (JB):              6086.51\n",
      "Prob(Q):                              0.70   Prob(JB):                         0.00\n",
      "Heteroskedasticity (H):               3.45   Skew:                            -2.42\n",
      "Prob(H) (two-sided):                  0.00   Kurtosis:                        21.01\n",
      "===================================================================================\n",
      "\n",
      "Warnings:\n",
      "[1] Covariance matrix calculated using the outer product of gradients (complex-step).\n"
     ]
    }
   ],
   "source": [
    "#Test best model ARIMA(0,1,1)\n",
    "arima_011 = ARIMA(df['wheat_price'], order=best_pdq).fit()\n",
    "print('ARIMA(0,1,1) Results: \\n',arima_011.summary())"
   ]
  },
  {
   "cell_type": "markdown",
   "id": "d15e2b3f-dd6c-43e0-a55a-e70ccaf05ebe",
   "metadata": {},
   "source": [
    "### 1.4 ARIMAX Model"
   ]
  },
  {
   "cell_type": "code",
   "execution_count": 12,
   "id": "9e58a2c1-a010-4ba8-8fe4-2bcf438f987b",
   "metadata": {},
   "outputs": [],
   "source": [
    "#Save exogenous data separately\n",
    "exog_data = df.copy().drop(columns = ['wheat_price','date'])\n",
    "\n",
    "#standardize exogenous features\n",
    "exog_data = (exog_data - exog_data.mean()) / exog_data.std()"
   ]
  },
  {
   "cell_type": "code",
   "execution_count": 13,
   "id": "8c806402-3c8c-48b0-abd2-db0832ae70fe",
   "metadata": {},
   "outputs": [
    {
     "name": "stdout",
     "output_type": "stream",
     "text": [
      "Best ARIMAX model order based on AIC: (2, 1, 1); AIC = 727.964382296861\n"
     ]
    }
   ],
   "source": [
    "#Find best params for ARIMAX model\n",
    "p = range(0, 3)  #AR order\n",
    "d = range(0, 2)  #differencing options\n",
    "q = range(0, 3)  #MA order\n",
    "pdq = list(itertools.product(p, d, q))\n",
    "\n",
    "#find best model params by aic\n",
    "best_arimax_aic = float('inf')\n",
    "best_arimax_params = None\n",
    "for param in pdq:\n",
    "    try:\n",
    "        model = SARIMAX(df['wheat_price'], \n",
    "                        exog=exog_data,\n",
    "                        order=param, \n",
    "                        seasonal_order=(0, 0, 0, 0))  #don't add seasonality\n",
    "        results = model.fit(disp=False)\n",
    "        if results.aic < best_arimax_aic:\n",
    "            best_arimax_aic = results.aic\n",
    "            best_arimax_params = param\n",
    "    except:\n",
    "        continue\n",
    "\n",
    "print(f\"Best ARIMAX model order based on AIC: {best_arimax_params}; AIC = {best_arimax_aic}\")"
   ]
  },
  {
   "cell_type": "code",
   "execution_count": 14,
   "id": "1917c57e-d7c5-48db-b55d-00252eb8d6c2",
   "metadata": {},
   "outputs": [
    {
     "name": "stdout",
     "output_type": "stream",
     "text": [
      "ARIMAX(2,1,1) Results: \n",
      "                                SARIMAX Results                                \n",
      "==============================================================================\n",
      "Dep. Variable:            wheat_price   No. Observations:                  421\n",
      "Model:               SARIMAX(2, 1, 1)   Log Likelihood                -351.982\n",
      "Date:                Sat, 26 Apr 2025   AIC                            727.964\n",
      "Time:                        18:26:14   BIC                            776.447\n",
      "Sample:                             0   HQIC                           747.127\n",
      "                                - 421                                         \n",
      "Covariance Type:                  opg                                         \n",
      "=====================================================================================\n",
      "                        coef    std err          z      P>|z|      [0.025      0.975]\n",
      "-------------------------------------------------------------------------------------\n",
      "fertilizer_idx        0.5031      0.247      2.035      0.042       0.019       0.988\n",
      "drought_idx          -0.1061      0.082     -1.289      0.198      -0.268       0.055\n",
      "cpi                  -0.2548      0.650     -0.392      0.695      -1.530       1.020\n",
      "commodity_imp_idx     0.8493      0.496      1.713      0.087      -0.122       1.821\n",
      "commodity_exp_idx     0.0717      0.461      0.156      0.876      -0.832       0.975\n",
      "flour_price           0.0653      0.159      0.410      0.682      -0.247       0.377\n",
      "corn_price            0.7802      0.194      4.026      0.000       0.400       1.160\n",
      "crude_oil_price      -0.3124      0.262     -1.193      0.233      -0.826       0.201\n",
      "ar.L1                 0.5177      0.037     13.924      0.000       0.445       0.591\n",
      "ar.L2                 0.1906      0.045      4.275      0.000       0.103       0.278\n",
      "ma.L1                -0.9802      0.023    -41.830      0.000      -1.026      -0.934\n",
      "sigma2                0.3115      0.011     28.130      0.000       0.290       0.333\n",
      "===================================================================================\n",
      "Ljung-Box (L1) (Q):                   0.00   Jarque-Bera (JB):              7148.50\n",
      "Prob(Q):                              0.97   Prob(JB):                         0.00\n",
      "Heteroskedasticity (H):               3.36   Skew:                            -2.14\n",
      "Prob(H) (two-sided):                  0.00   Kurtosis:                        22.75\n",
      "===================================================================================\n",
      "\n",
      "Warnings:\n",
      "[1] Covariance matrix calculated using the outer product of gradients (complex-step).\n"
     ]
    }
   ],
   "source": [
    "#Test ARIMAX(2,1,1)\n",
    "arimax_101 = SARIMAX(df['wheat_price'], \n",
    "                     exog=exog_data,\n",
    "                     order=best_arimax_params, \n",
    "                     seasonal_order=(0, 0, 0, 0)).fit(disp=False)\n",
    "print('ARIMAX(2,1,1) Results: \\n',arimax_101.summary())"
   ]
  },
  {
   "cell_type": "markdown",
   "id": "1e17b7c2-9326-4f1a-b488-aa78f7b3bae3",
   "metadata": {},
   "source": [
    "### 1.4 SARIMAX Model"
   ]
  },
  {
   "cell_type": "markdown",
   "id": "becf7878-3eb1-407f-be80-b4f27c5fb457",
   "metadata": {},
   "source": [
    "#### 1.4.1 ACF Plot For Seasonality Test"
   ]
  },
  {
   "cell_type": "code",
   "execution_count": 17,
   "id": "f1b96cb1-5bd3-4632-a515-ce17eeb6cb33",
   "metadata": {},
   "outputs": [
    {
     "data": {
      "text/plain": [
       "<Figure size 1200x1000 with 0 Axes>"
      ]
     },
     "metadata": {},
     "output_type": "display_data"
    },
    {
     "data": {
      "image/png": "[encoded data removed]",
      "text/plain": [
       "<Figure size 640x480 with 1 Axes>"
      ]
     },
     "metadata": {},
     "output_type": "display_data"
    }
   ],
   "source": [
    "#Plot ACF\n",
    "plt.figure(figsize=(12, 10))\n",
    "plot_acf(df['wheat_price'], lags=36 ) \n",
    "plt.title('Autocorrelation Function (ACF)')\n",
    "plt.tight_layout()\n",
    "plt.show()"
   ]
  },
  {
   "cell_type": "markdown",
   "id": "0cc7ec0b-61a0-4772-a98f-1365bc010bcd",
   "metadata": {},
   "source": [
    "#### 1.4.2 SARIMAX Model Implementation"
   ]
  },
  {
   "cell_type": "code",
   "execution_count": 19,
   "id": "d3991625-1cb1-4e1d-9a77-5a0830498af1",
   "metadata": {},
   "outputs": [
    {
     "name": "stdout",
     "output_type": "stream",
     "text": [
      "\n",
      "Best SARIMAX model: SARIMAX(2, 1, 1)x(1, 0, 1, 12) with AIC: 716.4634424827402\n"
     ]
    }
   ],
   "source": [
    "#Find best seasonal params for SARIMAX\n",
    "P = range(0, 2)  #seasonal AR order\n",
    "D = range(0, 2)  #seasonal differencing\n",
    "Q = range(0, 2)  #seasonal MA order\n",
    "s = 12  #yearly seasonality\n",
    "\n",
    "#Create all combinations of seasonal parameters\n",
    "seasonal_pdq = list(itertools.product(P, D, Q, [s]))\n",
    "\n",
    "# Find best SARIMAX model with both ARIMA and seasonal components\n",
    "best_sarimax_aic = float('inf')\n",
    "best_seasonal_params = None\n",
    "\n",
    "# Grid search over seasonal parameters\n",
    "for seasonal_param in seasonal_pdq:\n",
    "    try:\n",
    "        model = SARIMAX(df['wheat_price'], \n",
    "                       exog=exog_data,\n",
    "                       order=best_arimax_params, #use best arimax params\n",
    "                       seasonal_order=seasonal_param,)\n",
    "        \n",
    "        results = model.fit(disp=False, maxiter=100)\n",
    "        current_aic = results.aic\n",
    "        \n",
    "        if current_aic < best_sarimax_aic:\n",
    "            best_sarimax_aic = current_aic\n",
    "            best_seasonal_params = seasonal_param\n",
    "            sarimax_results = results\n",
    "    except Exception as e:\n",
    "        \n",
    "        continue\n",
    "\n",
    "print(f\"\\nBest SARIMAX model: SARIMAX{best_arimax_params}x{best_seasonal_params} with AIC: {best_sarimax_aic:}\")"
   ]
  },
  {
   "cell_type": "code",
   "execution_count": 20,
   "id": "c0a34362-9acd-46fd-91b5-fd7f416785f6",
   "metadata": {},
   "outputs": [
    {
     "name": "stdout",
     "output_type": "stream",
     "text": [
      "                                     SARIMAX Results                                      \n",
      "==========================================================================================\n",
      "Dep. Variable:                        wheat_price   No. Observations:                  421\n",
      "Model:             SARIMAX(2, 1, 1)x(1, 0, 1, 12)   Log Likelihood                -344.232\n",
      "Date:                            Sat, 26 Apr 2025   AIC                            716.463\n",
      "Time:                                    18:27:09   BIC                            773.027\n",
      "Sample:                                         0   HQIC                           738.820\n",
      "                                            - 421                                         \n",
      "Covariance Type:                              opg                                         \n",
      "=====================================================================================\n",
      "                        coef    std err          z      P>|z|      [0.025      0.975]\n",
      "-------------------------------------------------------------------------------------\n",
      "fertilizer_idx        0.4820      0.265      1.820      0.069      -0.037       1.001\n",
      "drought_idx          -0.0778      0.079     -0.982      0.326      -0.233       0.077\n",
      "cpi                  -0.3857      0.538     -0.717      0.473      -1.439       0.668\n",
      "commodity_imp_idx     0.5904      0.549      1.076      0.282      -0.485       1.666\n",
      "commodity_exp_idx     0.2676      0.499      0.536      0.592      -0.710       1.246\n",
      "flour_price           0.0884      0.171      0.517      0.605      -0.247       0.424\n",
      "corn_price            0.7293      0.190      3.848      0.000       0.358       1.101\n",
      "crude_oil_price      -0.1563      0.248     -0.630      0.529      -0.642       0.330\n",
      "ar.L1                 0.5195      0.035     14.994      0.000       0.452       0.587\n",
      "ar.L2                 0.1910      0.044      4.319      0.000       0.104       0.278\n",
      "ma.L1                -0.9990      0.103     -9.683      0.000      -1.201      -0.797\n",
      "ar.S.L12             -0.6857      0.081     -8.439      0.000      -0.845      -0.526\n",
      "ma.S.L12              0.8203      0.069     11.948      0.000       0.686       0.955\n",
      "sigma2                0.2982      0.030      9.908      0.000       0.239       0.357\n",
      "===================================================================================\n",
      "Ljung-Box (L1) (Q):                   0.01   Jarque-Bera (JB):              5925.91\n",
      "Prob(Q):                              0.93   Prob(JB):                         0.00\n",
      "Heteroskedasticity (H):               2.90   Skew:                            -1.60\n",
      "Prob(H) (two-sided):                  0.00   Kurtosis:                        21.12\n",
      "===================================================================================\n",
      "\n",
      "Warnings:\n",
      "[1] Covariance matrix calculated using the outer product of gradients (complex-step).\n"
     ]
    }
   ],
   "source": [
    "#Test SARIMAX(2,1,1)x(0,0,1,12)\n",
    "print(sarimax_results.summary())"
   ]
  },
  {
   "cell_type": "markdown",
   "id": "6542b097-49e4-4c0e-99e7-2ea2fc51d480",
   "metadata": {},
   "source": [
    "### 1.5 Next Year Forecasting"
   ]
  },
  {
   "cell_type": "markdown",
   "id": "7dc72d51-d0d5-4d5b-9dea-7e78900b999e",
   "metadata": {},
   "source": [
    "#### 1.5.1 Predict Future Exogenous Variables Using VAR"
   ]
  },
  {
   "cell_type": "code",
   "execution_count": 23,
   "id": "91a8a2a9-a779-417c-9d9d-12e15e225441",
   "metadata": {},
   "outputs": [
    {
     "name": "stdout",
     "output_type": "stream",
     "text": [
      " VAR Order Selection (* highlights the minimums)  \n",
      "==================================================\n",
      "       AIC         BIC         FPE         HQIC   \n",
      "--------------------------------------------------\n",
      "0       -13.52      -13.44   1.350e-06      -13.48\n",
      "1       -40.78      -40.07   1.953e-18      -40.50\n",
      "2       -41.90     -40.57*   6.385e-19     -41.37*\n",
      "3       -41.89      -39.94   6.405e-19      -41.12\n",
      "4      -41.93*      -39.35  6.197e-19*      -40.91\n",
      "5       -41.89      -38.68   6.456e-19      -40.62\n",
      "6       -41.88      -38.04   6.557e-19      -40.36\n",
      "7       -41.80      -37.34   7.139e-19      -40.03\n",
      "8       -41.73      -36.64   7.716e-19      -39.72\n",
      "9       -41.73      -36.02   7.727e-19      -39.48\n",
      "10      -41.76      -35.43   7.585e-19      -39.26\n",
      "--------------------------------------------------\n",
      "Optimal Lag: 4\n"
     ]
    }
   ],
   "source": [
    "#VAR model\n",
    "var_model = VAR(exog_data)\n",
    "lag_order_results = var_model.select_order(maxlags=10)\n",
    "print(lag_order_results.summary())\n",
    "optimal_lag = lag_order_results.aic\n",
    "print(f'Optimal Lag: {optimal_lag}')\n",
    "\n",
    "# Fit the model with the optimal lag\n",
    "var_fitted = var_model.fit(maxlags=optimal_lag)  # Use the optimal lag found\n",
    "\n",
    "# Forecast future values\n",
    "future_exog = var_fitted.forecast(y=exog_data.values[-optimal_lag:], steps=12)\n",
    "future_exog = pd.DataFrame(future_exog, columns=exog_data.columns)"
   ]
  },
  {
   "cell_type": "markdown",
   "id": "5884413b-b817-47d3-bfee-a3734cd25d29",
   "metadata": {},
   "source": [
    "#### 1.5.2 Forecast For Each Model"
   ]
  },
  {
   "cell_type": "code",
   "execution_count": 25,
   "id": "ffc775ba-6234-4ab0-9b32-e7137122a623",
   "metadata": {},
   "outputs": [],
   "source": [
    "#AR(1) Forecasting\n",
    "ar_1_forecast = ar_1.predict(start=len(df), end=len(df) + 11)\n",
    "#AR(2) forecasting\n",
    "ar_2_forecast = ar_2.predict(start=len(df), end=len(df) + 11)\n",
    "#ARIMA forecasting\n",
    "arima_011_forecast = arima_011.forecast(steps=12)\n",
    "#ARIMAX forecasting\n",
    "arimax_101_forecast = arimax_101.forecast(steps=12, exog=future_exog)\n",
    "#SARIMAX forecasting\n",
    "sarimax_101_forecast = sarimax_results.forecast(steps=12, exog=future_exog)"
   ]
  },
  {
   "cell_type": "markdown",
   "id": "de47db4e-cd80-4f2e-a676-ae9d4145bd2c",
   "metadata": {},
   "source": [
    "### 1.6 Time Series Model Comparisons"
   ]
  },
  {
   "cell_type": "code",
   "execution_count": 27,
   "id": "9f286bde-207f-4dde-9276-27e4a1fe3de9",
   "metadata": {},
   "outputs": [
    {
     "data": {
      "text/html": [
       "<div>\n",
       "<style scoped>\n",
       "    .dataframe tbody tr th:only-of-type {\n",
       "        vertical-align: middle;\n",
       "    }\n",
       "\n",
       "    .dataframe tbody tr th {\n",
       "        vertical-align: top;\n",
       "    }\n",
       "\n",
       "    .dataframe thead th {\n",
       "        text-align: right;\n",
       "    }\n",
       "</style>\n",
       "<table border=\"1\" class=\"dataframe\">\n",
       "  <thead>\n",
       "    <tr style=\"text-align: right;\">\n",
       "      <th></th>\n",
       "      <th>Month</th>\n",
       "      <th>AR(1)</th>\n",
       "      <th>AR(2)</th>\n",
       "      <th>ARIMA</th>\n",
       "      <th>ARIMAX</th>\n",
       "      <th>SARIMAX</th>\n",
       "    </tr>\n",
       "  </thead>\n",
       "  <tbody>\n",
       "    <tr>\n",
       "      <th>0</th>\n",
       "      <td>Nov 2024</td>\n",
       "      <td>5.550153</td>\n",
       "      <td>5.544661</td>\n",
       "      <td>5.5598</td>\n",
       "      <td>5.938611</td>\n",
       "      <td>5.892018</td>\n",
       "    </tr>\n",
       "    <tr>\n",
       "      <th>1</th>\n",
       "      <td>Dec 2024</td>\n",
       "      <td>5.512544</td>\n",
       "      <td>5.532288</td>\n",
       "      <td>5.5598</td>\n",
       "      <td>6.231337</td>\n",
       "      <td>6.159643</td>\n",
       "    </tr>\n",
       "    <tr>\n",
       "      <th>2</th>\n",
       "      <td>Jan 2025</td>\n",
       "      <td>5.477047</td>\n",
       "      <td>5.511539</td>\n",
       "      <td>5.5598</td>\n",
       "      <td>6.511261</td>\n",
       "      <td>6.553589</td>\n",
       "    </tr>\n",
       "    <tr>\n",
       "      <th>3</th>\n",
       "      <td>Feb 2025</td>\n",
       "      <td>5.443543</td>\n",
       "      <td>5.493904</td>\n",
       "      <td>5.5598</td>\n",
       "      <td>6.721582</td>\n",
       "      <td>6.541320</td>\n",
       "    </tr>\n",
       "    <tr>\n",
       "      <th>4</th>\n",
       "      <td>Mar 2025</td>\n",
       "      <td>5.411921</td>\n",
       "      <td>5.476158</td>\n",
       "      <td>5.5598</td>\n",
       "      <td>6.915266</td>\n",
       "      <td>6.773141</td>\n",
       "    </tr>\n",
       "    <tr>\n",
       "      <th>5</th>\n",
       "      <td>Apr 2025</td>\n",
       "      <td>5.382076</td>\n",
       "      <td>5.459175</td>\n",
       "      <td>5.5598</td>\n",
       "      <td>7.102274</td>\n",
       "      <td>6.840962</td>\n",
       "    </tr>\n",
       "    <tr>\n",
       "      <th>6</th>\n",
       "      <td>May 2025</td>\n",
       "      <td>5.353906</td>\n",
       "      <td>5.442687</td>\n",
       "      <td>5.5598</td>\n",
       "      <td>7.276787</td>\n",
       "      <td>7.010898</td>\n",
       "    </tr>\n",
       "    <tr>\n",
       "      <th>7</th>\n",
       "      <td>Jun 2025</td>\n",
       "      <td>5.327319</td>\n",
       "      <td>5.426746</td>\n",
       "      <td>5.5598</td>\n",
       "      <td>7.431868</td>\n",
       "      <td>7.188840</td>\n",
       "    </tr>\n",
       "    <tr>\n",
       "      <th>8</th>\n",
       "      <td>Jul 2025</td>\n",
       "      <td>5.302225</td>\n",
       "      <td>5.411316</td>\n",
       "      <td>5.5598</td>\n",
       "      <td>7.573062</td>\n",
       "      <td>7.340512</td>\n",
       "    </tr>\n",
       "    <tr>\n",
       "      <th>9</th>\n",
       "      <td>Aug 2025</td>\n",
       "      <td>5.278540</td>\n",
       "      <td>5.396386</td>\n",
       "      <td>5.5598</td>\n",
       "      <td>7.700370</td>\n",
       "      <td>7.484187</td>\n",
       "    </tr>\n",
       "    <tr>\n",
       "      <th>10</th>\n",
       "      <td>Sep 2025</td>\n",
       "      <td>5.256185</td>\n",
       "      <td>5.381937</td>\n",
       "      <td>5.5598</td>\n",
       "      <td>7.815922</td>\n",
       "      <td>7.589965</td>\n",
       "    </tr>\n",
       "    <tr>\n",
       "      <th>11</th>\n",
       "      <td>Oct 2025</td>\n",
       "      <td>5.235086</td>\n",
       "      <td>5.367955</td>\n",
       "      <td>5.5598</td>\n",
       "      <td>7.920945</td>\n",
       "      <td>7.698232</td>\n",
       "    </tr>\n",
       "  </tbody>\n",
       "</table>\n",
       "</div>"
      ],
      "text/plain": [
       "       Month     AR(1)     AR(2)   ARIMA    ARIMAX   SARIMAX\n",
       "0   Nov 2024  5.550153  5.544661  5.5598  5.938611  5.892018\n",
       "1   Dec 2024  5.512544  5.532288  5.5598  6.231337  6.159643\n",
       "2   Jan 2025  5.477047  5.511539  5.5598  6.511261  6.553589\n",
       "3   Feb 2025  5.443543  5.493904  5.5598  6.721582  6.541320\n",
       "4   Mar 2025  5.411921  5.476158  5.5598  6.915266  6.773141\n",
       "5   Apr 2025  5.382076  5.459175  5.5598  7.102274  6.840962\n",
       "6   May 2025  5.353906  5.442687  5.5598  7.276787  7.010898\n",
       "7   Jun 2025  5.327319  5.426746  5.5598  7.431868  7.188840\n",
       "8   Jul 2025  5.302225  5.411316  5.5598  7.573062  7.340512\n",
       "9   Aug 2025  5.278540  5.396386  5.5598  7.700370  7.484187\n",
       "10  Sep 2025  5.256185  5.381937  5.5598  7.815922  7.589965\n",
       "11  Oct 2025  5.235086  5.367955  5.5598  7.920945  7.698232"
      ]
     },
     "execution_count": 27,
     "metadata": {},
     "output_type": "execute_result"
    }
   ],
   "source": [
    "#Compare forecasts using df\n",
    "forecast_df = pd.DataFrame({\n",
    "    'Month': ['Nov 2024', 'Dec 2024', 'Jan 2025', 'Feb 2025', 'Mar 2025', 'Apr 2025', 'May 2025',\n",
    "             'Jun 2025', 'Jul 2025','Aug 2025', 'Sep 2025', 'Oct 2025'],\n",
    "    'AR(1)': ar_1_forecast,\n",
    "    'AR(2)': ar_2_forecast,\n",
    "    'ARIMA': arima_011_forecast,\n",
    "    'ARIMAX': arimax_101_forecast,\n",
    "    'SARIMAX': sarimax_101_forecast\n",
    "}).reset_index(drop = True)\n",
    "forecast_df"
   ]
  },
  {
   "cell_type": "code",
   "execution_count": 28,
   "id": "44642100-1600-459e-9f11-72f3c7ec9d11",
   "metadata": {},
   "outputs": [
    {
     "data": {
      "text/html": [
       "<div>\n",
       "<style scoped>\n",
       "    .dataframe tbody tr th:only-of-type {\n",
       "        vertical-align: middle;\n",
       "    }\n",
       "\n",
       "    .dataframe tbody tr th {\n",
       "        vertical-align: top;\n",
       "    }\n",
       "\n",
       "    .dataframe thead th {\n",
       "        text-align: right;\n",
       "    }\n",
       "</style>\n",
       "<table border=\"1\" class=\"dataframe\">\n",
       "  <thead>\n",
       "    <tr style=\"text-align: right;\">\n",
       "      <th></th>\n",
       "      <th>Model</th>\n",
       "      <th>AIC</th>\n",
       "    </tr>\n",
       "  </thead>\n",
       "  <tbody>\n",
       "    <tr>\n",
       "      <th>0</th>\n",
       "      <td>AR(1)</td>\n",
       "      <td>786.896034</td>\n",
       "    </tr>\n",
       "    <tr>\n",
       "      <th>1</th>\n",
       "      <td>AR(2)</td>\n",
       "      <td>756.273349</td>\n",
       "    </tr>\n",
       "    <tr>\n",
       "      <th>2</th>\n",
       "      <td>ARIMA</td>\n",
       "      <td>752.660009</td>\n",
       "    </tr>\n",
       "    <tr>\n",
       "      <th>3</th>\n",
       "      <td>ARIMAX</td>\n",
       "      <td>727.964382</td>\n",
       "    </tr>\n",
       "    <tr>\n",
       "      <th>4</th>\n",
       "      <td>SARIMAX</td>\n",
       "      <td>716.463442</td>\n",
       "    </tr>\n",
       "  </tbody>\n",
       "</table>\n",
       "</div>"
      ],
      "text/plain": [
       "     Model         AIC\n",
       "0    AR(1)  786.896034\n",
       "1    AR(2)  756.273349\n",
       "2    ARIMA  752.660009\n",
       "3   ARIMAX  727.964382\n",
       "4  SARIMAX  716.463442"
      ]
     },
     "execution_count": 28,
     "metadata": {},
     "output_type": "execute_result"
    }
   ],
   "source": [
    "#Compare AIC values\n",
    "ts_aic = pd.DataFrame({\n",
    "    'Model': ['AR(1)','AR(2)','ARIMA',\"ARIMAX\",'SARIMAX'],\n",
    "    'AIC': [ar_1_aic, ar_2_aic, best_arima_aic, best_arimax_aic, best_sarimax_aic]\n",
    "})\n",
    "ts_aic"
   ]
  },
  {
   "cell_type": "markdown",
   "id": "5e6bdd03-d14a-4366-96bb-bc6f61e85d8f",
   "metadata": {},
   "source": [
    "## 2 Machine Learning with SARIMAX"
   ]
  },
  {
   "cell_type": "markdown",
   "id": "71c0e869-2e2b-4ec7-a28f-43dabf343e98",
   "metadata": {},
   "source": [
    "## 2.1 Implement Model"
   ]
  },
  {
   "cell_type": "code",
   "execution_count": 31,
   "id": "0873ff51-d5a7-406b-b2cc-3aabb0cac7bc",
   "metadata": {},
   "outputs": [],
   "source": [
    "#split data into 80% train and 20% test\n",
    "train_size = int(len(df) * 0.8)\n",
    "train_data = df.iloc[:train_size]\n",
    "test_data = df.iloc[train_size:]\n",
    "\n",
    "# Also split your exogenous variables\n",
    "exog_train = exog_data.iloc[:train_size]\n",
    "exog_test = exog_data.iloc[train_size:]"
   ]
  },
  {
   "cell_type": "code",
   "execution_count": 32,
   "id": "16932cdd-7b72-4d18-bcda-7d8c5844974a",
   "metadata": {},
   "outputs": [
    {
     "name": "stdout",
     "output_type": "stream",
     "text": [
      "                                     SARIMAX Results                                      \n",
      "==========================================================================================\n",
      "Dep. Variable:                        wheat_price   No. Observations:                  336\n",
      "Model:             SARIMAX(2, 1, 1)x(1, 0, 1, 12)   Log Likelihood                -251.160\n",
      "Date:                            Sat, 26 Apr 2025   AIC                            530.320\n",
      "Time:                                    18:27:11   BIC                            583.718\n",
      "Sample:                                         0   HQIC                           551.608\n",
      "                                            - 336                                         \n",
      "Covariance Type:                              opg                                         \n",
      "=====================================================================================\n",
      "                        coef    std err          z      P>|z|      [0.025      0.975]\n",
      "-------------------------------------------------------------------------------------\n",
      "fertilizer_idx        0.6099      0.371      1.644      0.100      -0.117       1.337\n",
      "drought_idx          -0.0651      0.096     -0.678      0.498      -0.253       0.123\n",
      "cpi                  -1.1017      0.868     -1.269      0.204      -2.803       0.599\n",
      "commodity_imp_idx    -1.5857      0.880     -1.803      0.071      -3.310       0.138\n",
      "commodity_exp_idx     3.2015      0.950      3.370      0.001       1.340       5.063\n",
      "flour_price          -0.0364      0.364     -0.100      0.920      -0.751       0.678\n",
      "corn_price            0.3588      0.233      1.539      0.124      -0.098       0.816\n",
      "crude_oil_price       0.5179      0.393      1.317      0.188      -0.253       1.289\n",
      "ar.L1                 0.5838      0.043     13.429      0.000       0.499       0.669\n",
      "ar.L2                 0.1410      0.048      2.941      0.003       0.047       0.235\n",
      "ma.L1                -0.9736      0.029    -33.485      0.000      -1.031      -0.917\n",
      "ar.S.L12              0.3397      0.327      1.039      0.299      -0.301       0.981\n",
      "ma.S.L12             -0.4377      0.316     -1.384      0.166      -1.057       0.182\n",
      "sigma2                0.2616      0.015     17.611      0.000       0.232       0.291\n",
      "===================================================================================\n",
      "Ljung-Box (L1) (Q):                   0.05   Jarque-Bera (JB):              6416.74\n",
      "Prob(Q):                              0.83   Prob(JB):                         0.00\n",
      "Heteroskedasticity (H):               2.39   Skew:                            -2.38\n",
      "Prob(H) (two-sided):                  0.00   Kurtosis:                        23.91\n",
      "===================================================================================\n",
      "\n",
      "Warnings:\n",
      "[1] Covariance matrix calculated using the outer product of gradients (complex-step).\n"
     ]
    }
   ],
   "source": [
    "#Fit SARIMAX model on training data\n",
    "sarimax_model = SARIMAX(\n",
    "    train_data['wheat_price'],\n",
    "    exog=exog_train,\n",
    "    order=best_arimax_params,\n",
    "    seasonal_order=best_seasonal_params\n",
    ")\n",
    "sarimax_results = sarimax_model.fit(disp=False)\n",
    "\n",
    "print(sarimax_results.summary())"
   ]
  },
  {
   "cell_type": "markdown",
   "id": "37e78373-7cf0-4da7-b7d3-6e732b409c02",
   "metadata": {},
   "source": [
    "## 2.2 Model Evaluation"
   ]
  },
  {
   "cell_type": "code",
   "execution_count": 34,
   "id": "5d3e08ed-5812-4a81-bda4-a60e7eabd88d",
   "metadata": {},
   "outputs": [],
   "source": [
    "#Forecast training relationship to test data\n",
    "forecast = sarimax_results.forecast(steps=len(test_data), exog=exog_test)\n",
    "forecast_df = pd.DataFrame({'forecast': forecast}, index=test_data.index)"
   ]
  },
  {
   "cell_type": "code",
   "execution_count": 35,
   "id": "1852d32b-c2c5-418c-80cc-2d282c72e85e",
   "metadata": {},
   "outputs": [
    {
     "name": "stdout",
     "output_type": "stream",
     "text": [
      "Out-of-sample performance metrics:\n",
      "RMSE: 1.4015\n",
      "MAE: 0.9700\n",
      "R Squared: 0.3049\n"
     ]
    }
   ],
   "source": [
    "mse = mean_squared_error(test_data['wheat_price'], forecast)\n",
    "rmse = np.sqrt(mse)\n",
    "mae = mean_absolute_error(test_data['wheat_price'], forecast)\n",
    "r2 = r2_score(test_data['wheat_price'], forecast)\n",
    "\n",
    "print(f\"Out-of-sample performance metrics:\")\n",
    "print(f\"RMSE: {rmse:.4f}\")\n",
    "print(f\"MAE: {mae:.4f}\")\n",
    "print(f\"R Squared: {r2:.4f}\")"
   ]
  },
  {
   "cell_type": "markdown",
   "id": "4712799c-9932-46ff-a335-605f54d0ec4d",
   "metadata": {},
   "source": [
    "#### 2.2.1 Visualizations"
   ]
  },
  {
   "cell_type": "code",
   "execution_count": 37,
   "id": "66723db5-431c-423c-89ba-337593a330eb",
   "metadata": {},
   "outputs": [
    {
     "data": {
      "image/png": "[encoded data removed]",
      "text/plain": [
       "<Figure size 1200x800 with 2 Axes>"
      ]
     },
     "metadata": {},
     "output_type": "display_data"
    }
   ],
   "source": [
    "#residual visualization\n",
    "residuals = test_data['wheat_price'] - forecast\n",
    "#plot residuals\n",
    "plt.figure(figsize=(12, 8))\n",
    "plt.subplot(311)\n",
    "plt.plot(residuals)\n",
    "plt.title('Residuals from SARIMAX Model')\n",
    "plt.axhline(y=0, color='r', linestyle='-')\n",
    "\n",
    "#add plot of histogram of residuals\n",
    "plt.subplot(312)\n",
    "plt.hist(residuals, bins=20)\n",
    "plt.title('Histogram of Residuals')\n",
    "\n",
    "plt.tight_layout()\n",
    "plt.show()"
   ]
  },
  {
   "cell_type": "code",
   "execution_count": null,
   "id": "e9a2a7ae-5e12-40c7-ad06-e6d9cbc0f555",
   "metadata": {},
   "outputs": [],
   "source": []
  }
 ],
 "metadata": {
  "kernelspec": {
   "display_name": "Python 3 (ipykernel)",
   "language": "python",
   "name": "python3"
  },
  "language_info": {
   "codemirror_mode": {
    "name": "ipython",
    "version": 3
   },
   "file_extension": ".py",
   "mimetype": "text/x-python",
   "name": "python",
   "nbconvert_exporter": "python",
   "pygments_lexer": "ipython3",
   "version": "3.12.4"
  }
 },
 "nbformat": 4,
 "nbformat_minor": 5
}

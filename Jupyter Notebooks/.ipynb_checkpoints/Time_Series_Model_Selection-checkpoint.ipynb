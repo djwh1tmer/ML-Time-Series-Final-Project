{
 "cells": [
  {
   "cell_type": "code",
   "execution_count": 1,
   "id": "049175c2-7c58-422d-8844-f82b3260a3e6",
   "metadata": {},
   "outputs": [],
   "source": [
    "#import libraries\n",
    "import pandas as pd\n",
    "import numpy as np\n",
    "import warnings\n",
    "warnings.filterwarnings('ignore')\n",
    "warnings.filterwarnings('ignore', 'Maximum Likelihood optimization failed to converge')\n",
    "from statsmodels.tsa.arima.model import ARIMA\n",
    "from statsmodels.tsa.statespace.sarimax import SARIMAX\n",
    "from statsmodels.tsa.ar_model import AutoReg\n",
    "from sklearn.linear_model import LinearRegression\n",
    "from sklearn.model_selection import TimeSeriesSplit\n",
    "from sklearn.metrics import mean_squared_error, mean_absolute_error\n",
    "from statsmodels.tsa.ar_model import ar_select_order\n",
    "import itertools\n",
    "from statsmodels.graphics.tsaplots import plot_acf, plot_pacf\n",
    "import statsmodels.api as sm\n",
    "from scipy import stats\n",
    "import matplotlib.pyplot as plt\n",
    "from statsmodels.tsa.api import VAR"
   ]
  },
  {
   "cell_type": "code",
   "execution_count": 2,
   "id": "95a0b96b-0886-4b09-ae10-df76d47e84fe",
   "metadata": {},
   "outputs": [],
   "source": [
    "#Import Dataset\n",
    "df = pd.read_csv('../Final Data/Final_Data.csv')"
   ]
  },
  {
   "cell_type": "markdown",
   "id": "18594961-f0ea-4d32-8360-c9c8b742bc53",
   "metadata": {},
   "source": [
    "Testing AR Models"
   ]
  },
  {
   "cell_type": "code",
   "execution_count": 4,
   "id": "0a24f4fa-fe0b-437c-9778-28a783745eee",
   "metadata": {},
   "outputs": [
    {
     "name": "stdout",
     "output_type": "stream",
     "text": [
      "Optimal lag order selected (BIC) for Monthly return : [1, 2]\n",
      "Optimal lag order selected (AIC) for Monthly return : [1, 2, 3, 4, 5, 6, 7, 8]\n"
     ]
    }
   ],
   "source": [
    "#Find optimal lag to test\n",
    "best_model = ar_select_order(df['wheat_price'], maxlag=25, ic='bic', old_names=False)\n",
    "print(f\"Optimal lag order selected (BIC) for Monthly return : {best_model.ar_lags}\")\n",
    "best_model = ar_select_order(df['wheat_price'], maxlag=25, ic='aic', old_names=False)\n",
    "print(f\"Optimal lag order selected (AIC) for Monthly return : {best_model.ar_lags}\")"
   ]
  },
  {
   "cell_type": "code",
   "execution_count": 39,
   "id": "a7e047c6-9561-4f23-9fae-1ec69923f487",
   "metadata": {},
   "outputs": [
    {
     "name": "stdout",
     "output_type": "stream",
     "text": [
      "                            AutoReg Model Results                             \n",
      "==============================================================================\n",
      "Dep. Variable:            wheat_price   No. Observations:                  421\n",
      "Model:                     AutoReg(1)   Log Likelihood                -390.448\n",
      "Method:               Conditional MLE   S.D. of innovations              0.613\n",
      "Date:                Sat, 26 Apr 2025   AIC                            786.896\n",
      "Time:                        09:20:36   BIC                            799.017\n",
      "Sample:                             1   HQIC                           791.687\n",
      "                                  421                                         \n",
      "==================================================================================\n",
      "                     coef    std err          z      P>|z|      [0.025      0.975]\n",
      "----------------------------------------------------------------------------------\n",
      "const              0.2741      0.083      3.308      0.001       0.112       0.436\n",
      "wheat_price.L1     0.9438      0.016     58.648      0.000       0.912       0.975\n",
      "                                    Roots                                    \n",
      "=============================================================================\n",
      "                  Real          Imaginary           Modulus         Frequency\n",
      "-----------------------------------------------------------------------------\n",
      "AR.1            1.0595           +0.0000j            1.0595            0.0000\n",
      "-----------------------------------------------------------------------------\n",
      "                            AutoReg Model Results                             \n",
      "==============================================================================\n",
      "Dep. Variable:            wheat_price   No. Observations:                  421\n",
      "Model:                     AutoReg(2)   Log Likelihood                -374.137\n",
      "Method:               Conditional MLE   S.D. of innovations              0.591\n",
      "Date:                Sat, 26 Apr 2025   AIC                            756.273\n",
      "Time:                        09:20:36   BIC                            772.425\n",
      "Sample:                             2   HQIC                           762.658\n",
      "                                  421                                         \n",
      "==================================================================================\n",
      "                     coef    std err          z      P>|z|      [0.025      0.975]\n",
      "----------------------------------------------------------------------------------\n",
      "const              0.2043      0.081      2.526      0.012       0.046       0.363\n",
      "wheat_price.L1     0.6891      0.047     14.650      0.000       0.597       0.781\n",
      "wheat_price.L2     0.2696      0.047      5.733      0.000       0.177       0.362\n",
      "                                    Roots                                    \n",
      "=============================================================================\n",
      "                  Real          Imaginary           Modulus         Frequency\n",
      "-----------------------------------------------------------------------------\n",
      "AR.1            1.0334           +0.0000j            1.0334            0.0000\n",
      "AR.2           -3.5896           +0.0000j            3.5896            0.5000\n",
      "-----------------------------------------------------------------------------\n"
     ]
    }
   ],
   "source": [
    "#AR(1) Model\n",
    "ar_1 = AutoReg(df['wheat_price'], lags = 1).fit()\n",
    "print(ar_1.summary())\n",
    "#AR(2) Model\n",
    "ar_2 = AutoReg(df['wheat_price'], lags = 2).fit()\n",
    "print(ar_2.summary())\n",
    "\n",
    "#predict forecasts; AR(1) then AR(2)\n",
    "ar_1_forecast = ar_1.predict(start=len(df), end=len(df) + 11)\n",
    "ar_2_forecast = ar_2.predict(start=len(df), end=len(df) + 11)"
   ]
  },
  {
   "cell_type": "markdown",
   "id": "3e3df37f-e974-43b4-84ab-5e72a9415356",
   "metadata": {},
   "source": [
    "ARIMA Model"
   ]
  },
  {
   "cell_type": "code",
   "execution_count": 7,
   "id": "1b14282c-b648-4748-be86-6ea242f06be3",
   "metadata": {},
   "outputs": [
    {
     "name": "stdout",
     "output_type": "stream",
     "text": [
      "Best ARIMA order based on AIC: (0, 1, 1)\n"
     ]
    },
    {
     "name": "stderr",
     "output_type": "stream",
     "text": [
      "/opt/anaconda3/lib/python3.12/site-packages/statsmodels/base/model.py:607: ConvergenceWarning: Maximum Likelihood optimization failed to converge. Check mle_retvals\n",
      "  warnings.warn(\"Maximum Likelihood optimization failed to \"\n"
     ]
    }
   ],
   "source": [
    "#Find best params for ARIMA model\n",
    "p = range(0, 3)  # AR order\n",
    "d = range(0, 2)  # Differencing\n",
    "q = range(0, 3)  # MA order\n",
    "pdq = list(itertools.product(p, d, q))\n",
    "\n",
    "#use aic for best model, set up saves\n",
    "best_aic = float('inf')\n",
    "best_pdq = None\n",
    "\n",
    "for param in pdq:\n",
    "    try:\n",
    "        model = ARIMA(df['wheat_price'], order=param)\n",
    "        results = model.fit()\n",
    "        if results.aic < best_aic:\n",
    "            best_aic = results.aic\n",
    "            best_pdq = param\n",
    "    except:\n",
    "        continue\n",
    "\n",
    "print(f\"Best ARIMA order based on AIC: {best_pdq}\")"
   ]
  },
  {
   "cell_type": "code",
   "execution_count": 8,
   "id": "d4b1a78b-7296-4472-9959-4e2dac7ed219",
   "metadata": {},
   "outputs": [
    {
     "name": "stdout",
     "output_type": "stream",
     "text": [
      "                               SARIMAX Results                                \n",
      "==============================================================================\n",
      "Dep. Variable:            wheat_price   No. Observations:                  421\n",
      "Model:                 ARIMA(0, 1, 1)   Log Likelihood                -374.330\n",
      "Date:                Sat, 26 Apr 2025   AIC                            752.660\n",
      "Time:                        09:16:21   BIC                            760.741\n",
      "Sample:                             0   HQIC                           755.854\n",
      "                                - 421                                         \n",
      "Covariance Type:                  opg                                         \n",
      "==============================================================================\n",
      "                 coef    std err          z      P>|z|      [0.025      0.975]\n",
      "------------------------------------------------------------------------------\n",
      "ma.L1         -0.3533      0.027    -13.308      0.000      -0.405      -0.301\n",
      "sigma2         0.3480      0.008     44.367      0.000       0.333       0.363\n",
      "===================================================================================\n",
      "Ljung-Box (L1) (Q):                   0.15   Jarque-Bera (JB):              6086.51\n",
      "Prob(Q):                              0.70   Prob(JB):                         0.00\n",
      "Heteroskedasticity (H):               3.45   Skew:                            -2.42\n",
      "Prob(H) (two-sided):                  0.00   Kurtosis:                        21.01\n",
      "===================================================================================\n",
      "\n",
      "Warnings:\n",
      "[1] Covariance matrix calculated using the outer product of gradients (complex-step).\n"
     ]
    }
   ],
   "source": [
    "#Test best model ARIMA(0,1,1)\n",
    "arima_011 = ARIMA(df['wheat_price'], order=best_pdq).fit()\n",
    "print(arima_011.summary())\n",
    "\n",
    "arima_011_forecast = arima_011.forecast(steps=12)"
   ]
  },
  {
   "cell_type": "markdown",
   "id": "becf7878-3eb1-407f-be80-b4f27c5fb457",
   "metadata": {},
   "source": [
    "ACF for Seasonality Test"
   ]
  },
  {
   "cell_type": "code",
   "execution_count": 10,
   "id": "f1b96cb1-5bd3-4632-a515-ce17eeb6cb33",
   "metadata": {},
   "outputs": [
    {
     "data": {
      "text/plain": [
       "<Figure size 1200x1000 with 0 Axes>"
      ]
     },
     "metadata": {},
     "output_type": "display_data"
    },
    {
     "data": {
      "image/png": "[encoded data removed]",
      "text/plain": [
       "<Figure size 640x480 with 1 Axes>"
      ]
     },
     "metadata": {},
     "output_type": "display_data"
    }
   ],
   "source": [
    "#Plot ACF\n",
    "plt.figure(figsize=(12, 10))\n",
    "plot_acf(df['wheat_price'], lags=36 ) \n",
    "plt.title('Autocorrelation Function (ACF)')\n",
    "plt.tight_layout()\n",
    "plt.show()"
   ]
  },
  {
   "cell_type": "markdown",
   "id": "d15e2b3f-dd6c-43e0-a55a-e70ccaf05ebe",
   "metadata": {},
   "source": [
    "ARIMAX Model"
   ]
  },
  {
   "cell_type": "code",
   "execution_count": 12,
   "id": "9e58a2c1-a010-4ba8-8fe4-2bcf438f987b",
   "metadata": {},
   "outputs": [],
   "source": [
    "#Save exogenous data separately\n",
    "exog_data = df.copy().drop(columns = ['wheat_price','date'])"
   ]
  },
  {
   "cell_type": "code",
   "execution_count": 13,
   "id": "8c806402-3c8c-48b0-abd2-db0832ae70fe",
   "metadata": {},
   "outputs": [
    {
     "name": "stderr",
     "output_type": "stream",
     "text": [
      "/opt/anaconda3/lib/python3.12/site-packages/statsmodels/base/model.py:607: ConvergenceWarning: Maximum Likelihood optimization failed to converge. Check mle_retvals\n",
      "  warnings.warn(\"Maximum Likelihood optimization failed to \"\n",
      "/opt/anaconda3/lib/python3.12/site-packages/statsmodels/base/model.py:607: ConvergenceWarning: Maximum Likelihood optimization failed to converge. Check mle_retvals\n",
      "  warnings.warn(\"Maximum Likelihood optimization failed to \"\n",
      "/opt/anaconda3/lib/python3.12/site-packages/statsmodels/base/model.py:607: ConvergenceWarning: Maximum Likelihood optimization failed to converge. Check mle_retvals\n",
      "  warnings.warn(\"Maximum Likelihood optimization failed to \"\n",
      "/opt/anaconda3/lib/python3.12/site-packages/statsmodels/base/model.py:607: ConvergenceWarning: Maximum Likelihood optimization failed to converge. Check mle_retvals\n",
      "  warnings.warn(\"Maximum Likelihood optimization failed to \"\n",
      "/opt/anaconda3/lib/python3.12/site-packages/statsmodels/base/model.py:607: ConvergenceWarning: Maximum Likelihood optimization failed to converge. Check mle_retvals\n",
      "  warnings.warn(\"Maximum Likelihood optimization failed to \"\n",
      "/opt/anaconda3/lib/python3.12/site-packages/statsmodels/base/model.py:607: ConvergenceWarning: Maximum Likelihood optimization failed to converge. Check mle_retvals\n",
      "  warnings.warn(\"Maximum Likelihood optimization failed to \"\n",
      "/opt/anaconda3/lib/python3.12/site-packages/statsmodels/base/model.py:607: ConvergenceWarning: Maximum Likelihood optimization failed to converge. Check mle_retvals\n",
      "  warnings.warn(\"Maximum Likelihood optimization failed to \"\n",
      "/opt/anaconda3/lib/python3.12/site-packages/statsmodels/base/model.py:607: ConvergenceWarning: Maximum Likelihood optimization failed to converge. Check mle_retvals\n",
      "  warnings.warn(\"Maximum Likelihood optimization failed to \"\n",
      "/opt/anaconda3/lib/python3.12/site-packages/statsmodels/base/model.py:607: ConvergenceWarning: Maximum Likelihood optimization failed to converge. Check mle_retvals\n",
      "  warnings.warn(\"Maximum Likelihood optimization failed to \"\n",
      "/opt/anaconda3/lib/python3.12/site-packages/statsmodels/base/model.py:607: ConvergenceWarning: Maximum Likelihood optimization failed to converge. Check mle_retvals\n",
      "  warnings.warn(\"Maximum Likelihood optimization failed to \"\n",
      "/opt/anaconda3/lib/python3.12/site-packages/statsmodels/base/model.py:607: ConvergenceWarning: Maximum Likelihood optimization failed to converge. Check mle_retvals\n",
      "  warnings.warn(\"Maximum Likelihood optimization failed to \"\n"
     ]
    },
    {
     "name": "stdout",
     "output_type": "stream",
     "text": [
      "Best ARIMAX model order based on AIC: (1, 0, 1)\n"
     ]
    },
    {
     "name": "stderr",
     "output_type": "stream",
     "text": [
      "/opt/anaconda3/lib/python3.12/site-packages/statsmodels/base/model.py:607: ConvergenceWarning: Maximum Likelihood optimization failed to converge. Check mle_retvals\n",
      "  warnings.warn(\"Maximum Likelihood optimization failed to \"\n"
     ]
    }
   ],
   "source": [
    "#Find best params for ARIMAX model\n",
    "p = range(0, 3)  # AR order\n",
    "d = range(0, 2)  # Differencing\n",
    "q = range(0, 3)  # MA order\n",
    "pdq = list(itertools.product(p, d, q))\n",
    "\n",
    "#find best model params by aic\n",
    "best_arimax_aic = float('inf')\n",
    "best_arimax_params = None\n",
    "for param in pdq:\n",
    "    try:\n",
    "        model = SARIMAX(df['wheat_price'], \n",
    "                        exog=exog_data,\n",
    "                        order=param, \n",
    "                        seasonal_order=(0, 0, 0, 0))  # No seasonal component\n",
    "        results = model.fit(disp=False)\n",
    "        if results.aic < best_arimax_aic:\n",
    "            best_arimax_aic = results.aic\n",
    "            best_arimax_params = param\n",
    "    except:\n",
    "        continue\n",
    "\n",
    "print(f\"Best ARIMAX model order based on AIC: {best_arimax_params}\")"
   ]
  },
  {
   "cell_type": "code",
   "execution_count": 14,
   "id": "1917c57e-d7c5-48db-b55d-00252eb8d6c2",
   "metadata": {},
   "outputs": [
    {
     "name": "stdout",
     "output_type": "stream",
     "text": [
      "                               SARIMAX Results                                \n",
      "==============================================================================\n",
      "Dep. Variable:            wheat_price   No. Observations:                  421\n",
      "Model:               SARIMAX(1, 0, 1)   Log Likelihood                -346.814\n",
      "Date:                Sat, 26 Apr 2025   AIC                            717.628\n",
      "Time:                        09:16:29   BIC                            766.140\n",
      "Sample:                             0   HQIC                           736.800\n",
      "                                - 421                                         \n",
      "Covariance Type:                  opg                                         \n",
      "=====================================================================================\n",
      "                        coef    std err          z      P>|z|      [0.025      0.975]\n",
      "-------------------------------------------------------------------------------------\n",
      "fertilizer_idx        0.0039      0.002      2.510      0.012       0.001       0.007\n",
      "avg_temp             -0.0124      0.007     -1.710      0.087      -0.027       0.002\n",
      "drought_idx          -0.0131      0.010     -1.315      0.189      -0.033       0.006\n",
      "cpi                  -0.0046      0.005     -0.978      0.328      -0.014       0.005\n",
      "commodity_imp_idx     0.0146      0.011      1.348      0.178      -0.007       0.036\n",
      "commodity_exp_idx     0.0078      0.014      0.551      0.582      -0.020       0.035\n",
      "flour_price           0.6555      1.028      0.637      0.524      -1.360       2.671\n",
      "corn_price            0.0123      0.003      4.888      0.000       0.007       0.017\n",
      "crude_oil_price       0.0023      0.006      0.403      0.687      -0.009       0.013\n",
      "ar.L1                 0.7566      0.052     14.470      0.000       0.654       0.859\n",
      "ma.L1                -0.2524      0.058     -4.318      0.000      -0.367      -0.138\n",
      "sigma2                0.3065      0.013     24.090      0.000       0.282       0.331\n",
      "===================================================================================\n",
      "Ljung-Box (L1) (Q):                   0.00   Jarque-Bera (JB):              6014.77\n",
      "Prob(Q):                              0.96   Prob(JB):                         0.00\n",
      "Heteroskedasticity (H):               3.28   Skew:                            -1.64\n",
      "Prob(H) (two-sided):                  0.00   Kurtosis:                        21.22\n",
      "===================================================================================\n",
      "\n",
      "Warnings:\n",
      "[1] Covariance matrix calculated using the outer product of gradients (complex-step).\n"
     ]
    }
   ],
   "source": [
    "#Test ARIMAX(1,0,1)\n",
    "arimax_101 = SARIMAX(df['wheat_price'], \n",
    "                     exog=exog_data,\n",
    "                     order=best_arimax_params, \n",
    "                     seasonal_order=(0, 0, 0, 0)).fit(disp=False)\n",
    "\n",
    "print(arimax_101.summary())"
   ]
  },
  {
   "cell_type": "markdown",
   "id": "1e17b7c2-9326-4f1a-b488-aa78f7b3bae3",
   "metadata": {},
   "source": [
    "SARIMAX "
   ]
  },
  {
   "cell_type": "code",
   "execution_count": 46,
   "id": "d3991625-1cb1-4e1d-9a77-5a0830498af1",
   "metadata": {},
   "outputs": [
    {
     "name": "stderr",
     "output_type": "stream",
     "text": [
      "/opt/anaconda3/lib/python3.12/site-packages/statsmodels/base/model.py:607: ConvergenceWarning: Maximum Likelihood optimization failed to converge. Check mle_retvals\n",
      "  warnings.warn(\"Maximum Likelihood optimization failed to \"\n",
      "/opt/anaconda3/lib/python3.12/site-packages/statsmodels/base/model.py:607: ConvergenceWarning: Maximum Likelihood optimization failed to converge. Check mle_retvals\n",
      "  warnings.warn(\"Maximum Likelihood optimization failed to \"\n",
      "/opt/anaconda3/lib/python3.12/site-packages/statsmodels/base/model.py:607: ConvergenceWarning: Maximum Likelihood optimization failed to converge. Check mle_retvals\n",
      "  warnings.warn(\"Maximum Likelihood optimization failed to \"\n",
      "/opt/anaconda3/lib/python3.12/site-packages/statsmodels/base/model.py:607: ConvergenceWarning: Maximum Likelihood optimization failed to converge. Check mle_retvals\n",
      "  warnings.warn(\"Maximum Likelihood optimization failed to \"\n"
     ]
    },
    {
     "name": "stdout",
     "output_type": "stream",
     "text": [
      "\n",
      "Best SARIMAX model: SARIMAX(1, 0, 1)x(0, 0, 1, 12) with AIC: 701.691\n"
     ]
    },
    {
     "name": "stderr",
     "output_type": "stream",
     "text": [
      "/opt/anaconda3/lib/python3.12/site-packages/statsmodels/base/model.py:607: ConvergenceWarning: Maximum Likelihood optimization failed to converge. Check mle_retvals\n",
      "  warnings.warn(\"Maximum Likelihood optimization failed to \"\n"
     ]
    }
   ],
   "source": [
    "#Find best seasonal params for SARIMAX\n",
    "P = range(0, 2)  # Seasonal AR order\n",
    "D = range(0, 2)  # Seasonal differencing\n",
    "Q = range(0, 2)  # Seasonal MA order\n",
    "s = 12  # Assuming monthly data with annual seasonality\n",
    "\n",
    "# Create all combinations of seasonal parameters\n",
    "seasonal_pdq = list(itertools.product(P, D, Q, [s]))\n",
    "\n",
    "# Use previously found best ARIMAX parameters\n",
    "best_arimax_params = (1, 0, 1)  # Based on your earlier ARIMAX results\n",
    "\n",
    "# Find best SARIMAX model with both ARIMA and seasonal components\n",
    "best_sarimax_aic = float('inf')\n",
    "best_seasonal_params = None\n",
    "\n",
    "# Grid search over seasonal parameters\n",
    "for seasonal_param in seasonal_pdq:\n",
    "    try:\n",
    "        model = SARIMAX(df['wheat_price'], \n",
    "                       exog=exog_data,\n",
    "                       order=best_arimax_params, \n",
    "                       seasonal_order=seasonal_param,\n",
    "                       enforce_stationarity=False,\n",
    "                       enforce_invertibility=False)\n",
    "        \n",
    "        results = model.fit(disp=False, maxiter=100)\n",
    "        current_aic = results.aic\n",
    "        \n",
    "        if current_aic < best_sarimax_aic:\n",
    "            best_sarimax_aic = current_aic\n",
    "            best_seasonal_params = seasonal_param\n",
    "    except Exception as e:\n",
    "        \n",
    "        continue\n",
    "\n",
    "print(f\"\\nBest SARIMAX model: SARIMAX{best_arimax_params}x{best_seasonal_params} with AIC: {best_sarimax_aic:.3f}\")\n"
   ]
  },
  {
   "cell_type": "code",
   "execution_count": 48,
   "id": "c0a34362-9acd-46fd-91b5-fd7f416785f6",
   "metadata": {},
   "outputs": [
    {
     "name": "stdout",
     "output_type": "stream",
     "text": [
      "                                     SARIMAX Results                                      \n",
      "==========================================================================================\n",
      "Dep. Variable:                        wheat_price   No. Observations:                  421\n",
      "Model:             SARIMAX(1, 0, 1)x(0, 0, 1, 12)   Log Likelihood                -346.754\n",
      "Date:                            Sat, 26 Apr 2025   AIC                            719.508\n",
      "Time:                                    09:25:58   BIC                            772.062\n",
      "Sample:                                         0   HQIC                           740.278\n",
      "                                            - 421                                         \n",
      "Covariance Type:                              opg                                         \n",
      "=====================================================================================\n",
      "                        coef    std err          z      P>|z|      [0.025      0.975]\n",
      "-------------------------------------------------------------------------------------\n",
      "fertilizer_idx        0.0039      0.002      2.230      0.026       0.000       0.007\n",
      "avg_temp             -0.0125      0.007     -1.686      0.092      -0.027       0.002\n",
      "drought_idx          -0.0116      0.010     -1.118      0.263      -0.032       0.009\n",
      "cpi                  -0.0048      0.005     -1.013      0.311      -0.014       0.005\n",
      "commodity_imp_idx     0.0143      0.013      1.112      0.266      -0.011       0.040\n",
      "commodity_exp_idx     0.0085      0.016      0.548      0.584      -0.022       0.039\n",
      "flour_price           0.6571      1.032      0.637      0.524      -1.366       2.680\n",
      "corn_price            0.0120      0.003      4.521      0.000       0.007       0.017\n",
      "crude_oil_price       0.0027      0.006      0.435      0.663      -0.009       0.015\n",
      "ar.L1                 0.7609      0.052     14.629      0.000       0.659       0.863\n",
      "ma.L1                -0.2476      0.058     -4.281      0.000      -0.361      -0.134\n",
      "ma.S.L12              0.0063      0.026      0.241      0.809      -0.045       0.057\n",
      "sigma2                0.3044      0.013     24.135      0.000       0.280       0.329\n",
      "===================================================================================\n",
      "Ljung-Box (L1) (Q):                   0.06   Jarque-Bera (JB):              6140.78\n",
      "Prob(Q):                              0.80   Prob(JB):                         0.00\n",
      "Heteroskedasticity (H):               3.28   Skew:                            -1.66\n",
      "Prob(H) (two-sided):                  0.00   Kurtosis:                        21.41\n",
      "===================================================================================\n",
      "\n",
      "Warnings:\n",
      "[1] Covariance matrix calculated using the outer product of gradients (complex-step).\n"
     ]
    },
    {
     "name": "stderr",
     "output_type": "stream",
     "text": [
      "/opt/anaconda3/lib/python3.12/site-packages/statsmodels/base/model.py:607: ConvergenceWarning: Maximum Likelihood optimization failed to converge. Check mle_retvals\n",
      "  warnings.warn(\"Maximum Likelihood optimization failed to \"\n"
     ]
    }
   ],
   "source": [
    "#Test SARIMAX(1,0,1)x(0,0,1,12)\n",
    "sarimax_101 = SARIMAX(df['wheat_price'], \n",
    "                     exog=exog_data,\n",
    "                     order=best_arimax_params, \n",
    "                     seasonal_order=(0, 0, 1, 12)).fit(disp=False)\n",
    "\n",
    "print(sarimax_101.summary())"
   ]
  },
  {
   "cell_type": "markdown",
   "id": "7dc72d51-d0d5-4d5b-9dea-7e78900b999e",
   "metadata": {},
   "source": [
    "VAR for future exogenous variables"
   ]
  },
  {
   "cell_type": "code",
   "execution_count": 19,
   "id": "21ae3dd9-602e-470c-931f-13f218acb594",
   "metadata": {},
   "outputs": [
    {
     "name": "stdout",
     "output_type": "stream",
     "text": [
      " VAR Order Selection (* highlights the minimums)  \n",
      "==================================================\n",
      "       AIC         BIC         FPE         HQIC   \n",
      "--------------------------------------------------\n",
      "0        34.65       34.74   1.117e+15       34.68\n",
      "1        5.918       6.798       371.8       6.266\n",
      "2        2.991      4.663*       19.91       3.652\n",
      "3        2.521       4.985       12.46       3.496\n",
      "4        2.198       5.454       9.049      3.486*\n",
      "5       2.161*       6.209      8.754*       3.762\n",
      "6        2.171       7.011       8.898       4.086\n",
      "7        2.284       7.916       10.05       4.512\n",
      "8        2.367       8.790       11.03       4.908\n",
      "9        2.398       9.614       11.55       5.252\n",
      "10       2.268       10.28       10.33       5.435\n",
      "--------------------------------------------------\n"
     ]
    }
   ],
   "source": [
    "var_model = VAR(exog_data)\n",
    "\n",
    "# Find optimal lag order using information criteria\n",
    "lag_order_results = var_model.select_order(maxlags=10)\n",
    "print(lag_order_results.summary())\n",
    "\n",
    "# Select the optimal lag based on AIC, BIC, etc.\n",
    "optimal_lag = lag_order_results.aic"
   ]
  },
  {
   "cell_type": "code",
   "execution_count": 25,
   "id": "91a8a2a9-a779-417c-9d9d-12e15e225441",
   "metadata": {},
   "outputs": [
    {
     "name": "stdout",
     "output_type": "stream",
     "text": [
      " VAR Order Selection (* highlights the minimums)  \n",
      "==================================================\n",
      "       AIC         BIC         FPE         HQIC   \n",
      "--------------------------------------------------\n",
      "0        34.65       34.74   1.117e+15       34.68\n",
      "1        5.918       6.798       371.8       6.266\n",
      "2        2.991      4.663*       19.91       3.652\n",
      "3        2.521       4.985       12.46       3.496\n",
      "4        2.198       5.454       9.049      3.486*\n",
      "5       2.161*       6.209      8.754*       3.762\n",
      "6        2.171       7.011       8.898       4.086\n",
      "7        2.284       7.916       10.05       4.512\n",
      "8        2.367       8.790       11.03       4.908\n",
      "9        2.398       9.614       11.55       5.252\n",
      "10       2.268       10.28       10.33       5.435\n",
      "--------------------------------------------------\n",
      "Optimal Lag: 5\n"
     ]
    },
    {
     "data": {
      "text/html": [
       "<div>\n",
       "<style scoped>\n",
       "    .dataframe tbody tr th:only-of-type {\n",
       "        vertical-align: middle;\n",
       "    }\n",
       "\n",
       "    .dataframe tbody tr th {\n",
       "        vertical-align: top;\n",
       "    }\n",
       "\n",
       "    .dataframe thead th {\n",
       "        text-align: right;\n",
       "    }\n",
       "</style>\n",
       "<table border=\"1\" class=\"dataframe\">\n",
       "  <thead>\n",
       "    <tr style=\"text-align: right;\">\n",
       "      <th></th>\n",
       "      <th>fertilizer_idx</th>\n",
       "      <th>avg_temp</th>\n",
       "      <th>drought_idx</th>\n",
       "      <th>cpi</th>\n",
       "      <th>commodity_imp_idx</th>\n",
       "      <th>commodity_exp_idx</th>\n",
       "      <th>flour_price</th>\n",
       "      <th>corn_price</th>\n",
       "      <th>crude_oil_price</th>\n",
       "    </tr>\n",
       "  </thead>\n",
       "  <tbody>\n",
       "    <tr>\n",
       "      <th>0</th>\n",
       "      <td>414.260380</td>\n",
       "      <td>3.223846</td>\n",
       "      <td>15.251020</td>\n",
       "      <td>320.239133</td>\n",
       "      <td>142.538266</td>\n",
       "      <td>152.894528</td>\n",
       "      <td>0.567159</td>\n",
       "      <td>226.535760</td>\n",
       "      <td>73.619473</td>\n",
       "    </tr>\n",
       "    <tr>\n",
       "      <th>1</th>\n",
       "      <td>427.686303</td>\n",
       "      <td>9.221234</td>\n",
       "      <td>16.118852</td>\n",
       "      <td>321.433536</td>\n",
       "      <td>143.599524</td>\n",
       "      <td>153.978682</td>\n",
       "      <td>0.569443</td>\n",
       "      <td>235.519838</td>\n",
       "      <td>74.449576</td>\n",
       "    </tr>\n",
       "    <tr>\n",
       "      <th>2</th>\n",
       "      <td>434.101470</td>\n",
       "      <td>15.966636</td>\n",
       "      <td>16.429067</td>\n",
       "      <td>322.759183</td>\n",
       "      <td>144.863467</td>\n",
       "      <td>154.806557</td>\n",
       "      <td>0.570832</td>\n",
       "      <td>244.980827</td>\n",
       "      <td>77.497694</td>\n",
       "    </tr>\n",
       "    <tr>\n",
       "      <th>3</th>\n",
       "      <td>441.342999</td>\n",
       "      <td>21.328090</td>\n",
       "      <td>15.324851</td>\n",
       "      <td>324.081978</td>\n",
       "      <td>146.020573</td>\n",
       "      <td>155.518229</td>\n",
       "      <td>0.571901</td>\n",
       "      <td>247.668511</td>\n",
       "      <td>80.181071</td>\n",
       "    </tr>\n",
       "    <tr>\n",
       "      <th>4</th>\n",
       "      <td>447.271338</td>\n",
       "      <td>23.284355</td>\n",
       "      <td>14.318324</td>\n",
       "      <td>325.246846</td>\n",
       "      <td>147.029614</td>\n",
       "      <td>156.142299</td>\n",
       "      <td>0.572767</td>\n",
       "      <td>247.956171</td>\n",
       "      <td>82.332506</td>\n",
       "    </tr>\n",
       "    <tr>\n",
       "      <th>5</th>\n",
       "      <td>457.129487</td>\n",
       "      <td>22.417205</td>\n",
       "      <td>13.065089</td>\n",
       "      <td>326.518723</td>\n",
       "      <td>147.814987</td>\n",
       "      <td>156.812745</td>\n",
       "      <td>0.570078</td>\n",
       "      <td>249.712895</td>\n",
       "      <td>83.445496</td>\n",
       "    </tr>\n",
       "    <tr>\n",
       "      <th>6</th>\n",
       "      <td>469.116483</td>\n",
       "      <td>18.171635</td>\n",
       "      <td>12.095599</td>\n",
       "      <td>327.733895</td>\n",
       "      <td>148.383861</td>\n",
       "      <td>157.397144</td>\n",
       "      <td>0.567807</td>\n",
       "      <td>252.736263</td>\n",
       "      <td>83.999212</td>\n",
       "    </tr>\n",
       "    <tr>\n",
       "      <th>7</th>\n",
       "      <td>483.626894</td>\n",
       "      <td>11.839212</td>\n",
       "      <td>11.175043</td>\n",
       "      <td>328.917686</td>\n",
       "      <td>148.837063</td>\n",
       "      <td>157.949972</td>\n",
       "      <td>0.564573</td>\n",
       "      <td>255.844384</td>\n",
       "      <td>84.136515</td>\n",
       "    </tr>\n",
       "    <tr>\n",
       "      <th>8</th>\n",
       "      <td>498.795232</td>\n",
       "      <td>5.326991</td>\n",
       "      <td>10.527101</td>\n",
       "      <td>330.118848</td>\n",
       "      <td>149.310047</td>\n",
       "      <td>158.640780</td>\n",
       "      <td>0.562932</td>\n",
       "      <td>260.812082</td>\n",
       "      <td>84.431654</td>\n",
       "    </tr>\n",
       "    <tr>\n",
       "      <th>9</th>\n",
       "      <td>514.357006</td>\n",
       "      <td>0.290833</td>\n",
       "      <td>10.215551</td>\n",
       "      <td>331.337100</td>\n",
       "      <td>149.875375</td>\n",
       "      <td>159.423594</td>\n",
       "      <td>0.564697</td>\n",
       "      <td>267.151179</td>\n",
       "      <td>84.952636</td>\n",
       "    </tr>\n",
       "    <tr>\n",
       "      <th>10</th>\n",
       "      <td>528.877005</td>\n",
       "      <td>-2.006270</td>\n",
       "      <td>10.191068</td>\n",
       "      <td>332.571140</td>\n",
       "      <td>150.568951</td>\n",
       "      <td>160.349450</td>\n",
       "      <td>0.569151</td>\n",
       "      <td>274.213677</td>\n",
       "      <td>85.905419</td>\n",
       "    </tr>\n",
       "    <tr>\n",
       "      <th>11</th>\n",
       "      <td>541.909048</td>\n",
       "      <td>-0.844256</td>\n",
       "      <td>10.388239</td>\n",
       "      <td>333.847701</td>\n",
       "      <td>151.388672</td>\n",
       "      <td>161.353597</td>\n",
       "      <td>0.575467</td>\n",
       "      <td>281.196407</td>\n",
       "      <td>87.377013</td>\n",
       "    </tr>\n",
       "  </tbody>\n",
       "</table>\n",
       "</div>"
      ],
      "text/plain": [
       "    fertilizer_idx   avg_temp  drought_idx         cpi  commodity_imp_idx  \\\n",
       "0       414.260380   3.223846    15.251020  320.239133         142.538266   \n",
       "1       427.686303   9.221234    16.118852  321.433536         143.599524   \n",
       "2       434.101470  15.966636    16.429067  322.759183         144.863467   \n",
       "3       441.342999  21.328090    15.324851  324.081978         146.020573   \n",
       "4       447.271338  23.284355    14.318324  325.246846         147.029614   \n",
       "5       457.129487  22.417205    13.065089  326.518723         147.814987   \n",
       "6       469.116483  18.171635    12.095599  327.733895         148.383861   \n",
       "7       483.626894  11.839212    11.175043  328.917686         148.837063   \n",
       "8       498.795232   5.326991    10.527101  330.118848         149.310047   \n",
       "9       514.357006   0.290833    10.215551  331.337100         149.875375   \n",
       "10      528.877005  -2.006270    10.191068  332.571140         150.568951   \n",
       "11      541.909048  -0.844256    10.388239  333.847701         151.388672   \n",
       "\n",
       "    commodity_exp_idx  flour_price  corn_price  crude_oil_price  \n",
       "0          152.894528     0.567159  226.535760        73.619473  \n",
       "1          153.978682     0.569443  235.519838        74.449576  \n",
       "2          154.806557     0.570832  244.980827        77.497694  \n",
       "3          155.518229     0.571901  247.668511        80.181071  \n",
       "4          156.142299     0.572767  247.956171        82.332506  \n",
       "5          156.812745     0.570078  249.712895        83.445496  \n",
       "6          157.397144     0.567807  252.736263        83.999212  \n",
       "7          157.949972     0.564573  255.844384        84.136515  \n",
       "8          158.640780     0.562932  260.812082        84.431654  \n",
       "9          159.423594     0.564697  267.151179        84.952636  \n",
       "10         160.349450     0.569151  274.213677        85.905419  \n",
       "11         161.353597     0.575467  281.196407        87.377013  "
      ]
     },
     "execution_count": 25,
     "metadata": {},
     "output_type": "execute_result"
    }
   ],
   "source": [
    "#VAR model\n",
    "var_model = VAR(exog_data)\n",
    "lag_order_results = var_model.select_order(maxlags=10)\n",
    "print(lag_order_results.summary())\n",
    "optimal_lag = lag_order_results.aic\n",
    "print(f'Optimal Lag: {optimal_lag}')\n",
    "\n",
    "# Fit the model with the optimal lag\n",
    "var_fitted = var_model.fit(maxlags=optimal_lag)  # Use the optimal lag found\n",
    "\n",
    "# Forecast future values\n",
    "future_exog = var_fitted.forecast(y=exog_data.values[-optimal_lag:], steps=12)\n",
    "future_exog = pd.DataFrame(future_exog, columns=exog_data.columns)\n",
    "future_exog"
   ]
  },
  {
   "cell_type": "markdown",
   "id": "6542b097-49e4-4c0e-99e7-2ea2fc51d480",
   "metadata": {},
   "source": [
    "ARIMAX and SARIMAX forecasting"
   ]
  },
  {
   "cell_type": "code",
   "execution_count": 51,
   "id": "ffc775ba-6234-4ab0-9b32-e7137122a623",
   "metadata": {},
   "outputs": [
    {
     "data": {
      "text/plain": [
       "421    5.923167\n",
       "422    6.162003\n",
       "423    6.348038\n",
       "424    6.460639\n",
       "425    6.556605\n",
       "426    6.701387\n",
       "427    6.892475\n",
       "428    7.107904\n",
       "429    7.343690\n",
       "430    7.575058\n",
       "431    7.775531\n",
       "432    7.925326\n",
       "Name: predicted_mean, dtype: float64"
      ]
     },
     "execution_count": 51,
     "metadata": {},
     "output_type": "execute_result"
    }
   ],
   "source": [
    "#ARIMAX forecasting\n",
    "arimax_101_forecast = arimax_101.forecast(steps=12, exog=future_exog)\n",
    "arimax_101_forecast"
   ]
  },
  {
   "cell_type": "code",
   "execution_count": 53,
   "id": "b81a3137-7691-45d5-a5bb-b4ab3bbe255a",
   "metadata": {},
   "outputs": [
    {
     "data": {
      "text/plain": [
       "421    5.912583\n",
       "422    6.148755\n",
       "423    6.335187\n",
       "424    6.457234\n",
       "425    6.540789\n",
       "426    6.683586\n",
       "427    6.873584\n",
       "428    7.087565\n",
       "429    7.321316\n",
       "430    7.551252\n",
       "431    7.750599\n",
       "432    7.900508\n",
       "Name: predicted_mean, dtype: float64"
      ]
     },
     "execution_count": 53,
     "metadata": {},
     "output_type": "execute_result"
    }
   ],
   "source": [
    "#SARIMAX forecasting\n",
    "sarimax_101_forecast = sarimax_101.forecast(steps=12, exog=future_exog)\n",
    "sarimax_101_forecast"
   ]
  },
  {
   "cell_type": "code",
   "execution_count": 55,
   "id": "9f286bde-207f-4dde-9276-27e4a1fe3de9",
   "metadata": {},
   "outputs": [
    {
     "data": {
      "text/html": [
       "<div>\n",
       "<style scoped>\n",
       "    .dataframe tbody tr th:only-of-type {\n",
       "        vertical-align: middle;\n",
       "    }\n",
       "\n",
       "    .dataframe tbody tr th {\n",
       "        vertical-align: top;\n",
       "    }\n",
       "\n",
       "    .dataframe thead th {\n",
       "        text-align: right;\n",
       "    }\n",
       "</style>\n",
       "<table border=\"1\" class=\"dataframe\">\n",
       "  <thead>\n",
       "    <tr style=\"text-align: right;\">\n",
       "      <th></th>\n",
       "      <th>Month</th>\n",
       "      <th>AR(1)_Forecasted_Wheat_Price</th>\n",
       "      <th>AR(2)_Forecasted_Wheat_Price</th>\n",
       "      <th>ARIMA(0,1,1)_Forecasted_Wheat_Price</th>\n",
       "      <th>ARIMAX(1,0,1)_Forecasted_Wheat_Price</th>\n",
       "      <th>SARIMAX(1,0,1)_Forecasted_Wheat_Price</th>\n",
       "    </tr>\n",
       "  </thead>\n",
       "  <tbody>\n",
       "    <tr>\n",
       "      <th>0</th>\n",
       "      <td>Nov 2024</td>\n",
       "      <td>5.550153</td>\n",
       "      <td>5.544661</td>\n",
       "      <td>5.5598</td>\n",
       "      <td>5.923167</td>\n",
       "      <td>5.912583</td>\n",
       "    </tr>\n",
       "    <tr>\n",
       "      <th>1</th>\n",
       "      <td>Dec 2024</td>\n",
       "      <td>5.512544</td>\n",
       "      <td>5.532288</td>\n",
       "      <td>5.5598</td>\n",
       "      <td>6.162003</td>\n",
       "      <td>6.148755</td>\n",
       "    </tr>\n",
       "    <tr>\n",
       "      <th>2</th>\n",
       "      <td>Jan 2025</td>\n",
       "      <td>5.477047</td>\n",
       "      <td>5.511539</td>\n",
       "      <td>5.5598</td>\n",
       "      <td>6.348038</td>\n",
       "      <td>6.335187</td>\n",
       "    </tr>\n",
       "    <tr>\n",
       "      <th>3</th>\n",
       "      <td>Feb 2025</td>\n",
       "      <td>5.443543</td>\n",
       "      <td>5.493904</td>\n",
       "      <td>5.5598</td>\n",
       "      <td>6.460639</td>\n",
       "      <td>6.457234</td>\n",
       "    </tr>\n",
       "    <tr>\n",
       "      <th>4</th>\n",
       "      <td>Mar 2025</td>\n",
       "      <td>5.411921</td>\n",
       "      <td>5.476158</td>\n",
       "      <td>5.5598</td>\n",
       "      <td>6.556605</td>\n",
       "      <td>6.540789</td>\n",
       "    </tr>\n",
       "    <tr>\n",
       "      <th>5</th>\n",
       "      <td>Apr 2025</td>\n",
       "      <td>5.382076</td>\n",
       "      <td>5.459175</td>\n",
       "      <td>5.5598</td>\n",
       "      <td>6.701387</td>\n",
       "      <td>6.683586</td>\n",
       "    </tr>\n",
       "    <tr>\n",
       "      <th>6</th>\n",
       "      <td>May 2025</td>\n",
       "      <td>5.353906</td>\n",
       "      <td>5.442687</td>\n",
       "      <td>5.5598</td>\n",
       "      <td>6.892475</td>\n",
       "      <td>6.873584</td>\n",
       "    </tr>\n",
       "    <tr>\n",
       "      <th>7</th>\n",
       "      <td>Jun 2025</td>\n",
       "      <td>5.327319</td>\n",
       "      <td>5.426746</td>\n",
       "      <td>5.5598</td>\n",
       "      <td>7.107904</td>\n",
       "      <td>7.087565</td>\n",
       "    </tr>\n",
       "    <tr>\n",
       "      <th>8</th>\n",
       "      <td>Jul 2025</td>\n",
       "      <td>5.302225</td>\n",
       "      <td>5.411316</td>\n",
       "      <td>5.5598</td>\n",
       "      <td>7.343690</td>\n",
       "      <td>7.321316</td>\n",
       "    </tr>\n",
       "    <tr>\n",
       "      <th>9</th>\n",
       "      <td>Aug 2025</td>\n",
       "      <td>5.278540</td>\n",
       "      <td>5.396386</td>\n",
       "      <td>5.5598</td>\n",
       "      <td>7.575058</td>\n",
       "      <td>7.551252</td>\n",
       "    </tr>\n",
       "    <tr>\n",
       "      <th>10</th>\n",
       "      <td>Sep 2025</td>\n",
       "      <td>5.256185</td>\n",
       "      <td>5.381937</td>\n",
       "      <td>5.5598</td>\n",
       "      <td>7.775531</td>\n",
       "      <td>7.750599</td>\n",
       "    </tr>\n",
       "    <tr>\n",
       "      <th>11</th>\n",
       "      <td>Oct 2025</td>\n",
       "      <td>5.235086</td>\n",
       "      <td>5.367955</td>\n",
       "      <td>5.5598</td>\n",
       "      <td>7.925326</td>\n",
       "      <td>7.900508</td>\n",
       "    </tr>\n",
       "  </tbody>\n",
       "</table>\n",
       "</div>"
      ],
      "text/plain": [
       "       Month  AR(1)_Forecasted_Wheat_Price  AR(2)_Forecasted_Wheat_Price  \\\n",
       "0   Nov 2024                      5.550153                      5.544661   \n",
       "1   Dec 2024                      5.512544                      5.532288   \n",
       "2   Jan 2025                      5.477047                      5.511539   \n",
       "3   Feb 2025                      5.443543                      5.493904   \n",
       "4   Mar 2025                      5.411921                      5.476158   \n",
       "5   Apr 2025                      5.382076                      5.459175   \n",
       "6   May 2025                      5.353906                      5.442687   \n",
       "7   Jun 2025                      5.327319                      5.426746   \n",
       "8   Jul 2025                      5.302225                      5.411316   \n",
       "9   Aug 2025                      5.278540                      5.396386   \n",
       "10  Sep 2025                      5.256185                      5.381937   \n",
       "11  Oct 2025                      5.235086                      5.367955   \n",
       "\n",
       "    ARIMA(0,1,1)_Forecasted_Wheat_Price  ARIMAX(1,0,1)_Forecasted_Wheat_Price  \\\n",
       "0                                5.5598                              5.923167   \n",
       "1                                5.5598                              6.162003   \n",
       "2                                5.5598                              6.348038   \n",
       "3                                5.5598                              6.460639   \n",
       "4                                5.5598                              6.556605   \n",
       "5                                5.5598                              6.701387   \n",
       "6                                5.5598                              6.892475   \n",
       "7                                5.5598                              7.107904   \n",
       "8                                5.5598                              7.343690   \n",
       "9                                5.5598                              7.575058   \n",
       "10                               5.5598                              7.775531   \n",
       "11                               5.5598                              7.925326   \n",
       "\n",
       "    SARIMAX(1,0,1)_Forecasted_Wheat_Price  \n",
       "0                                5.912583  \n",
       "1                                6.148755  \n",
       "2                                6.335187  \n",
       "3                                6.457234  \n",
       "4                                6.540789  \n",
       "5                                6.683586  \n",
       "6                                6.873584  \n",
       "7                                7.087565  \n",
       "8                                7.321316  \n",
       "9                                7.551252  \n",
       "10                               7.750599  \n",
       "11                               7.900508  "
      ]
     },
     "execution_count": 55,
     "metadata": {},
     "output_type": "execute_result"
    }
   ],
   "source": [
    "#display next year forecasts as dataframe\n",
    "forecast_df = pd.DataFrame({\n",
    "    'Month': ['Nov 2024', 'Dec 2024', 'Jan 2025', 'Feb 2025', 'Mar 2025', 'Apr 2025', 'May 2025',\n",
    "             'Jun 2025', 'Jul 2025','Aug 2025', 'Sep 2025', 'Oct 2025'],\n",
    "    'AR(1)_Forecasted_Wheat_Price': ar_1_forecast,\n",
    "    'AR(2)_Forecasted_Wheat_Price': ar_2_forecast,\n",
    "    'ARIMA(0,1,1)_Forecasted_Wheat_Price': arima_011_forecast,\n",
    "    'ARIMAX(1,0,1)_Forecasted_Wheat_Price': arimax_101_forecast,\n",
    "    'SARIMAX(1,0,1)_Forecasted_Wheat_Price': sarimax_101_forecast\n",
    "}).reset_index(drop = True)\n",
    "forecast_df"
   ]
  },
  {
   "cell_type": "markdown",
   "id": "5e6bdd03-d14a-4366-96bb-bc6f61e85d8f",
   "metadata": {},
   "source": []
  }
 ],
 "metadata": {
  "kernelspec": {
   "display_name": "Python 3 (ipykernel)",
   "language": "python",
   "name": "python3"
  },
  "language_info": {
   "codemirror_mode": {
    "name": "ipython",
    "version": 3
   },
   "file_extension": ".py",
   "mimetype": "text/x-python",
   "name": "python",
   "nbconvert_exporter": "python",
   "pygments_lexer": "ipython3",
   "version": "3.12.4"
  }
 },
 "nbformat": 4,
 "nbformat_minor": 5
}

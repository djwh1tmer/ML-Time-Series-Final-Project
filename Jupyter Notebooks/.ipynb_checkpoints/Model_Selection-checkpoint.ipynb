{
 "cells": [
  {
   "cell_type": "markdown",
   "id": "e0d5d5cb-0d52-416c-95c7-7e777cfbd16a",
   "metadata": {},
   "source": [
    "# Model Selection and Implementation - Wheat Pricing Data\n",
    "## Time Series and Machine Learning Final Project Code\n",
    "## Will Bartlett and David Whitmer\n"
   ]
  },
  {
   "cell_type": "code",
   "execution_count": 2,
   "id": "049175c2-7c58-422d-8844-f82b3260a3e6",
   "metadata": {},
   "outputs": [],
   "source": [
    "#import libraries\n",
    "import pandas as pd\n",
    "import numpy as np\n",
    "import warnings\n",
    "warnings.filterwarnings('ignore')\n",
    "from statsmodels.tools.sm_exceptions import ConvergenceWarning\n",
    "warnings.filterwarnings('ignore', category=ConvergenceWarning)\n",
    "from statsmodels.tsa.arima.model import ARIMA\n",
    "from statsmodels.tsa.statespace.sarimax import SARIMAX\n",
    "from statsmodels.tsa.ar_model import AutoReg\n",
    "from statsmodels.tsa.ar_model import ar_select_order\n",
    "import itertools\n",
    "from statsmodels.graphics.tsaplots import plot_acf\n",
    "import statsmodels.api as sm\n",
    "from scipy import stats\n",
    "import matplotlib.pyplot as plt\n",
    "from statsmodels.tsa.api import VAR\n",
    "from sklearn.metrics import mean_squared_error, mean_absolute_error, r2_score\n"
   ]
  },
  {
   "cell_type": "code",
   "execution_count": 3,
   "id": "95a0b96b-0886-4b09-ae10-df76d47e84fe",
   "metadata": {},
   "outputs": [],
   "source": [
    "#Import Dataset\n",
    "df = pd.read_csv('../Final Data/Final_Data.csv')"
   ]
  },
  {
   "cell_type": "markdown",
   "id": "18594961-f0ea-4d32-8360-c9c8b742bc53",
   "metadata": {},
   "source": [
    "## 1 Time Series Model Tests\n",
    "### 1.1 AR Model"
   ]
  },
  {
   "cell_type": "code",
   "execution_count": 5,
   "id": "0a24f4fa-fe0b-437c-9778-28a783745eee",
   "metadata": {},
   "outputs": [
    {
     "name": "stdout",
     "output_type": "stream",
     "text": [
      "Optimal lag order selected for Monthly return : [1, 2, 3, 4, 5, 6, 7, 8]\n"
     ]
    }
   ],
   "source": [
    "#Find optimal lag to test\n",
    "best_model = ar_select_order(df['wheat_price'], maxlag=25, ic='aic', old_names=False)\n",
    "print(f\"Optimal lag order selected for Monthly return : {best_model.ar_lags}\")"
   ]
  },
  {
   "cell_type": "code",
   "execution_count": 6,
   "id": "a7e047c6-9561-4f23-9fae-1ec69923f487",
   "metadata": {},
   "outputs": [
    {
     "name": "stdout",
     "output_type": "stream",
     "text": [
      "AR(1) Results: \n",
      "                             AutoReg Model Results                             \n",
      "==============================================================================\n",
      "Dep. Variable:            wheat_price   No. Observations:                  421\n",
      "Model:                     AutoReg(1)   Log Likelihood                -390.448\n",
      "Method:               Conditional MLE   S.D. of innovations              0.613\n",
      "Date:                Sat, 26 Apr 2025   AIC                            786.896\n",
      "Time:                        13:46:52   BIC                            799.017\n",
      "Sample:                             1   HQIC                           791.687\n",
      "                                  421                                         \n",
      "==================================================================================\n",
      "                     coef    std err          z      P>|z|      [0.025      0.975]\n",
      "----------------------------------------------------------------------------------\n",
      "const              0.2741      0.083      3.308      0.001       0.112       0.436\n",
      "wheat_price.L1     0.9438      0.016     58.648      0.000       0.912       0.975\n",
      "                                    Roots                                    \n",
      "=============================================================================\n",
      "                  Real          Imaginary           Modulus         Frequency\n",
      "-----------------------------------------------------------------------------\n",
      "AR.1            1.0595           +0.0000j            1.0595            0.0000\n",
      "-----------------------------------------------------------------------------\n"
     ]
    }
   ],
   "source": [
    "#AR(1) Model\n",
    "ar_1 = AutoReg(df['wheat_price'], lags = 1).fit()\n",
    "ar_1_aic = ar_1.aic\n",
    "print('AR(1) Results: \\n',ar_1.summary())"
   ]
  },
  {
   "cell_type": "code",
   "execution_count": 7,
   "id": "a329d5e1-ce43-4bf3-9f5b-852443e02db1",
   "metadata": {},
   "outputs": [
    {
     "name": "stdout",
     "output_type": "stream",
     "text": [
      "\n",
      "AR(2) Results: \n",
      "                             AutoReg Model Results                             \n",
      "==============================================================================\n",
      "Dep. Variable:            wheat_price   No. Observations:                  421\n",
      "Model:                     AutoReg(2)   Log Likelihood                -374.137\n",
      "Method:               Conditional MLE   S.D. of innovations              0.591\n",
      "Date:                Sat, 26 Apr 2025   AIC                            756.273\n",
      "Time:                        13:46:52   BIC                            772.425\n",
      "Sample:                             2   HQIC                           762.658\n",
      "                                  421                                         \n",
      "==================================================================================\n",
      "                     coef    std err          z      P>|z|      [0.025      0.975]\n",
      "----------------------------------------------------------------------------------\n",
      "const              0.2043      0.081      2.526      0.012       0.046       0.363\n",
      "wheat_price.L1     0.6891      0.047     14.650      0.000       0.597       0.781\n",
      "wheat_price.L2     0.2696      0.047      5.733      0.000       0.177       0.362\n",
      "                                    Roots                                    \n",
      "=============================================================================\n",
      "                  Real          Imaginary           Modulus         Frequency\n",
      "-----------------------------------------------------------------------------\n",
      "AR.1            1.0334           +0.0000j            1.0334            0.0000\n",
      "AR.2           -3.5896           +0.0000j            3.5896            0.5000\n",
      "-----------------------------------------------------------------------------\n"
     ]
    }
   ],
   "source": [
    "#AR(2) Model\n",
    "ar_2 = AutoReg(df['wheat_price'], lags = 2).fit()\n",
    "ar_2_aic = ar_2.aic\n",
    "print('\\nAR(2) Results: \\n',ar_2.summary())"
   ]
  },
  {
   "cell_type": "markdown",
   "id": "3e3df37f-e974-43b4-84ab-5e72a9415356",
   "metadata": {},
   "source": [
    "### 1.2 ARIMA Model"
   ]
  },
  {
   "cell_type": "code",
   "execution_count": 9,
   "id": "1b14282c-b648-4748-be86-6ea242f06be3",
   "metadata": {},
   "outputs": [
    {
     "name": "stdout",
     "output_type": "stream",
     "text": [
      "Best ARIMA order based on AIC: (0, 1, 1)\n"
     ]
    }
   ],
   "source": [
    "#Find best params for ARIMA model\n",
    "p = range(0, 3)  # AR order\n",
    "d = range(0, 2)  # Differencing\n",
    "q = range(0, 3)  # MA order\n",
    "pdq = list(itertools.product(p, d, q))\n",
    "\n",
    "#use aic for best model, set up saves\n",
    "best_aic = float('inf')\n",
    "best_pdq = None\n",
    "\n",
    "for param in pdq:\n",
    "    try:\n",
    "        model = ARIMA(df['wheat_price'], order=param)\n",
    "        results = model.fit()\n",
    "        if results.aic < best_aic:\n",
    "            best_aic = results.aic\n",
    "            best_pdq = param\n",
    "    except:\n",
    "        continue\n",
    "\n",
    "best_arima_aic = best_aic\n",
    "\n",
    "print(f\"Best ARIMA order based on AIC: {best_pdq}\")"
   ]
  },
  {
   "cell_type": "code",
   "execution_count": 10,
   "id": "d4b1a78b-7296-4472-9959-4e2dac7ed219",
   "metadata": {},
   "outputs": [
    {
     "name": "stdout",
     "output_type": "stream",
     "text": [
      "ARIMA(0,1,1) Results: \n",
      "                                SARIMAX Results                                \n",
      "==============================================================================\n",
      "Dep. Variable:            wheat_price   No. Observations:                  421\n",
      "Model:                 ARIMA(0, 1, 1)   Log Likelihood                -374.330\n",
      "Date:                Sat, 26 Apr 2025   AIC                            752.660\n",
      "Time:                        13:46:53   BIC                            760.741\n",
      "Sample:                             0   HQIC                           755.854\n",
      "                                - 421                                         \n",
      "Covariance Type:                  opg                                         \n",
      "==============================================================================\n",
      "                 coef    std err          z      P>|z|      [0.025      0.975]\n",
      "------------------------------------------------------------------------------\n",
      "ma.L1         -0.3533      0.027    -13.308      0.000      -0.405      -0.301\n",
      "sigma2         0.3480      0.008     44.367      0.000       0.333       0.363\n",
      "===================================================================================\n",
      "Ljung-Box (L1) (Q):                   0.15   Jarque-Bera (JB):              6086.51\n",
      "Prob(Q):                              0.70   Prob(JB):                         0.00\n",
      "Heteroskedasticity (H):               3.45   Skew:                            -2.42\n",
      "Prob(H) (two-sided):                  0.00   Kurtosis:                        21.01\n",
      "===================================================================================\n",
      "\n",
      "Warnings:\n",
      "[1] Covariance matrix calculated using the outer product of gradients (complex-step).\n"
     ]
    }
   ],
   "source": [
    "#Test best model ARIMA(0,1,1)\n",
    "arima_011 = ARIMA(df['wheat_price'], order=best_pdq).fit()\n",
    "print('ARIMA(0,1,1) Results: \\n',arima_011.summary())"
   ]
  },
  {
   "cell_type": "markdown",
   "id": "d15e2b3f-dd6c-43e0-a55a-e70ccaf05ebe",
   "metadata": {},
   "source": [
    "### 1.4 ARIMAX Model"
   ]
  },
  {
   "cell_type": "code",
   "execution_count": 12,
   "id": "9e58a2c1-a010-4ba8-8fe4-2bcf438f987b",
   "metadata": {},
   "outputs": [],
   "source": [
    "#Save exogenous data separately\n",
    "exog_data = df.copy().drop(columns = ['wheat_price','date'])\n",
    "\n",
    "#standardize exogenous features\n",
    "exog_data = (exog_data - exog_data.mean()) / exog_data.std()"
   ]
  },
  {
   "cell_type": "code",
   "execution_count": 13,
   "id": "8c806402-3c8c-48b0-abd2-db0832ae70fe",
   "metadata": {},
   "outputs": [
    {
     "name": "stdout",
     "output_type": "stream",
     "text": [
      "Best ARIMAX model order based on AIC: (2, 1, 1); AIC = 722.5592045787773\n"
     ]
    }
   ],
   "source": [
    "#Find best params for ARIMAX model\n",
    "p = range(0, 3)  #AR order\n",
    "d = range(0, 2)  #differencing options\n",
    "q = range(0, 3)  #MA order\n",
    "pdq = list(itertools.product(p, d, q))\n",
    "\n",
    "#find best model params by aic\n",
    "best_arimax_aic = float('inf')\n",
    "best_arimax_params = None\n",
    "for param in pdq:\n",
    "    try:\n",
    "        model = SARIMAX(df['wheat_price'], \n",
    "                        exog=exog_data,\n",
    "                        order=param, \n",
    "                        seasonal_order=(0, 0, 0, 0))  #don't add seasonality\n",
    "        results = model.fit(disp=False)\n",
    "        if results.aic < best_arimax_aic:\n",
    "            best_arimax_aic = results.aic\n",
    "            best_arimax_params = param\n",
    "    except:\n",
    "        continue\n",
    "\n",
    "print(f\"Best ARIMAX model order based on AIC: {best_arimax_params}; AIC = {best_arimax_aic}\")"
   ]
  },
  {
   "cell_type": "code",
   "execution_count": 14,
   "id": "1917c57e-d7c5-48db-b55d-00252eb8d6c2",
   "metadata": {},
   "outputs": [
    {
     "name": "stdout",
     "output_type": "stream",
     "text": [
      "ARIMAX(2,1,1) Results: \n",
      "                                SARIMAX Results                                \n",
      "==============================================================================\n",
      "Dep. Variable:            wheat_price   No. Observations:                  421\n",
      "Model:               SARIMAX(2, 1, 1)   Log Likelihood                -348.280\n",
      "Date:                Sat, 26 Apr 2025   AIC                            722.559\n",
      "Time:                        13:46:58   BIC                            775.083\n",
      "Sample:                             0   HQIC                           743.319\n",
      "                                - 421                                         \n",
      "Covariance Type:                  opg                                         \n",
      "=====================================================================================\n",
      "                        coef    std err          z      P>|z|      [0.025      0.975]\n",
      "-------------------------------------------------------------------------------------\n",
      "fertilizer_idx        0.4169      0.236      1.766      0.077      -0.046       0.880\n",
      "avg_temp             -0.1146      0.067     -1.705      0.088      -0.246       0.017\n",
      "drought_idx          -0.0926      0.079     -1.176      0.240      -0.247       0.062\n",
      "cpi                  -0.5039      0.613     -0.822      0.411      -1.706       0.698\n",
      "commodity_imp_idx     0.5425      0.490      1.107      0.268      -0.418       1.503\n",
      "commodity_exp_idx     0.4562      0.429      1.065      0.287      -0.384       1.296\n",
      "flour_price           0.2059      0.161      1.277      0.202      -0.110       0.522\n",
      "corn_price            0.7245      0.189      3.823      0.000       0.353       1.096\n",
      "crude_oil_price      -0.1768      0.255     -0.693      0.488      -0.677       0.323\n",
      "ar.L1                 0.5133      0.036     14.105      0.000       0.442       0.585\n",
      "ar.L2                 0.1938      0.043      4.520      0.000       0.110       0.278\n",
      "ma.L1                -0.9844      0.022    -44.430      0.000      -1.028      -0.941\n",
      "sigma2                0.3063      0.012     25.709      0.000       0.283       0.330\n",
      "===================================================================================\n",
      "Ljung-Box (L1) (Q):                   0.04   Jarque-Bera (JB):              6481.87\n",
      "Prob(Q):                              0.84   Prob(JB):                         0.00\n",
      "Heteroskedasticity (H):               3.45   Skew:                            -1.91\n",
      "Prob(H) (two-sided):                  0.00   Kurtosis:                        21.86\n",
      "===================================================================================\n",
      "\n",
      "Warnings:\n",
      "[1] Covariance matrix calculated using the outer product of gradients (complex-step).\n"
     ]
    }
   ],
   "source": [
    "#Test ARIMAX(2,1,1)\n",
    "arimax_101 = SARIMAX(df['wheat_price'], \n",
    "                     exog=exog_data,\n",
    "                     order=best_arimax_params, \n",
    "                     seasonal_order=(0, 0, 0, 0)).fit(disp=False)\n",
    "print('ARIMAX(2,1,1) Results: \\n',arimax_101.summary())"
   ]
  },
  {
   "cell_type": "markdown",
   "id": "1e17b7c2-9326-4f1a-b488-aa78f7b3bae3",
   "metadata": {},
   "source": [
    "### 1.4 SARIMAX Model"
   ]
  },
  {
   "cell_type": "markdown",
   "id": "becf7878-3eb1-407f-be80-b4f27c5fb457",
   "metadata": {},
   "source": [
    "#### 1.4.1 ACF Plot For Seasonality Test"
   ]
  },
  {
   "cell_type": "code",
   "execution_count": 17,
   "id": "f1b96cb1-5bd3-4632-a515-ce17eeb6cb33",
   "metadata": {},
   "outputs": [
    {
     "data": {
      "text/plain": [
       "<Figure size 1200x1000 with 0 Axes>"
      ]
     },
     "metadata": {},
     "output_type": "display_data"
    },
    {
     "data": {
      "image/png": "[encoded data removed]",
      "text/plain": [
       "<Figure size 640x480 with 1 Axes>"
      ]
     },
     "metadata": {},
     "output_type": "display_data"
    }
   ],
   "source": [
    "#Plot ACF\n",
    "plt.figure(figsize=(12, 10))\n",
    "plot_acf(df['wheat_price'], lags=36 ) \n",
    "plt.title('Autocorrelation Function (ACF)')\n",
    "plt.tight_layout()\n",
    "plt.show()"
   ]
  },
  {
   "cell_type": "markdown",
   "id": "0cc7ec0b-61a0-4772-a98f-1365bc010bcd",
   "metadata": {},
   "source": [
    "#### 1.4.2 SARIMAX Model Implementation"
   ]
  },
  {
   "cell_type": "code",
   "execution_count": 19,
   "id": "d3991625-1cb1-4e1d-9a77-5a0830498af1",
   "metadata": {},
   "outputs": [
    {
     "name": "stdout",
     "output_type": "stream",
     "text": [
      "\n",
      "Best SARIMAX model: SARIMAX(2, 1, 1)x(1, 0, 1, 12) with AIC: 713.4062354399728\n"
     ]
    }
   ],
   "source": [
    "#Find best seasonal params for SARIMAX\n",
    "P = range(0, 2)  #seasonal AR order\n",
    "D = range(0, 2)  #seasonal differencing\n",
    "Q = range(0, 2)  #seasonal MA order\n",
    "s = 12  #yearly seasonality\n",
    "\n",
    "#Create all combinations of seasonal parameters\n",
    "seasonal_pdq = list(itertools.product(P, D, Q, [s]))\n",
    "\n",
    "# Find best SARIMAX model with both ARIMA and seasonal components\n",
    "best_sarimax_aic = float('inf')\n",
    "best_seasonal_params = None\n",
    "\n",
    "# Grid search over seasonal parameters\n",
    "for seasonal_param in seasonal_pdq:\n",
    "    try:\n",
    "        model = SARIMAX(df['wheat_price'], \n",
    "                       exog=exog_data,\n",
    "                       order=best_arimax_params, #use best arimax params\n",
    "                       seasonal_order=seasonal_param,)\n",
    "        \n",
    "        results = model.fit(disp=False, maxiter=100)\n",
    "        current_aic = results.aic\n",
    "        \n",
    "        if current_aic < best_sarimax_aic:\n",
    "            best_sarimax_aic = current_aic\n",
    "            best_seasonal_params = seasonal_param\n",
    "            sarimax_results = results\n",
    "    except Exception as e:\n",
    "        \n",
    "        continue\n",
    "\n",
    "print(f\"\\nBest SARIMAX model: SARIMAX{best_arimax_params}x{best_seasonal_params} with AIC: {best_sarimax_aic:}\")"
   ]
  },
  {
   "cell_type": "code",
   "execution_count": 20,
   "id": "c0a34362-9acd-46fd-91b5-fd7f416785f6",
   "metadata": {},
   "outputs": [
    {
     "name": "stdout",
     "output_type": "stream",
     "text": [
      "                                     SARIMAX Results                                      \n",
      "==========================================================================================\n",
      "Dep. Variable:                        wheat_price   No. Observations:                  421\n",
      "Model:             SARIMAX(2, 1, 1)x(1, 0, 1, 12)   Log Likelihood                -341.703\n",
      "Date:                            Sat, 26 Apr 2025   AIC                            713.406\n",
      "Time:                                    13:47:30   BIC                            774.010\n",
      "Sample:                                         0   HQIC                           737.360\n",
      "                                            - 421                                         \n",
      "Covariance Type:                              opg                                         \n",
      "=====================================================================================\n",
      "                        coef    std err          z      P>|z|      [0.025      0.975]\n",
      "-------------------------------------------------------------------------------------\n",
      "fertilizer_idx        0.4238      0.252      1.683      0.092      -0.070       0.918\n",
      "avg_temp             -0.1186      0.070     -1.700      0.089      -0.255       0.018\n",
      "drought_idx          -0.0676      0.080     -0.841      0.400      -0.225       0.090\n",
      "cpi                  -0.5134      0.614     -0.836      0.403      -1.717       0.690\n",
      "commodity_imp_idx     0.4705      0.517      0.911      0.363      -0.542       1.483\n",
      "commodity_exp_idx     0.4658      0.484      0.962      0.336      -0.483       1.415\n",
      "flour_price           0.1870      0.159      1.175      0.240      -0.125       0.499\n",
      "corn_price            0.6998      0.185      3.789      0.000       0.338       1.062\n",
      "crude_oil_price      -0.1060      0.249     -0.425      0.671      -0.594       0.382\n",
      "ar.L1                 0.5086      0.036     13.960      0.000       0.437       0.580\n",
      "ar.L2                 0.1935      0.045      4.339      0.000       0.106       0.281\n",
      "ma.L1                -0.9894      0.023    -43.517      0.000      -1.034      -0.945\n",
      "ar.S.L12             -0.6969      0.080     -8.688      0.000      -0.854      -0.540\n",
      "ma.S.L12              0.8268      0.068     12.154      0.000       0.693       0.960\n",
      "sigma2                0.2959      0.011     26.224      0.000       0.274       0.318\n",
      "===================================================================================\n",
      "Ljung-Box (L1) (Q):                   0.02   Jarque-Bera (JB):              5559.67\n",
      "Prob(Q):                              0.88   Prob(JB):                         0.00\n",
      "Heteroskedasticity (H):               2.98   Skew:                            -1.42\n",
      "Prob(H) (two-sided):                  0.00   Kurtosis:                        20.60\n",
      "===================================================================================\n",
      "\n",
      "Warnings:\n",
      "[1] Covariance matrix calculated using the outer product of gradients (complex-step).\n"
     ]
    }
   ],
   "source": [
    "#Test SARIMAX(2,1,1)x(0,0,1,12)\n",
    "print(sarimax_results.summary())"
   ]
  },
  {
   "cell_type": "markdown",
   "id": "6542b097-49e4-4c0e-99e7-2ea2fc51d480",
   "metadata": {},
   "source": [
    "### 1.5 Next Year Forecasting"
   ]
  },
  {
   "cell_type": "markdown",
   "id": "7dc72d51-d0d5-4d5b-9dea-7e78900b999e",
   "metadata": {},
   "source": [
    "#### 1.5.1 Predict Future Exogenous Variables Using VAR"
   ]
  },
  {
   "cell_type": "code",
   "execution_count": 23,
   "id": "91a8a2a9-a779-417c-9d9d-12e15e225441",
   "metadata": {},
   "outputs": [
    {
     "name": "stdout",
     "output_type": "stream",
     "text": [
      " VAR Order Selection (* highlights the minimums)  \n",
      "==================================================\n",
      "       AIC         BIC         FPE         HQIC   \n",
      "--------------------------------------------------\n",
      "0       -13.55      -13.47   1.298e-06      -13.52\n",
      "1       -42.29      -41.41   4.322e-19      -41.94\n",
      "2       -45.21     -43.54*   2.315e-20      -44.55\n",
      "3       -45.68      -43.22   1.449e-20      -44.71\n",
      "4       -46.01      -42.75   1.052e-20     -44.72*\n",
      "5      -46.04*      -41.99  1.018e-20*      -44.44\n",
      "6       -46.03      -41.19   1.034e-20      -44.12\n",
      "7       -45.92      -40.29   1.168e-20      -43.69\n",
      "8       -45.84      -39.41   1.282e-20      -43.30\n",
      "9       -45.81      -38.59   1.343e-20      -42.95\n",
      "10      -45.94      -37.93   1.200e-20      -42.77\n",
      "--------------------------------------------------\n",
      "Optimal Lag: 5\n"
     ]
    }
   ],
   "source": [
    "#VAR model\n",
    "var_model = VAR(exog_data)\n",
    "lag_order_results = var_model.select_order(maxlags=10)\n",
    "print(lag_order_results.summary())\n",
    "optimal_lag = lag_order_results.aic\n",
    "print(f'Optimal Lag: {optimal_lag}')\n",
    "\n",
    "# Fit the model with the optimal lag\n",
    "var_fitted = var_model.fit(maxlags=optimal_lag)  # Use the optimal lag found\n",
    "\n",
    "# Forecast future values\n",
    "future_exog = var_fitted.forecast(y=exog_data.values[-optimal_lag:], steps=12)\n",
    "future_exog = pd.DataFrame(future_exog, columns=exog_data.columns)"
   ]
  },
  {
   "cell_type": "markdown",
   "id": "5884413b-b817-47d3-bfee-a3734cd25d29",
   "metadata": {},
   "source": [
    "#### 1.5.2 Forecast For Each Model"
   ]
  },
  {
   "cell_type": "code",
   "execution_count": 25,
   "id": "ffc775ba-6234-4ab0-9b32-e7137122a623",
   "metadata": {},
   "outputs": [],
   "source": [
    "#AR(1) Forecasting\n",
    "ar_1_forecast = ar_1.predict(start=len(df), end=len(df) + 11)\n",
    "#AR(2) forecasting\n",
    "ar_2_forecast = ar_2.predict(start=len(df), end=len(df) + 11)\n",
    "#ARIMA forecasting\n",
    "arima_011_forecast = arima_011.forecast(steps=12)\n",
    "#ARIMAX forecasting\n",
    "arimax_101_forecast = arimax_101.forecast(steps=12, exog=future_exog)\n",
    "#SARIMAX forecasting\n",
    "sarimax_101_forecast = sarimax_results.forecast(steps=12, exog=future_exog)"
   ]
  },
  {
   "cell_type": "markdown",
   "id": "de47db4e-cd80-4f2e-a676-ae9d4145bd2c",
   "metadata": {},
   "source": [
    "### 1.6 Time Series Model Comparisons"
   ]
  },
  {
   "cell_type": "code",
   "execution_count": 27,
   "id": "9f286bde-207f-4dde-9276-27e4a1fe3de9",
   "metadata": {},
   "outputs": [
    {
     "data": {
      "text/html": [
       "<div>\n",
       "<style scoped>\n",
       "    .dataframe tbody tr th:only-of-type {\n",
       "        vertical-align: middle;\n",
       "    }\n",
       "\n",
       "    .dataframe tbody tr th {\n",
       "        vertical-align: top;\n",
       "    }\n",
       "\n",
       "    .dataframe thead th {\n",
       "        text-align: right;\n",
       "    }\n",
       "</style>\n",
       "<table border=\"1\" class=\"dataframe\">\n",
       "  <thead>\n",
       "    <tr style=\"text-align: right;\">\n",
       "      <th></th>\n",
       "      <th>Month</th>\n",
       "      <th>AR(1)</th>\n",
       "      <th>AR(2)</th>\n",
       "      <th>ARIMA</th>\n",
       "      <th>ARIMAX</th>\n",
       "      <th>SARIMAX</th>\n",
       "    </tr>\n",
       "  </thead>\n",
       "  <tbody>\n",
       "    <tr>\n",
       "      <th>0</th>\n",
       "      <td>Nov 2024</td>\n",
       "      <td>5.550153</td>\n",
       "      <td>5.544661</td>\n",
       "      <td>5.5598</td>\n",
       "      <td>5.940821</td>\n",
       "      <td>5.901679</td>\n",
       "    </tr>\n",
       "    <tr>\n",
       "      <th>1</th>\n",
       "      <td>Dec 2024</td>\n",
       "      <td>5.512544</td>\n",
       "      <td>5.532288</td>\n",
       "      <td>5.5598</td>\n",
       "      <td>6.194767</td>\n",
       "      <td>6.142488</td>\n",
       "    </tr>\n",
       "    <tr>\n",
       "      <th>2</th>\n",
       "      <td>Jan 2025</td>\n",
       "      <td>5.477047</td>\n",
       "      <td>5.511539</td>\n",
       "      <td>5.5598</td>\n",
       "      <td>6.394239</td>\n",
       "      <td>6.456343</td>\n",
       "    </tr>\n",
       "    <tr>\n",
       "      <th>3</th>\n",
       "      <td>Feb 2025</td>\n",
       "      <td>5.443543</td>\n",
       "      <td>5.493904</td>\n",
       "      <td>5.5598</td>\n",
       "      <td>6.518453</td>\n",
       "      <td>6.357116</td>\n",
       "    </tr>\n",
       "    <tr>\n",
       "      <th>4</th>\n",
       "      <td>Mar 2025</td>\n",
       "      <td>5.411921</td>\n",
       "      <td>5.476158</td>\n",
       "      <td>5.5598</td>\n",
       "      <td>6.630509</td>\n",
       "      <td>6.509262</td>\n",
       "    </tr>\n",
       "    <tr>\n",
       "      <th>5</th>\n",
       "      <td>Apr 2025</td>\n",
       "      <td>5.382076</td>\n",
       "      <td>5.459175</td>\n",
       "      <td>5.5598</td>\n",
       "      <td>6.784811</td>\n",
       "      <td>6.548802</td>\n",
       "    </tr>\n",
       "    <tr>\n",
       "      <th>6</th>\n",
       "      <td>May 2025</td>\n",
       "      <td>5.353906</td>\n",
       "      <td>5.442687</td>\n",
       "      <td>5.5598</td>\n",
       "      <td>6.981090</td>\n",
       "      <td>6.746040</td>\n",
       "    </tr>\n",
       "    <tr>\n",
       "      <th>7</th>\n",
       "      <td>Jun 2025</td>\n",
       "      <td>5.327319</td>\n",
       "      <td>5.426746</td>\n",
       "      <td>5.5598</td>\n",
       "      <td>7.198379</td>\n",
       "      <td>6.981185</td>\n",
       "    </tr>\n",
       "    <tr>\n",
       "      <th>8</th>\n",
       "      <td>Jul 2025</td>\n",
       "      <td>5.302225</td>\n",
       "      <td>5.411316</td>\n",
       "      <td>5.5598</td>\n",
       "      <td>7.434037</td>\n",
       "      <td>7.219322</td>\n",
       "    </tr>\n",
       "    <tr>\n",
       "      <th>9</th>\n",
       "      <td>Aug 2025</td>\n",
       "      <td>5.278540</td>\n",
       "      <td>5.396386</td>\n",
       "      <td>5.5598</td>\n",
       "      <td>7.665543</td>\n",
       "      <td>7.459403</td>\n",
       "    </tr>\n",
       "    <tr>\n",
       "      <th>10</th>\n",
       "      <td>Sep 2025</td>\n",
       "      <td>5.256185</td>\n",
       "      <td>5.381937</td>\n",
       "      <td>5.5598</td>\n",
       "      <td>7.867210</td>\n",
       "      <td>7.655558</td>\n",
       "    </tr>\n",
       "    <tr>\n",
       "      <th>11</th>\n",
       "      <td>Oct 2025</td>\n",
       "      <td>5.235086</td>\n",
       "      <td>5.367955</td>\n",
       "      <td>5.5598</td>\n",
       "      <td>8.017705</td>\n",
       "      <td>7.805578</td>\n",
       "    </tr>\n",
       "  </tbody>\n",
       "</table>\n",
       "</div>"
      ],
      "text/plain": [
       "       Month     AR(1)     AR(2)   ARIMA    ARIMAX   SARIMAX\n",
       "0   Nov 2024  5.550153  5.544661  5.5598  5.940821  5.901679\n",
       "1   Dec 2024  5.512544  5.532288  5.5598  6.194767  6.142488\n",
       "2   Jan 2025  5.477047  5.511539  5.5598  6.394239  6.456343\n",
       "3   Feb 2025  5.443543  5.493904  5.5598  6.518453  6.357116\n",
       "4   Mar 2025  5.411921  5.476158  5.5598  6.630509  6.509262\n",
       "5   Apr 2025  5.382076  5.459175  5.5598  6.784811  6.548802\n",
       "6   May 2025  5.353906  5.442687  5.5598  6.981090  6.746040\n",
       "7   Jun 2025  5.327319  5.426746  5.5598  7.198379  6.981185\n",
       "8   Jul 2025  5.302225  5.411316  5.5598  7.434037  7.219322\n",
       "9   Aug 2025  5.278540  5.396386  5.5598  7.665543  7.459403\n",
       "10  Sep 2025  5.256185  5.381937  5.5598  7.867210  7.655558\n",
       "11  Oct 2025  5.235086  5.367955  5.5598  8.017705  7.805578"
      ]
     },
     "execution_count": 27,
     "metadata": {},
     "output_type": "execute_result"
    }
   ],
   "source": [
    "#Compare forecasts using df\n",
    "forecast_df = pd.DataFrame({\n",
    "    'Month': ['Nov 2024', 'Dec 2024', 'Jan 2025', 'Feb 2025', 'Mar 2025', 'Apr 2025', 'May 2025',\n",
    "             'Jun 2025', 'Jul 2025','Aug 2025', 'Sep 2025', 'Oct 2025'],\n",
    "    'AR(1)': ar_1_forecast,\n",
    "    'AR(2)': ar_2_forecast,\n",
    "    'ARIMA': arima_011_forecast,\n",
    "    'ARIMAX': arimax_101_forecast,\n",
    "    'SARIMAX': sarimax_101_forecast\n",
    "}).reset_index(drop = True)\n",
    "forecast_df"
   ]
  },
  {
   "cell_type": "code",
   "execution_count": 28,
   "id": "44642100-1600-459e-9f11-72f3c7ec9d11",
   "metadata": {},
   "outputs": [
    {
     "data": {
      "text/html": [
       "<div>\n",
       "<style scoped>\n",
       "    .dataframe tbody tr th:only-of-type {\n",
       "        vertical-align: middle;\n",
       "    }\n",
       "\n",
       "    .dataframe tbody tr th {\n",
       "        vertical-align: top;\n",
       "    }\n",
       "\n",
       "    .dataframe thead th {\n",
       "        text-align: right;\n",
       "    }\n",
       "</style>\n",
       "<table border=\"1\" class=\"dataframe\">\n",
       "  <thead>\n",
       "    <tr style=\"text-align: right;\">\n",
       "      <th></th>\n",
       "      <th>Model</th>\n",
       "      <th>AIC</th>\n",
       "    </tr>\n",
       "  </thead>\n",
       "  <tbody>\n",
       "    <tr>\n",
       "      <th>0</th>\n",
       "      <td>AR(1)</td>\n",
       "      <td>786.896034</td>\n",
       "    </tr>\n",
       "    <tr>\n",
       "      <th>1</th>\n",
       "      <td>AR(2)</td>\n",
       "      <td>756.273349</td>\n",
       "    </tr>\n",
       "    <tr>\n",
       "      <th>2</th>\n",
       "      <td>ARIMA</td>\n",
       "      <td>752.660009</td>\n",
       "    </tr>\n",
       "    <tr>\n",
       "      <th>3</th>\n",
       "      <td>ARIMAX</td>\n",
       "      <td>722.559205</td>\n",
       "    </tr>\n",
       "    <tr>\n",
       "      <th>4</th>\n",
       "      <td>SARIMAX</td>\n",
       "      <td>713.406235</td>\n",
       "    </tr>\n",
       "  </tbody>\n",
       "</table>\n",
       "</div>"
      ],
      "text/plain": [
       "     Model         AIC\n",
       "0    AR(1)  786.896034\n",
       "1    AR(2)  756.273349\n",
       "2    ARIMA  752.660009\n",
       "3   ARIMAX  722.559205\n",
       "4  SARIMAX  713.406235"
      ]
     },
     "execution_count": 28,
     "metadata": {},
     "output_type": "execute_result"
    }
   ],
   "source": [
    "#Compare AIC values\n",
    "ts_aic = pd.DataFrame({\n",
    "    'Model': ['AR(1)','AR(2)','ARIMA',\"ARIMAX\",'SARIMAX'],\n",
    "    'AIC': [ar_1_aic, ar_2_aic, best_arima_aic, best_arimax_aic, best_sarimax_aic]\n",
    "})\n",
    "ts_aic"
   ]
  },
  {
   "cell_type": "markdown",
   "id": "5e6bdd03-d14a-4366-96bb-bc6f61e85d8f",
   "metadata": {},
   "source": [
    "## 2 Machine Learning with SARIMAX"
   ]
  },
  {
   "cell_type": "markdown",
   "id": "71c0e869-2e2b-4ec7-a28f-43dabf343e98",
   "metadata": {},
   "source": [
    "## 2.1 Implement Model"
   ]
  },
  {
   "cell_type": "code",
   "execution_count": 31,
   "id": "0873ff51-d5a7-406b-b2cc-3aabb0cac7bc",
   "metadata": {},
   "outputs": [],
   "source": [
    "#split data into 80% train and 20% test\n",
    "train_size = int(len(df) * 0.8)\n",
    "train_data = df.iloc[:train_size]\n",
    "test_data = df.iloc[train_size:]\n",
    "\n",
    "# Also split your exogenous variables\n",
    "exog_train = exog_data.iloc[:train_size]\n",
    "exog_test = exog_data.iloc[train_size:]"
   ]
  },
  {
   "cell_type": "code",
   "execution_count": 32,
   "id": "16932cdd-7b72-4d18-bcda-7d8c5844974a",
   "metadata": {},
   "outputs": [
    {
     "name": "stdout",
     "output_type": "stream",
     "text": [
      "                                     SARIMAX Results                                      \n",
      "==========================================================================================\n",
      "Dep. Variable:                        wheat_price   No. Observations:                  336\n",
      "Model:             SARIMAX(2, 1, 1)x(1, 0, 1, 12)   Log Likelihood                -246.786\n",
      "Date:                            Sat, 26 Apr 2025   AIC                            523.572\n",
      "Time:                                    13:47:31   BIC                            580.784\n",
      "Sample:                                         0   HQIC                           546.381\n",
      "                                            - 336                                         \n",
      "Covariance Type:                              opg                                         \n",
      "=====================================================================================\n",
      "                        coef    std err          z      P>|z|      [0.025      0.975]\n",
      "-------------------------------------------------------------------------------------\n",
      "fertilizer_idx        0.4496      0.348      1.292      0.196      -0.232       1.132\n",
      "avg_temp             -0.1269      0.062     -2.048      0.041      -0.248      -0.005\n",
      "drought_idx          -0.0356      0.092     -0.389      0.698      -0.215       0.144\n",
      "cpi                  -1.0418      1.313     -0.794      0.427      -3.615       1.531\n",
      "commodity_imp_idx    -1.4900      0.894     -1.666      0.096      -3.243       0.263\n",
      "commodity_exp_idx     3.0648      1.181      2.596      0.009       0.751       5.379\n",
      "flour_price           0.1515      0.355      0.426      0.670      -0.545       0.848\n",
      "corn_price            0.4062      0.217      1.871      0.061      -0.019       0.832\n",
      "crude_oil_price       0.5026      0.394      1.277      0.202      -0.269       1.274\n",
      "ar.L1                 0.5089      0.064      7.992      0.000       0.384       0.634\n",
      "ar.L2                 0.1142      0.052      2.182      0.029       0.012       0.217\n",
      "ma.L1                -0.9245      0.047    -19.488      0.000      -1.017      -0.832\n",
      "ar.S.L12              0.3988      0.202      1.976      0.048       0.003       0.795\n",
      "ma.S.L12             -0.5306      0.192     -2.761      0.006      -0.907      -0.154\n",
      "sigma2                0.2547      0.015     16.989      0.000       0.225       0.284\n",
      "===================================================================================\n",
      "Ljung-Box (L1) (Q):                   0.01   Jarque-Bera (JB):              6569.64\n",
      "Prob(Q):                              0.94   Prob(JB):                         0.00\n",
      "Heteroskedasticity (H):               2.45   Skew:                            -2.35\n",
      "Prob(H) (two-sided):                  0.00   Kurtosis:                        24.18\n",
      "===================================================================================\n",
      "\n",
      "Warnings:\n",
      "[1] Covariance matrix calculated using the outer product of gradients (complex-step).\n"
     ]
    }
   ],
   "source": [
    "#Fit SARIMAX model on training data\n",
    "sarimax_model = SARIMAX(\n",
    "    train_data['wheat_price'],\n",
    "    exog=exog_train,\n",
    "    order=best_arimax_params,\n",
    "    seasonal_order=best_seasonal_params\n",
    ")\n",
    "sarimax_results = sarimax_model.fit(disp=False)\n",
    "\n",
    "print(sarimax_results.summary())"
   ]
  },
  {
   "cell_type": "markdown",
   "id": "37e78373-7cf0-4da7-b7d3-6e732b409c02",
   "metadata": {},
   "source": [
    "## 2.2 Model Evaluation"
   ]
  },
  {
   "cell_type": "code",
   "execution_count": 34,
   "id": "5d3e08ed-5812-4a81-bda4-a60e7eabd88d",
   "metadata": {},
   "outputs": [],
   "source": [
    "#Forecast training relationship to test data\n",
    "forecast = sarimax_results.forecast(steps=len(test_data), exog=exog_test)\n",
    "forecast_df = pd.DataFrame({'forecast': forecast}, index=test_data.index)"
   ]
  },
  {
   "cell_type": "code",
   "execution_count": 58,
   "id": "1852d32b-c2c5-418c-80cc-2d282c72e85e",
   "metadata": {},
   "outputs": [
    {
     "name": "stdout",
     "output_type": "stream",
     "text": [
      "Out-of-sample performance metrics:\n",
      "RMSE: 1.2234\n",
      "MAE: 0.8464\n",
      "R Squared: 0.4703\n"
     ]
    }
   ],
   "source": [
    "mse = mean_squared_error(test_data['wheat_price'], forecast)\n",
    "rmse = np.sqrt(mse)\n",
    "mae = mean_absolute_error(test_data['wheat_price'], forecast)\n",
    "r2 = r2_score(test_data['wheat_price'], forecast)\n",
    "\n",
    "print(f\"Out-of-sample performance metrics:\")\n",
    "print(f\"RMSE: {rmse:.4f}\")\n",
    "print(f\"MAE: {mae:.4f}\")\n",
    "print(f\"R Squared: {r2:.4f}\")"
   ]
  },
  {
   "cell_type": "markdown",
   "id": "4712799c-9932-46ff-a335-605f54d0ec4d",
   "metadata": {},
   "source": [
    "### 2.3 Visualizations"
   ]
  },
  {
   "cell_type": "code",
   "execution_count": null,
   "id": "66723db5-431c-423c-89ba-337593a330eb",
   "metadata": {},
   "outputs": [],
   "source": []
  }
 ],
 "metadata": {
  "kernelspec": {
   "display_name": "Python 3 (ipykernel)",
   "language": "python",
   "name": "python3"
  },
  "language_info": {
   "codemirror_mode": {
    "name": "ipython",
    "version": 3
   },
   "file_extension": ".py",
   "mimetype": "text/x-python",
   "name": "python",
   "nbconvert_exporter": "python",
   "pygments_lexer": "ipython3",
   "version": "3.12.4"
  }
 },
 "nbformat": 4,
 "nbformat_minor": 5
}
